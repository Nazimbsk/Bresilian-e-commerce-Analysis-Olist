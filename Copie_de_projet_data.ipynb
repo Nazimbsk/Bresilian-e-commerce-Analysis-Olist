{
  "cells": [
    {
      "cell_type": "code",
      "execution_count": 2,
      "metadata": {
        "colab": {
          "base_uri": "https://localhost:8080/",
          "height": 17
        },
        "id": "CNhQsjZ0_LXe",
        "outputId": "1c9d7b2d-3437-4336-da95-53bddddb288c"
      },
      "outputs": [
        {
          "data": {
            "text/html": [
              "        <script type=\"text/javascript\">\n",
              "        window.PlotlyConfig = {MathJaxConfig: 'local'};\n",
              "        if (window.MathJax) {MathJax.Hub.Config({SVG: {font: \"STIX-Web\"}});}\n",
              "        if (typeof require !== 'undefined') {\n",
              "        require.undef(\"plotly\");\n",
              "        requirejs.config({\n",
              "            paths: {\n",
              "                'plotly': ['https://cdn.plot.ly/plotly-2.9.0.min']\n",
              "            }\n",
              "        });\n",
              "        require(['plotly'], function(Plotly) {\n",
              "            window._Plotly = Plotly;\n",
              "        });\n",
              "        }\n",
              "        </script>\n",
              "        "
            ]
          },
          "metadata": {},
          "output_type": "display_data"
        }
      ],
      "source": [
        "#importing libraries\n",
        "import pandas as pd\n",
        "import numpy as np\n",
        "import matplotlib.pyplot as plt\n",
        "from matplotlib import style\n",
        "import seaborn as sns\n",
        "sns.set_style(\"darkgrid\") \n",
        "import gc\n",
        "import itertools\n",
        "from datetime import datetime\n",
        "import dash\n",
        "from dash import dcc, html\n",
        "np.random.seed(42)\n",
        "import plotly\n",
        "from datetime import datetime, timedelta\n",
        "import plotly.offline as pyoff\n",
        "import plotly.graph_objs as go\n",
        "#initiate visualization library for jupyter notebook\n",
        "from plotly.offline import download_plotlyjs, init_notebook_mode, plot, iplot\n",
        "pyoff.init_notebook_mode(connected=True)\n",
        "%matplotlib inline"
      ]
    },
    {
      "cell_type": "code",
      "execution_count": 3,
      "metadata": {
        "id": "ZPsmwdfhDgU9"
      },
      "outputs": [],
      "source": [
        "customers = pd.read_csv('./archive/olist_customers_dataset.csv')\n",
        "order_items = pd.read_csv('./archive/olist_order_items_dataset.csv')\n",
        "order_payments = pd.read_csv('./archive/olist_order_payments_dataset.csv')\n",
        "orders = pd.read_csv('./archive/olist_orders_dataset.csv')"
      ]
    },
    {
      "cell_type": "code",
      "execution_count": 19,
      "metadata": {
        "colab": {
          "base_uri": "https://localhost:8080/"
        },
        "id": "mNzLhx2CItxw",
        "outputId": "099e65fc-e3f6-4a79-b4ef-ad50f3435fa8"
      },
      "outputs": [
        {
          "data": {
            "text/plain": [
              "(103886, 5)"
            ]
          },
          "execution_count": 19,
          "metadata": {},
          "output_type": "execute_result"
        }
      ],
      "source": [
        "# displaying data shape\n",
        "#dataset = [customers, geolocation, order_items, order_payments, order_reviews, orders, products, sellers, category_name_translation]\n",
        "dataset = {\n",
        "    'Customers': customers,\n",
        "    'Order Items': order_items,\n",
        "    'Payments': order_payments,\n",
        "    'Orders': orders\n",
        "}\n",
        "# for x, y in dataset.items():\n",
        "#     print(f'{x}', (list(y.shape)))\n"
      ]
    },
    {
      "cell_type": "code",
      "execution_count": null,
      "metadata": {
        "colab": {
          "base_uri": "https://localhost:8080/"
        },
        "id": "zpEpZ_bbJzvQ",
        "outputId": "490a97a5-7d80-461b-acab-564ca7973a97"
      },
      "outputs": [
        {
          "name": "stdout",
          "output_type": "stream",
          "text": [
            "Customers ['customer_id', 'customer_unique_id', 'customer_zip_code_prefix', 'customer_city', 'customer_state']\n",
            "\n",
            "Order Items ['order_id', 'order_item_id', 'product_id', 'seller_id', 'shipping_limit_date', 'price', 'freight_value']\n",
            "\n",
            "Payments ['order_id', 'payment_sequential', 'payment_type', 'payment_installments', 'payment_value']\n",
            "\n",
            "Orders ['order_id', 'customer_id', 'order_status', 'order_purchase_timestamp', 'order_approved_at', 'order_delivered_carrier_date', 'order_delivered_customer_date', 'order_estimated_delivery_date']\n",
            "\n"
          ]
        }
      ],
      "source": [
        "# displaying dataset column names\n",
        "for x, y in dataset.items():\n",
        "    print(f'{x}', f'{list(y.columns)}\\n')"
      ]
    },
    {
      "cell_type": "code",
      "execution_count": null,
      "metadata": {
        "colab": {
          "base_uri": "https://localhost:8080/"
        },
        "id": "dSMbXcrCKE_5",
        "outputId": "d1f944ac-cb71-4cc4-a39e-809bd30599da"
      },
      "outputs": [
        {
          "name": "stdout",
          "output_type": "stream",
          "text": [
            "Customers: False\n",
            "Order Items: False\n",
            "Payments: False\n",
            "Orders: True\n"
          ]
        }
      ],
      "source": [
        "# checking for null values in datasets\n",
        "for x, y in dataset.items():\n",
        "    print(f'{x}: {y.isnull().any().any()}')"
      ]
    },
    {
      "cell_type": "code",
      "execution_count": null,
      "metadata": {
        "colab": {
          "base_uri": "https://localhost:8080/"
        },
        "id": "P1yl_zJ2LKbw",
        "outputId": "45bc577b-9398-440a-cce7-95658a46b6d4"
      },
      "outputs": [
        {
          "name": "stdout",
          "output_type": "stream",
          "text": [
            "Orders [99441, 8] \n",
            "\n",
            "order_id                            0\n",
            "customer_id                         0\n",
            "order_status                        0\n",
            "order_purchase_timestamp            0\n",
            "order_approved_at                 160\n",
            "order_delivered_carrier_date     1783\n",
            "order_delivered_customer_date    2965\n",
            "order_estimated_delivery_date       0\n",
            "dtype: int64\n",
            "\n"
          ]
        }
      ],
      "source": [
        "# taking count for dataset with missing values\n",
        "for x, y in dataset.items():\n",
        "    if y.isnull().any().any():\n",
        "        print(f'{x}', (list(y.shape)),'\\n')\n",
        "        print(f'{y.isnull().sum()}\\n')"
      ]
    },
    {
      "cell_type": "code",
      "execution_count": 25,
      "metadata": {
        "colab": {
          "base_uri": "https://localhost:8080/"
        },
        "id": "003faUVSMY6g",
        "outputId": "e3943523-5533-4aca-bdfd-f3b288383a19"
      },
      "outputs": [
        {
          "name": "stdout",
          "output_type": "stream",
          "text": [
            "(117601, 22)\n"
          ]
        }
      ],
      "source": [
        "# creating master dataframe\n",
        "order_payments.head()\n",
        "df1 = order_payments.merge(order_items, on='order_id')\n",
        "df2 = df1.merge(orders, on='order_id')\n",
        "df = df2.merge(customers, on='customer_id')\n",
        "print(df.shape)"
      ]
    },
    {
      "cell_type": "code",
      "execution_count": 27,
      "metadata": {
        "colab": {
          "base_uri": "https://localhost:8080/",
          "height": 255
        },
        "id": "pa1V5oQhM8Mh",
        "outputId": "e8ca0c6d-e78e-4064-b4a9-467853ebac8b"
      },
      "outputs": [
        {
          "data": {
            "text/plain": [
              "(117601, 22)"
            ]
          },
          "execution_count": 27,
          "metadata": {},
          "output_type": "execute_result"
        }
      ],
      "source": [
        "# df.head()\n",
        "df.shape"
      ]
    },
    {
      "cell_type": "code",
      "execution_count": 28,
      "metadata": {
        "id": "tK5pCndnOqYy"
      },
      "outputs": [],
      "source": [
        "# converting date columns to datetime\n",
        "date_columns = ['shipping_limit_date', 'order_purchase_timestamp', 'order_approved_at', 'order_delivered_carrier_date', 'order_delivered_customer_date', 'order_estimated_delivery_date']\n",
        "for col in date_columns:\n",
        "    df[col] = pd.to_datetime(df[col], format='%Y-%m-%d %H:%M:%S')"
      ]
    },
    {
      "cell_type": "code",
      "execution_count": 29,
      "metadata": {
        "id": "TQMnw_SySr2F"
      },
      "outputs": [],
      "source": [
        "# cleaning up name columns\n",
        "df['customer_city'] = df['customer_city'].str.title()\n",
        "df['payment_type'] = df['payment_type'].str.replace('_', ' ').str.title()\n",
        "# engineering new/essential columns\n",
        "df['delivery_against_estimated'] = (df['order_estimated_delivery_date'] - df['order_delivered_customer_date']).dt.days\n",
        "df['order_purchase_year'] = df.order_purchase_timestamp.apply(lambda x: x.year)\n",
        "df['order_purchase_month'] = df.order_purchase_timestamp.apply(lambda x: x.month)\n",
        "df['order_purchase_dayofweek'] = df.order_purchase_timestamp.apply(lambda x: x.dayofweek)\n",
        "df['order_purchase_hour'] = df.order_purchase_timestamp.apply(lambda x: x.hour)\n",
        "df['order_purchase_day'] = df['order_purchase_dayofweek'].map({0:'Mon',1:'Tue',2:'Wed',3:'Thu',4:'Fri',5:'Sat',6:'Sun'})\n",
        "df['order_purchase_mon'] = df.order_purchase_timestamp.apply(lambda x: x.month).map({1:'Jan',2:'Feb',3:'Mar',4:'Apr',5:'May',6:'Jun',7:'Jul',8:'Aug',9:'Sep',10:'Oct',11:'Nov',12:'Dec'})\n",
        "# Changing the month attribute for correct ordenation\n",
        "df['month_year'] = df['order_purchase_month'].astype(str).apply(lambda x: '0' + x if len(x) == 1 else x)\n",
        "df['month_year'] = df['order_purchase_year'].astype(str) + '-' + df['month_year'].astype(str)\n",
        "#creating year month column\n",
        "df['month_y'] = df['order_purchase_timestamp'].map(lambda date: 100*date.year + date.month)"
      ]
    },
    {
      "cell_type": "code",
      "execution_count": 30,
      "metadata": {
        "colab": {
          "base_uri": "https://localhost:8080/",
          "height": 922
        },
        "id": "IJwZPr31T5j6",
        "outputId": "635e8b51-db38-4ca3-d921-1bd4071cc6d9"
      },
      "outputs": [
        {
          "name": "stderr",
          "output_type": "stream",
          "text": [
            "C:\\Users\\nazm1\\AppData\\Local\\Temp\\ipykernel_69940\\713982304.py:2: FutureWarning:\n",
            "\n",
            "Treating datetime data as categorical rather than numeric in `.describe` is deprecated and will be removed in a future version of pandas. Specify `datetime_is_numeric=True` to silence this warning and adopt the future behavior now.\n",
            "\n",
            "C:\\Users\\nazm1\\AppData\\Local\\Temp\\ipykernel_69940\\713982304.py:2: FutureWarning:\n",
            "\n",
            "Treating datetime data as categorical rather than numeric in `.describe` is deprecated and will be removed in a future version of pandas. Specify `datetime_is_numeric=True` to silence this warning and adopt the future behavior now.\n",
            "\n",
            "C:\\Users\\nazm1\\AppData\\Local\\Temp\\ipykernel_69940\\713982304.py:2: FutureWarning:\n",
            "\n",
            "Treating datetime data as categorical rather than numeric in `.describe` is deprecated and will be removed in a future version of pandas. Specify `datetime_is_numeric=True` to silence this warning and adopt the future behavior now.\n",
            "\n",
            "C:\\Users\\nazm1\\AppData\\Local\\Temp\\ipykernel_69940\\713982304.py:2: FutureWarning:\n",
            "\n",
            "Treating datetime data as categorical rather than numeric in `.describe` is deprecated and will be removed in a future version of pandas. Specify `datetime_is_numeric=True` to silence this warning and adopt the future behavior now.\n",
            "\n",
            "C:\\Users\\nazm1\\AppData\\Local\\Temp\\ipykernel_69940\\713982304.py:2: FutureWarning:\n",
            "\n",
            "Treating datetime data as categorical rather than numeric in `.describe` is deprecated and will be removed in a future version of pandas. Specify `datetime_is_numeric=True` to silence this warning and adopt the future behavior now.\n",
            "\n",
            "C:\\Users\\nazm1\\AppData\\Local\\Temp\\ipykernel_69940\\713982304.py:2: FutureWarning:\n",
            "\n",
            "Treating datetime data as categorical rather than numeric in `.describe` is deprecated and will be removed in a future version of pandas. Specify `datetime_is_numeric=True` to silence this warning and adopt the future behavior now.\n",
            "\n"
          ]
        },
        {
          "data": {
            "text/html": [
              "<div>\n",
              "<style scoped>\n",
              "    .dataframe tbody tr th:only-of-type {\n",
              "        vertical-align: middle;\n",
              "    }\n",
              "\n",
              "    .dataframe tbody tr th {\n",
              "        vertical-align: top;\n",
              "    }\n",
              "\n",
              "    .dataframe thead th {\n",
              "        text-align: right;\n",
              "    }\n",
              "</style>\n",
              "<table border=\"1\" class=\"dataframe\">\n",
              "  <thead>\n",
              "    <tr style=\"text-align: right;\">\n",
              "      <th></th>\n",
              "      <th>order_id</th>\n",
              "      <th>payment_sequential</th>\n",
              "      <th>payment_type</th>\n",
              "      <th>payment_installments</th>\n",
              "      <th>payment_value</th>\n",
              "      <th>order_item_id</th>\n",
              "      <th>product_id</th>\n",
              "      <th>seller_id</th>\n",
              "      <th>shipping_limit_date</th>\n",
              "      <th>price</th>\n",
              "      <th>freight_value</th>\n",
              "      <th>customer_id</th>\n",
              "      <th>order_status</th>\n",
              "      <th>order_purchase_timestamp</th>\n",
              "      <th>order_approved_at</th>\n",
              "      <th>order_delivered_carrier_date</th>\n",
              "      <th>order_delivered_customer_date</th>\n",
              "      <th>order_estimated_delivery_date</th>\n",
              "      <th>customer_unique_id</th>\n",
              "      <th>customer_zip_code_prefix</th>\n",
              "      <th>customer_city</th>\n",
              "      <th>customer_state</th>\n",
              "      <th>delivery_against_estimated</th>\n",
              "      <th>order_purchase_year</th>\n",
              "      <th>order_purchase_month</th>\n",
              "      <th>order_purchase_dayofweek</th>\n",
              "      <th>order_purchase_hour</th>\n",
              "      <th>order_purchase_day</th>\n",
              "      <th>order_purchase_mon</th>\n",
              "      <th>month_year</th>\n",
              "      <th>month_y</th>\n",
              "    </tr>\n",
              "  </thead>\n",
              "  <tbody>\n",
              "    <tr>\n",
              "      <th>count</th>\n",
              "      <td>117601</td>\n",
              "      <td>117601.000000</td>\n",
              "      <td>117601</td>\n",
              "      <td>117601.000000</td>\n",
              "      <td>117601.000000</td>\n",
              "      <td>117601.000000</td>\n",
              "      <td>117601</td>\n",
              "      <td>117601</td>\n",
              "      <td>117601</td>\n",
              "      <td>117601.000000</td>\n",
              "      <td>117601.000000</td>\n",
              "      <td>117601</td>\n",
              "      <td>117601</td>\n",
              "      <td>117601</td>\n",
              "      <td>117586</td>\n",
              "      <td>116356</td>\n",
              "      <td>115034</td>\n",
              "      <td>117601</td>\n",
              "      <td>117601</td>\n",
              "      <td>117601.000000</td>\n",
              "      <td>117601</td>\n",
              "      <td>117601</td>\n",
              "      <td>115034.000000</td>\n",
              "      <td>117601.000000</td>\n",
              "      <td>117601.000000</td>\n",
              "      <td>117601.000000</td>\n",
              "      <td>117601.000000</td>\n",
              "      <td>117601</td>\n",
              "      <td>117601</td>\n",
              "      <td>117601</td>\n",
              "      <td>117601.000000</td>\n",
              "    </tr>\n",
              "    <tr>\n",
              "      <th>unique</th>\n",
              "      <td>98665</td>\n",
              "      <td>NaN</td>\n",
              "      <td>4</td>\n",
              "      <td>NaN</td>\n",
              "      <td>NaN</td>\n",
              "      <td>NaN</td>\n",
              "      <td>32951</td>\n",
              "      <td>3095</td>\n",
              "      <td>93317</td>\n",
              "      <td>NaN</td>\n",
              "      <td>NaN</td>\n",
              "      <td>98665</td>\n",
              "      <td>7</td>\n",
              "      <td>98111</td>\n",
              "      <td>90173</td>\n",
              "      <td>81016</td>\n",
              "      <td>95663</td>\n",
              "      <td>449</td>\n",
              "      <td>95419</td>\n",
              "      <td>NaN</td>\n",
              "      <td>4110</td>\n",
              "      <td>27</td>\n",
              "      <td>NaN</td>\n",
              "      <td>NaN</td>\n",
              "      <td>NaN</td>\n",
              "      <td>NaN</td>\n",
              "      <td>NaN</td>\n",
              "      <td>7</td>\n",
              "      <td>12</td>\n",
              "      <td>24</td>\n",
              "      <td>NaN</td>\n",
              "    </tr>\n",
              "    <tr>\n",
              "      <th>top</th>\n",
              "      <td>895ab968e7bb0d5659d16cd74cd1650c</td>\n",
              "      <td>NaN</td>\n",
              "      <td>Credit Card</td>\n",
              "      <td>NaN</td>\n",
              "      <td>NaN</td>\n",
              "      <td>NaN</td>\n",
              "      <td>aca2eb7d00ea1a7b8ebd4e68314663af</td>\n",
              "      <td>4a3ca9315b744ce9f8e9374361493884</td>\n",
              "      <td>2017-08-14 20:43:31</td>\n",
              "      <td>NaN</td>\n",
              "      <td>NaN</td>\n",
              "      <td>270c23a11d024a44c896d1894b261a83</td>\n",
              "      <td>delivered</td>\n",
              "      <td>2017-08-08 20:26:31</td>\n",
              "      <td>2017-08-08 20:43:31</td>\n",
              "      <td>2017-08-10 11:58:14</td>\n",
              "      <td>2017-08-14 12:46:18</td>\n",
              "      <td>2017-12-20 00:00:00</td>\n",
              "      <td>9a736b248f67d166d2fbb006bcb877c3</td>\n",
              "      <td>NaN</td>\n",
              "      <td>Sao Paulo</td>\n",
              "      <td>SP</td>\n",
              "      <td>NaN</td>\n",
              "      <td>NaN</td>\n",
              "      <td>NaN</td>\n",
              "      <td>NaN</td>\n",
              "      <td>NaN</td>\n",
              "      <td>Mon</td>\n",
              "      <td>Aug</td>\n",
              "      <td>2017-11</td>\n",
              "      <td>NaN</td>\n",
              "    </tr>\n",
              "    <tr>\n",
              "      <th>freq</th>\n",
              "      <td>63</td>\n",
              "      <td>NaN</td>\n",
              "      <td>86769</td>\n",
              "      <td>NaN</td>\n",
              "      <td>NaN</td>\n",
              "      <td>NaN</td>\n",
              "      <td>536</td>\n",
              "      <td>2133</td>\n",
              "      <td>63</td>\n",
              "      <td>NaN</td>\n",
              "      <td>NaN</td>\n",
              "      <td>63</td>\n",
              "      <td>115035</td>\n",
              "      <td>63</td>\n",
              "      <td>63</td>\n",
              "      <td>63</td>\n",
              "      <td>63</td>\n",
              "      <td>649</td>\n",
              "      <td>75</td>\n",
              "      <td>NaN</td>\n",
              "      <td>18590</td>\n",
              "      <td>49566</td>\n",
              "      <td>NaN</td>\n",
              "      <td>NaN</td>\n",
              "      <td>NaN</td>\n",
              "      <td>NaN</td>\n",
              "      <td>NaN</td>\n",
              "      <td>19130</td>\n",
              "      <td>12632</td>\n",
              "      <td>9016</td>\n",
              "      <td>NaN</td>\n",
              "    </tr>\n",
              "    <tr>\n",
              "      <th>first</th>\n",
              "      <td>NaN</td>\n",
              "      <td>NaN</td>\n",
              "      <td>NaN</td>\n",
              "      <td>NaN</td>\n",
              "      <td>NaN</td>\n",
              "      <td>NaN</td>\n",
              "      <td>NaN</td>\n",
              "      <td>NaN</td>\n",
              "      <td>2016-09-19 00:15:34</td>\n",
              "      <td>NaN</td>\n",
              "      <td>NaN</td>\n",
              "      <td>NaN</td>\n",
              "      <td>NaN</td>\n",
              "      <td>2016-09-04 21:15:19</td>\n",
              "      <td>2016-10-04 09:43:32</td>\n",
              "      <td>2016-10-08 10:34:01</td>\n",
              "      <td>2016-10-11 13:46:32</td>\n",
              "      <td>2016-10-20 00:00:00</td>\n",
              "      <td>NaN</td>\n",
              "      <td>NaN</td>\n",
              "      <td>NaN</td>\n",
              "      <td>NaN</td>\n",
              "      <td>NaN</td>\n",
              "      <td>NaN</td>\n",
              "      <td>NaN</td>\n",
              "      <td>NaN</td>\n",
              "      <td>NaN</td>\n",
              "      <td>NaN</td>\n",
              "      <td>NaN</td>\n",
              "      <td>NaN</td>\n",
              "      <td>NaN</td>\n",
              "    </tr>\n",
              "    <tr>\n",
              "      <th>last</th>\n",
              "      <td>NaN</td>\n",
              "      <td>NaN</td>\n",
              "      <td>NaN</td>\n",
              "      <td>NaN</td>\n",
              "      <td>NaN</td>\n",
              "      <td>NaN</td>\n",
              "      <td>NaN</td>\n",
              "      <td>NaN</td>\n",
              "      <td>2020-04-09 22:35:08</td>\n",
              "      <td>NaN</td>\n",
              "      <td>NaN</td>\n",
              "      <td>NaN</td>\n",
              "      <td>NaN</td>\n",
              "      <td>2018-09-03 09:06:57</td>\n",
              "      <td>2018-09-03 17:40:06</td>\n",
              "      <td>2018-09-11 19:48:28</td>\n",
              "      <td>2018-10-17 13:22:46</td>\n",
              "      <td>2018-10-25 00:00:00</td>\n",
              "      <td>NaN</td>\n",
              "      <td>NaN</td>\n",
              "      <td>NaN</td>\n",
              "      <td>NaN</td>\n",
              "      <td>NaN</td>\n",
              "      <td>NaN</td>\n",
              "      <td>NaN</td>\n",
              "      <td>NaN</td>\n",
              "      <td>NaN</td>\n",
              "      <td>NaN</td>\n",
              "      <td>NaN</td>\n",
              "      <td>NaN</td>\n",
              "      <td>NaN</td>\n",
              "    </tr>\n",
              "    <tr>\n",
              "      <th>mean</th>\n",
              "      <td>NaN</td>\n",
              "      <td>1.093528</td>\n",
              "      <td>NaN</td>\n",
              "      <td>2.939482</td>\n",
              "      <td>172.686752</td>\n",
              "      <td>1.195900</td>\n",
              "      <td>NaN</td>\n",
              "      <td>NaN</td>\n",
              "      <td>NaN</td>\n",
              "      <td>120.824783</td>\n",
              "      <td>20.045990</td>\n",
              "      <td>NaN</td>\n",
              "      <td>NaN</td>\n",
              "      <td>NaN</td>\n",
              "      <td>NaN</td>\n",
              "      <td>NaN</td>\n",
              "      <td>NaN</td>\n",
              "      <td>NaN</td>\n",
              "      <td>NaN</td>\n",
              "      <td>35051.793097</td>\n",
              "      <td>NaN</td>\n",
              "      <td>NaN</td>\n",
              "      <td>11.043326</td>\n",
              "      <td>2017.538193</td>\n",
              "      <td>6.028129</td>\n",
              "      <td>2.745750</td>\n",
              "      <td>14.760002</td>\n",
              "      <td>NaN</td>\n",
              "      <td>NaN</td>\n",
              "      <td>NaN</td>\n",
              "      <td>201759.847399</td>\n",
              "    </tr>\n",
              "    <tr>\n",
              "      <th>std</th>\n",
              "      <td>NaN</td>\n",
              "      <td>0.726692</td>\n",
              "      <td>NaN</td>\n",
              "      <td>2.774223</td>\n",
              "      <td>267.592290</td>\n",
              "      <td>0.697706</td>\n",
              "      <td>NaN</td>\n",
              "      <td>NaN</td>\n",
              "      <td>NaN</td>\n",
              "      <td>184.479323</td>\n",
              "      <td>15.861315</td>\n",
              "      <td>NaN</td>\n",
              "      <td>NaN</td>\n",
              "      <td>NaN</td>\n",
              "      <td>NaN</td>\n",
              "      <td>NaN</td>\n",
              "      <td>NaN</td>\n",
              "      <td>NaN</td>\n",
              "      <td>NaN</td>\n",
              "      <td>29820.588877</td>\n",
              "      <td>NaN</td>\n",
              "      <td>NaN</td>\n",
              "      <td>10.162307</td>\n",
              "      <td>0.505065</td>\n",
              "      <td>3.229579</td>\n",
              "      <td>1.961257</td>\n",
              "      <td>5.325670</td>\n",
              "      <td>NaN</td>\n",
              "      <td>NaN</td>\n",
              "      <td>NaN</td>\n",
              "      <td>48.798820</td>\n",
              "    </tr>\n",
              "    <tr>\n",
              "      <th>min</th>\n",
              "      <td>NaN</td>\n",
              "      <td>1.000000</td>\n",
              "      <td>NaN</td>\n",
              "      <td>0.000000</td>\n",
              "      <td>0.000000</td>\n",
              "      <td>1.000000</td>\n",
              "      <td>NaN</td>\n",
              "      <td>NaN</td>\n",
              "      <td>NaN</td>\n",
              "      <td>0.850000</td>\n",
              "      <td>0.000000</td>\n",
              "      <td>NaN</td>\n",
              "      <td>NaN</td>\n",
              "      <td>NaN</td>\n",
              "      <td>NaN</td>\n",
              "      <td>NaN</td>\n",
              "      <td>NaN</td>\n",
              "      <td>NaN</td>\n",
              "      <td>NaN</td>\n",
              "      <td>1003.000000</td>\n",
              "      <td>NaN</td>\n",
              "      <td>NaN</td>\n",
              "      <td>-189.000000</td>\n",
              "      <td>2016.000000</td>\n",
              "      <td>1.000000</td>\n",
              "      <td>0.000000</td>\n",
              "      <td>0.000000</td>\n",
              "      <td>NaN</td>\n",
              "      <td>NaN</td>\n",
              "      <td>NaN</td>\n",
              "      <td>201609.000000</td>\n",
              "    </tr>\n",
              "    <tr>\n",
              "      <th>25%</th>\n",
              "      <td>NaN</td>\n",
              "      <td>1.000000</td>\n",
              "      <td>NaN</td>\n",
              "      <td>1.000000</td>\n",
              "      <td>60.870000</td>\n",
              "      <td>1.000000</td>\n",
              "      <td>NaN</td>\n",
              "      <td>NaN</td>\n",
              "      <td>NaN</td>\n",
              "      <td>39.900000</td>\n",
              "      <td>13.080000</td>\n",
              "      <td>NaN</td>\n",
              "      <td>NaN</td>\n",
              "      <td>NaN</td>\n",
              "      <td>NaN</td>\n",
              "      <td>NaN</td>\n",
              "      <td>NaN</td>\n",
              "      <td>NaN</td>\n",
              "      <td>NaN</td>\n",
              "      <td>11310.000000</td>\n",
              "      <td>NaN</td>\n",
              "      <td>NaN</td>\n",
              "      <td>6.000000</td>\n",
              "      <td>2017.000000</td>\n",
              "      <td>3.000000</td>\n",
              "      <td>1.000000</td>\n",
              "      <td>11.000000</td>\n",
              "      <td>NaN</td>\n",
              "      <td>NaN</td>\n",
              "      <td>NaN</td>\n",
              "      <td>201709.000000</td>\n",
              "    </tr>\n",
              "    <tr>\n",
              "      <th>50%</th>\n",
              "      <td>NaN</td>\n",
              "      <td>1.000000</td>\n",
              "      <td>NaN</td>\n",
              "      <td>2.000000</td>\n",
              "      <td>108.210000</td>\n",
              "      <td>1.000000</td>\n",
              "      <td>NaN</td>\n",
              "      <td>NaN</td>\n",
              "      <td>NaN</td>\n",
              "      <td>74.900000</td>\n",
              "      <td>16.290000</td>\n",
              "      <td>NaN</td>\n",
              "      <td>NaN</td>\n",
              "      <td>NaN</td>\n",
              "      <td>NaN</td>\n",
              "      <td>NaN</td>\n",
              "      <td>NaN</td>\n",
              "      <td>NaN</td>\n",
              "      <td>NaN</td>\n",
              "      <td>24315.000000</td>\n",
              "      <td>NaN</td>\n",
              "      <td>NaN</td>\n",
              "      <td>12.000000</td>\n",
              "      <td>2018.000000</td>\n",
              "      <td>6.000000</td>\n",
              "      <td>3.000000</td>\n",
              "      <td>15.000000</td>\n",
              "      <td>NaN</td>\n",
              "      <td>NaN</td>\n",
              "      <td>NaN</td>\n",
              "      <td>201801.000000</td>\n",
              "    </tr>\n",
              "    <tr>\n",
              "      <th>75%</th>\n",
              "      <td>NaN</td>\n",
              "      <td>1.000000</td>\n",
              "      <td>NaN</td>\n",
              "      <td>4.000000</td>\n",
              "      <td>189.260000</td>\n",
              "      <td>1.000000</td>\n",
              "      <td>NaN</td>\n",
              "      <td>NaN</td>\n",
              "      <td>NaN</td>\n",
              "      <td>134.900000</td>\n",
              "      <td>21.190000</td>\n",
              "      <td>NaN</td>\n",
              "      <td>NaN</td>\n",
              "      <td>NaN</td>\n",
              "      <td>NaN</td>\n",
              "      <td>NaN</td>\n",
              "      <td>NaN</td>\n",
              "      <td>NaN</td>\n",
              "      <td>NaN</td>\n",
              "      <td>58600.000000</td>\n",
              "      <td>NaN</td>\n",
              "      <td>NaN</td>\n",
              "      <td>16.000000</td>\n",
              "      <td>2018.000000</td>\n",
              "      <td>8.000000</td>\n",
              "      <td>4.000000</td>\n",
              "      <td>19.000000</td>\n",
              "      <td>NaN</td>\n",
              "      <td>NaN</td>\n",
              "      <td>NaN</td>\n",
              "      <td>201805.000000</td>\n",
              "    </tr>\n",
              "    <tr>\n",
              "      <th>max</th>\n",
              "      <td>NaN</td>\n",
              "      <td>29.000000</td>\n",
              "      <td>NaN</td>\n",
              "      <td>24.000000</td>\n",
              "      <td>13664.080000</td>\n",
              "      <td>21.000000</td>\n",
              "      <td>NaN</td>\n",
              "      <td>NaN</td>\n",
              "      <td>NaN</td>\n",
              "      <td>6735.000000</td>\n",
              "      <td>409.680000</td>\n",
              "      <td>NaN</td>\n",
              "      <td>NaN</td>\n",
              "      <td>NaN</td>\n",
              "      <td>NaN</td>\n",
              "      <td>NaN</td>\n",
              "      <td>NaN</td>\n",
              "      <td>NaN</td>\n",
              "      <td>NaN</td>\n",
              "      <td>99990.000000</td>\n",
              "      <td>NaN</td>\n",
              "      <td>NaN</td>\n",
              "      <td>146.000000</td>\n",
              "      <td>2018.000000</td>\n",
              "      <td>12.000000</td>\n",
              "      <td>6.000000</td>\n",
              "      <td>23.000000</td>\n",
              "      <td>NaN</td>\n",
              "      <td>NaN</td>\n",
              "      <td>NaN</td>\n",
              "      <td>201809.000000</td>\n",
              "    </tr>\n",
              "  </tbody>\n",
              "</table>\n",
              "</div>"
            ],
            "text/plain": [
              "                                order_id  payment_sequential payment_type  \\\n",
              "count                             117601       117601.000000       117601   \n",
              "unique                             98665                 NaN            4   \n",
              "top     895ab968e7bb0d5659d16cd74cd1650c                 NaN  Credit Card   \n",
              "freq                                  63                 NaN        86769   \n",
              "first                                NaN                 NaN          NaN   \n",
              "last                                 NaN                 NaN          NaN   \n",
              "mean                                 NaN            1.093528          NaN   \n",
              "std                                  NaN            0.726692          NaN   \n",
              "min                                  NaN            1.000000          NaN   \n",
              "25%                                  NaN            1.000000          NaN   \n",
              "50%                                  NaN            1.000000          NaN   \n",
              "75%                                  NaN            1.000000          NaN   \n",
              "max                                  NaN           29.000000          NaN   \n",
              "\n",
              "        payment_installments  payment_value  order_item_id  \\\n",
              "count          117601.000000  117601.000000  117601.000000   \n",
              "unique                   NaN            NaN            NaN   \n",
              "top                      NaN            NaN            NaN   \n",
              "freq                     NaN            NaN            NaN   \n",
              "first                    NaN            NaN            NaN   \n",
              "last                     NaN            NaN            NaN   \n",
              "mean                2.939482     172.686752       1.195900   \n",
              "std                 2.774223     267.592290       0.697706   \n",
              "min                 0.000000       0.000000       1.000000   \n",
              "25%                 1.000000      60.870000       1.000000   \n",
              "50%                 2.000000     108.210000       1.000000   \n",
              "75%                 4.000000     189.260000       1.000000   \n",
              "max                24.000000   13664.080000      21.000000   \n",
              "\n",
              "                              product_id                         seller_id  \\\n",
              "count                             117601                            117601   \n",
              "unique                             32951                              3095   \n",
              "top     aca2eb7d00ea1a7b8ebd4e68314663af  4a3ca9315b744ce9f8e9374361493884   \n",
              "freq                                 536                              2133   \n",
              "first                                NaN                               NaN   \n",
              "last                                 NaN                               NaN   \n",
              "mean                                 NaN                               NaN   \n",
              "std                                  NaN                               NaN   \n",
              "min                                  NaN                               NaN   \n",
              "25%                                  NaN                               NaN   \n",
              "50%                                  NaN                               NaN   \n",
              "75%                                  NaN                               NaN   \n",
              "max                                  NaN                               NaN   \n",
              "\n",
              "        shipping_limit_date          price  freight_value  \\\n",
              "count                117601  117601.000000  117601.000000   \n",
              "unique                93317            NaN            NaN   \n",
              "top     2017-08-14 20:43:31            NaN            NaN   \n",
              "freq                     63            NaN            NaN   \n",
              "first   2016-09-19 00:15:34            NaN            NaN   \n",
              "last    2020-04-09 22:35:08            NaN            NaN   \n",
              "mean                    NaN     120.824783      20.045990   \n",
              "std                     NaN     184.479323      15.861315   \n",
              "min                     NaN       0.850000       0.000000   \n",
              "25%                     NaN      39.900000      13.080000   \n",
              "50%                     NaN      74.900000      16.290000   \n",
              "75%                     NaN     134.900000      21.190000   \n",
              "max                     NaN    6735.000000     409.680000   \n",
              "\n",
              "                             customer_id order_status  \\\n",
              "count                             117601       117601   \n",
              "unique                             98665            7   \n",
              "top     270c23a11d024a44c896d1894b261a83    delivered   \n",
              "freq                                  63       115035   \n",
              "first                                NaN          NaN   \n",
              "last                                 NaN          NaN   \n",
              "mean                                 NaN          NaN   \n",
              "std                                  NaN          NaN   \n",
              "min                                  NaN          NaN   \n",
              "25%                                  NaN          NaN   \n",
              "50%                                  NaN          NaN   \n",
              "75%                                  NaN          NaN   \n",
              "max                                  NaN          NaN   \n",
              "\n",
              "       order_purchase_timestamp    order_approved_at  \\\n",
              "count                    117601               117586   \n",
              "unique                    98111                90173   \n",
              "top         2017-08-08 20:26:31  2017-08-08 20:43:31   \n",
              "freq                         63                   63   \n",
              "first       2016-09-04 21:15:19  2016-10-04 09:43:32   \n",
              "last        2018-09-03 09:06:57  2018-09-03 17:40:06   \n",
              "mean                        NaN                  NaN   \n",
              "std                         NaN                  NaN   \n",
              "min                         NaN                  NaN   \n",
              "25%                         NaN                  NaN   \n",
              "50%                         NaN                  NaN   \n",
              "75%                         NaN                  NaN   \n",
              "max                         NaN                  NaN   \n",
              "\n",
              "       order_delivered_carrier_date order_delivered_customer_date  \\\n",
              "count                        116356                        115034   \n",
              "unique                        81016                         95663   \n",
              "top             2017-08-10 11:58:14           2017-08-14 12:46:18   \n",
              "freq                             63                            63   \n",
              "first           2016-10-08 10:34:01           2016-10-11 13:46:32   \n",
              "last            2018-09-11 19:48:28           2018-10-17 13:22:46   \n",
              "mean                            NaN                           NaN   \n",
              "std                             NaN                           NaN   \n",
              "min                             NaN                           NaN   \n",
              "25%                             NaN                           NaN   \n",
              "50%                             NaN                           NaN   \n",
              "75%                             NaN                           NaN   \n",
              "max                             NaN                           NaN   \n",
              "\n",
              "       order_estimated_delivery_date                customer_unique_id  \\\n",
              "count                         117601                            117601   \n",
              "unique                           449                             95419   \n",
              "top              2017-12-20 00:00:00  9a736b248f67d166d2fbb006bcb877c3   \n",
              "freq                             649                                75   \n",
              "first            2016-10-20 00:00:00                               NaN   \n",
              "last             2018-10-25 00:00:00                               NaN   \n",
              "mean                             NaN                               NaN   \n",
              "std                              NaN                               NaN   \n",
              "min                              NaN                               NaN   \n",
              "25%                              NaN                               NaN   \n",
              "50%                              NaN                               NaN   \n",
              "75%                              NaN                               NaN   \n",
              "max                              NaN                               NaN   \n",
              "\n",
              "        customer_zip_code_prefix customer_city customer_state  \\\n",
              "count              117601.000000        117601         117601   \n",
              "unique                       NaN          4110             27   \n",
              "top                          NaN     Sao Paulo             SP   \n",
              "freq                         NaN         18590          49566   \n",
              "first                        NaN           NaN            NaN   \n",
              "last                         NaN           NaN            NaN   \n",
              "mean                35051.793097           NaN            NaN   \n",
              "std                 29820.588877           NaN            NaN   \n",
              "min                  1003.000000           NaN            NaN   \n",
              "25%                 11310.000000           NaN            NaN   \n",
              "50%                 24315.000000           NaN            NaN   \n",
              "75%                 58600.000000           NaN            NaN   \n",
              "max                 99990.000000           NaN            NaN   \n",
              "\n",
              "        delivery_against_estimated  order_purchase_year  order_purchase_month  \\\n",
              "count                115034.000000        117601.000000         117601.000000   \n",
              "unique                         NaN                  NaN                   NaN   \n",
              "top                            NaN                  NaN                   NaN   \n",
              "freq                           NaN                  NaN                   NaN   \n",
              "first                          NaN                  NaN                   NaN   \n",
              "last                           NaN                  NaN                   NaN   \n",
              "mean                     11.043326          2017.538193              6.028129   \n",
              "std                      10.162307             0.505065              3.229579   \n",
              "min                    -189.000000          2016.000000              1.000000   \n",
              "25%                       6.000000          2017.000000              3.000000   \n",
              "50%                      12.000000          2018.000000              6.000000   \n",
              "75%                      16.000000          2018.000000              8.000000   \n",
              "max                     146.000000          2018.000000             12.000000   \n",
              "\n",
              "        order_purchase_dayofweek  order_purchase_hour order_purchase_day  \\\n",
              "count              117601.000000        117601.000000             117601   \n",
              "unique                       NaN                  NaN                  7   \n",
              "top                          NaN                  NaN                Mon   \n",
              "freq                         NaN                  NaN              19130   \n",
              "first                        NaN                  NaN                NaN   \n",
              "last                         NaN                  NaN                NaN   \n",
              "mean                    2.745750            14.760002                NaN   \n",
              "std                     1.961257             5.325670                NaN   \n",
              "min                     0.000000             0.000000                NaN   \n",
              "25%                     1.000000            11.000000                NaN   \n",
              "50%                     3.000000            15.000000                NaN   \n",
              "75%                     4.000000            19.000000                NaN   \n",
              "max                     6.000000            23.000000                NaN   \n",
              "\n",
              "       order_purchase_mon month_year        month_y  \n",
              "count              117601     117601  117601.000000  \n",
              "unique                 12         24            NaN  \n",
              "top                   Aug    2017-11            NaN  \n",
              "freq                12632       9016            NaN  \n",
              "first                 NaN        NaN            NaN  \n",
              "last                  NaN        NaN            NaN  \n",
              "mean                  NaN        NaN  201759.847399  \n",
              "std                   NaN        NaN      48.798820  \n",
              "min                   NaN        NaN  201609.000000  \n",
              "25%                   NaN        NaN  201709.000000  \n",
              "50%                   NaN        NaN  201801.000000  \n",
              "75%                   NaN        NaN  201805.000000  \n",
              "max                   NaN        NaN  201809.000000  "
            ]
          },
          "execution_count": 30,
          "metadata": {},
          "output_type": "execute_result"
        }
      ],
      "source": [
        "# displaying summary staticstics of columns\n",
        "df.describe(include='all')"
      ]
    },
    {
      "cell_type": "code",
      "execution_count": 32,
      "metadata": {
        "colab": {
          "base_uri": "https://localhost:8080/",
          "height": 161
        },
        "id": "fZXA2ZVY0LK1",
        "outputId": "e150f5d9-5ad8-4fa1-9cc4-337c591c2352"
      },
      "outputs": [
        {
          "data": {
            "text/html": [
              "<div>\n",
              "<style scoped>\n",
              "    .dataframe tbody tr th:only-of-type {\n",
              "        vertical-align: middle;\n",
              "    }\n",
              "\n",
              "    .dataframe tbody tr th {\n",
              "        vertical-align: top;\n",
              "    }\n",
              "\n",
              "    .dataframe thead th {\n",
              "        text-align: right;\n",
              "    }\n",
              "</style>\n",
              "<table border=\"1\" class=\"dataframe\">\n",
              "  <thead>\n",
              "    <tr style=\"text-align: right;\">\n",
              "      <th></th>\n",
              "      <th>order_id</th>\n",
              "      <th>order_delivered_customer_date</th>\n",
              "      <th>month_year</th>\n",
              "      <th>order_purchase_mon</th>\n",
              "      <th>order_purchase_day</th>\n",
              "      <th>order_purchase_hour</th>\n",
              "      <th>order_purchase_dayofweek</th>\n",
              "      <th>order_purchase_month</th>\n",
              "      <th>order_purchase_year</th>\n",
              "      <th>delivery_against_estimated</th>\n",
              "      <th>customer_state</th>\n",
              "      <th>customer_city</th>\n",
              "      <th>customer_zip_code_prefix</th>\n",
              "      <th>customer_unique_id</th>\n",
              "      <th>order_estimated_delivery_date</th>\n",
              "      <th>order_delivered_carrier_date</th>\n",
              "      <th>payment_sequential</th>\n",
              "      <th>order_approved_at</th>\n",
              "      <th>order_purchase_timestamp</th>\n",
              "      <th>order_status</th>\n",
              "      <th>customer_id</th>\n",
              "      <th>freight_value</th>\n",
              "      <th>price</th>\n",
              "      <th>shipping_limit_date</th>\n",
              "      <th>seller_id</th>\n",
              "      <th>product_id</th>\n",
              "      <th>order_item_id</th>\n",
              "      <th>payment_value</th>\n",
              "      <th>payment_installments</th>\n",
              "      <th>payment_type</th>\n",
              "      <th>month_y</th>\n",
              "    </tr>\n",
              "  </thead>\n",
              "  <tbody>\n",
              "    <tr>\n",
              "      <th>Values</th>\n",
              "      <td>0.0</td>\n",
              "      <td>0.0</td>\n",
              "      <td>0.0</td>\n",
              "      <td>0.0</td>\n",
              "      <td>0.0</td>\n",
              "      <td>0.0</td>\n",
              "      <td>0.0</td>\n",
              "      <td>0.0</td>\n",
              "      <td>0.0</td>\n",
              "      <td>0.0</td>\n",
              "      <td>0.0</td>\n",
              "      <td>0.0</td>\n",
              "      <td>0.0</td>\n",
              "      <td>0.0</td>\n",
              "      <td>0.0</td>\n",
              "      <td>0.0</td>\n",
              "      <td>0.0</td>\n",
              "      <td>0.0</td>\n",
              "      <td>0.0</td>\n",
              "      <td>0.0</td>\n",
              "      <td>0.0</td>\n",
              "      <td>0.0</td>\n",
              "      <td>0.0</td>\n",
              "      <td>0.0</td>\n",
              "      <td>0.0</td>\n",
              "      <td>0.0</td>\n",
              "      <td>0.0</td>\n",
              "      <td>0.0</td>\n",
              "      <td>0.0</td>\n",
              "      <td>0.0</td>\n",
              "      <td>0.0</td>\n",
              "    </tr>\n",
              "    <tr>\n",
              "      <th>Percentage</th>\n",
              "      <td>0.0</td>\n",
              "      <td>0.0</td>\n",
              "      <td>0.0</td>\n",
              "      <td>0.0</td>\n",
              "      <td>0.0</td>\n",
              "      <td>0.0</td>\n",
              "      <td>0.0</td>\n",
              "      <td>0.0</td>\n",
              "      <td>0.0</td>\n",
              "      <td>0.0</td>\n",
              "      <td>0.0</td>\n",
              "      <td>0.0</td>\n",
              "      <td>0.0</td>\n",
              "      <td>0.0</td>\n",
              "      <td>0.0</td>\n",
              "      <td>0.0</td>\n",
              "      <td>0.0</td>\n",
              "      <td>0.0</td>\n",
              "      <td>0.0</td>\n",
              "      <td>0.0</td>\n",
              "      <td>0.0</td>\n",
              "      <td>0.0</td>\n",
              "      <td>0.0</td>\n",
              "      <td>0.0</td>\n",
              "      <td>0.0</td>\n",
              "      <td>0.0</td>\n",
              "      <td>0.0</td>\n",
              "      <td>0.0</td>\n",
              "      <td>0.0</td>\n",
              "      <td>0.0</td>\n",
              "      <td>0.0</td>\n",
              "    </tr>\n",
              "  </tbody>\n",
              "</table>\n",
              "</div>"
            ],
            "text/plain": [
              "            order_id  order_delivered_customer_date  month_year  \\\n",
              "Values           0.0                            0.0         0.0   \n",
              "Percentage       0.0                            0.0         0.0   \n",
              "\n",
              "            order_purchase_mon  order_purchase_day  order_purchase_hour  \\\n",
              "Values                     0.0                 0.0                  0.0   \n",
              "Percentage                 0.0                 0.0                  0.0   \n",
              "\n",
              "            order_purchase_dayofweek  order_purchase_month  \\\n",
              "Values                           0.0                   0.0   \n",
              "Percentage                       0.0                   0.0   \n",
              "\n",
              "            order_purchase_year  delivery_against_estimated  customer_state  \\\n",
              "Values                      0.0                         0.0             0.0   \n",
              "Percentage                  0.0                         0.0             0.0   \n",
              "\n",
              "            customer_city  customer_zip_code_prefix  customer_unique_id  \\\n",
              "Values                0.0                       0.0                 0.0   \n",
              "Percentage            0.0                       0.0                 0.0   \n",
              "\n",
              "            order_estimated_delivery_date  order_delivered_carrier_date  \\\n",
              "Values                                0.0                           0.0   \n",
              "Percentage                            0.0                           0.0   \n",
              "\n",
              "            payment_sequential  order_approved_at  order_purchase_timestamp  \\\n",
              "Values                     0.0                0.0                       0.0   \n",
              "Percentage                 0.0                0.0                       0.0   \n",
              "\n",
              "            order_status  customer_id  freight_value  price  \\\n",
              "Values               0.0          0.0            0.0    0.0   \n",
              "Percentage           0.0          0.0            0.0    0.0   \n",
              "\n",
              "            shipping_limit_date  seller_id  product_id  order_item_id  \\\n",
              "Values                      0.0        0.0         0.0            0.0   \n",
              "Percentage                  0.0        0.0         0.0            0.0   \n",
              "\n",
              "            payment_value  payment_installments  payment_type  month_y  \n",
              "Values                0.0                   0.0           0.0      0.0  \n",
              "Percentage            0.0                   0.0           0.0      0.0  "
            ]
          },
          "execution_count": 32,
          "metadata": {},
          "output_type": "execute_result"
        }
      ],
      "source": [
        "# displaying missing value counts and corresponding percentage against total observations\n",
        "\n",
        "missing_values = df.isnull().sum().sort_values(ascending = False)\n",
        "percentage = (df.isnull().sum()/df.isnull().count()*100).sort_values(ascending = False)\n",
        "pd.concat([missing_values, percentage], axis=1, keys=['Values', 'Percentage']).transpose()"
      ]
    },
    {
      "cell_type": "code",
      "execution_count": 33,
      "metadata": {
        "colab": {
          "base_uri": "https://localhost:8080/"
        },
        "id": "YYcL_OKx0imq",
        "outputId": "bc612220-10cf-4aa0-9133-fc68c7b1f519"
      },
      "outputs": [
        {
          "data": {
            "text/plain": [
              "False"
            ]
          },
          "execution_count": 33,
          "metadata": {},
          "output_type": "execute_result"
        }
      ],
      "source": [
        "# dropping missing values\n",
        "df.dropna(inplace=True)\n",
        "df.isnull().values.any()"
      ]
    },
    {
      "cell_type": "code",
      "execution_count": 34,
      "metadata": {
        "colab": {
          "base_uri": "https://localhost:8080/"
        },
        "id": "qjiTo5_n12Hd",
        "outputId": "3234e5aa-0523-4442-cdc0-89ab13406b6a"
      },
      "outputs": [
        {
          "name": "stdout",
          "output_type": "stream",
          "text": [
            "<class 'pandas.core.frame.DataFrame'>\n",
            "Int64Index: 115018 entries, 0 to 117600\n",
            "Data columns (total 31 columns):\n",
            " #   Column                         Non-Null Count   Dtype         \n",
            "---  ------                         --------------   -----         \n",
            " 0   order_id                       115018 non-null  object        \n",
            " 1   payment_sequential             115018 non-null  int64         \n",
            " 2   payment_type                   115018 non-null  object        \n",
            " 3   payment_installments           115018 non-null  int64         \n",
            " 4   payment_value                  115018 non-null  float64       \n",
            " 5   order_item_id                  115018 non-null  int64         \n",
            " 6   product_id                     115018 non-null  object        \n",
            " 7   seller_id                      115018 non-null  object        \n",
            " 8   shipping_limit_date            115018 non-null  datetime64[ns]\n",
            " 9   price                          115018 non-null  float64       \n",
            " 10  freight_value                  115018 non-null  float64       \n",
            " 11  customer_id                    115018 non-null  object        \n",
            " 12  order_status                   115018 non-null  object        \n",
            " 13  order_purchase_timestamp       115018 non-null  datetime64[ns]\n",
            " 14  order_approved_at              115018 non-null  datetime64[ns]\n",
            " 15  order_delivered_carrier_date   115018 non-null  datetime64[ns]\n",
            " 16  order_delivered_customer_date  115018 non-null  datetime64[ns]\n",
            " 17  order_estimated_delivery_date  115018 non-null  datetime64[ns]\n",
            " 18  customer_unique_id             115018 non-null  object        \n",
            " 19  customer_zip_code_prefix       115018 non-null  int64         \n",
            " 20  customer_city                  115018 non-null  object        \n",
            " 21  customer_state                 115018 non-null  object        \n",
            " 22  delivery_against_estimated     115018 non-null  float64       \n",
            " 23  order_purchase_year            115018 non-null  int64         \n",
            " 24  order_purchase_month           115018 non-null  int64         \n",
            " 25  order_purchase_dayofweek       115018 non-null  int64         \n",
            " 26  order_purchase_hour            115018 non-null  int64         \n",
            " 27  order_purchase_day             115018 non-null  object        \n",
            " 28  order_purchase_mon             115018 non-null  object        \n",
            " 29  month_year                     115018 non-null  object        \n",
            " 30  month_y                        115018 non-null  int64         \n",
            "dtypes: datetime64[ns](6), float64(4), int64(9), object(12)\n",
            "memory usage: 28.1+ MB\n"
          ]
        }
      ],
      "source": [
        "# displaying dataframe info\n",
        "df.info()"
      ]
    },
    {
      "cell_type": "code",
      "execution_count": 35,
      "metadata": {
        "colab": {
          "base_uri": "https://localhost:8080/",
          "height": 193
        },
        "id": "Aqie9ue-2Efd",
        "outputId": "01731797-e2c0-4313-90bf-ba4f5b7d46a7"
      },
      "outputs": [
        {
          "data": {
            "text/html": [
              "<div>\n",
              "<style scoped>\n",
              "    .dataframe tbody tr th:only-of-type {\n",
              "        vertical-align: middle;\n",
              "    }\n",
              "\n",
              "    .dataframe tbody tr th {\n",
              "        vertical-align: top;\n",
              "    }\n",
              "\n",
              "    .dataframe thead th {\n",
              "        text-align: right;\n",
              "    }\n",
              "</style>\n",
              "<table border=\"1\" class=\"dataframe\">\n",
              "  <thead>\n",
              "    <tr style=\"text-align: right;\">\n",
              "      <th></th>\n",
              "      <th>order_id</th>\n",
              "      <th>payment_sequential</th>\n",
              "      <th>payment_type</th>\n",
              "      <th>payment_installments</th>\n",
              "      <th>payment_value</th>\n",
              "      <th>order_item_id</th>\n",
              "      <th>product_id</th>\n",
              "      <th>seller_id</th>\n",
              "      <th>shipping_limit_date</th>\n",
              "      <th>price</th>\n",
              "      <th>freight_value</th>\n",
              "      <th>customer_id</th>\n",
              "      <th>order_status</th>\n",
              "      <th>order_purchase_timestamp</th>\n",
              "      <th>order_approved_at</th>\n",
              "      <th>order_delivered_carrier_date</th>\n",
              "      <th>order_delivered_customer_date</th>\n",
              "      <th>order_estimated_delivery_date</th>\n",
              "      <th>customer_unique_id</th>\n",
              "      <th>customer_zip_code_prefix</th>\n",
              "      <th>customer_city</th>\n",
              "      <th>customer_state</th>\n",
              "      <th>delivery_against_estimated</th>\n",
              "      <th>order_purchase_year</th>\n",
              "      <th>order_purchase_month</th>\n",
              "      <th>order_purchase_dayofweek</th>\n",
              "      <th>order_purchase_hour</th>\n",
              "      <th>order_purchase_day</th>\n",
              "      <th>order_purchase_mon</th>\n",
              "      <th>month_year</th>\n",
              "      <th>month_y</th>\n",
              "    </tr>\n",
              "  </thead>\n",
              "  <tbody>\n",
              "    <tr>\n",
              "      <th>0</th>\n",
              "      <td>b81ef226f3fe1789b1e8b2acac839d17</td>\n",
              "      <td>1</td>\n",
              "      <td>Credit Card</td>\n",
              "      <td>8</td>\n",
              "      <td>99.33</td>\n",
              "      <td>1</td>\n",
              "      <td>af74cc53dcffc8384b29e7abfa41902b</td>\n",
              "      <td>213b25e6f54661939f11710a6fddb871</td>\n",
              "      <td>2018-05-02 22:15:09</td>\n",
              "      <td>79.80</td>\n",
              "      <td>19.53</td>\n",
              "      <td>0a8556ac6be836b46b3e89920d59291c</td>\n",
              "      <td>delivered</td>\n",
              "      <td>2018-04-25 22:01:49</td>\n",
              "      <td>2018-04-25 22:15:09</td>\n",
              "      <td>2018-05-02 15:20:00</td>\n",
              "      <td>2018-05-09 17:36:51</td>\n",
              "      <td>2018-05-22</td>\n",
              "      <td>708ab75d2a007f0564aedd11139c7708</td>\n",
              "      <td>39801</td>\n",
              "      <td>Teofilo Otoni</td>\n",
              "      <td>MG</td>\n",
              "      <td>12.0</td>\n",
              "      <td>2018</td>\n",
              "      <td>4</td>\n",
              "      <td>2</td>\n",
              "      <td>22</td>\n",
              "      <td>Wed</td>\n",
              "      <td>Apr</td>\n",
              "      <td>2018-04</td>\n",
              "      <td>201804</td>\n",
              "    </tr>\n",
              "    <tr>\n",
              "      <th>1</th>\n",
              "      <td>a9810da82917af2d9aefd1278f1dcfa0</td>\n",
              "      <td>1</td>\n",
              "      <td>Credit Card</td>\n",
              "      <td>1</td>\n",
              "      <td>24.39</td>\n",
              "      <td>1</td>\n",
              "      <td>a630cc320a8c872f9de830cf121661a3</td>\n",
              "      <td>eaf6d55068dea77334e8477d3878d89e</td>\n",
              "      <td>2018-07-02 11:18:58</td>\n",
              "      <td>17.00</td>\n",
              "      <td>7.39</td>\n",
              "      <td>f2c7fc58a9de810828715166c672f10a</td>\n",
              "      <td>delivered</td>\n",
              "      <td>2018-06-26 11:01:38</td>\n",
              "      <td>2018-06-26 11:18:58</td>\n",
              "      <td>2018-06-28 14:18:00</td>\n",
              "      <td>2018-06-29 20:32:09</td>\n",
              "      <td>2018-07-16</td>\n",
              "      <td>a8b9d3a27068454b1c98cc67d4e31e6f</td>\n",
              "      <td>2422</td>\n",
              "      <td>Sao Paulo</td>\n",
              "      <td>SP</td>\n",
              "      <td>16.0</td>\n",
              "      <td>2018</td>\n",
              "      <td>6</td>\n",
              "      <td>1</td>\n",
              "      <td>11</td>\n",
              "      <td>Tue</td>\n",
              "      <td>Jun</td>\n",
              "      <td>2018-06</td>\n",
              "      <td>201806</td>\n",
              "    </tr>\n",
              "    <tr>\n",
              "      <th>2</th>\n",
              "      <td>25e8ea4e93396b6fa0d3dd708e76c1bd</td>\n",
              "      <td>1</td>\n",
              "      <td>Credit Card</td>\n",
              "      <td>1</td>\n",
              "      <td>65.71</td>\n",
              "      <td>1</td>\n",
              "      <td>2028bf1b01cafb2d2b1901fca4083222</td>\n",
              "      <td>cc419e0650a3c5ba77189a1882b7556a</td>\n",
              "      <td>2017-12-26 09:52:34</td>\n",
              "      <td>56.99</td>\n",
              "      <td>8.72</td>\n",
              "      <td>25b14b69de0b6e184ae6fe2755e478f9</td>\n",
              "      <td>delivered</td>\n",
              "      <td>2017-12-12 11:19:55</td>\n",
              "      <td>2017-12-14 09:52:34</td>\n",
              "      <td>2017-12-15 20:13:22</td>\n",
              "      <td>2017-12-18 17:24:41</td>\n",
              "      <td>2018-01-04</td>\n",
              "      <td>6f70c0b2f7552832ba46eb57b1c5651e</td>\n",
              "      <td>2652</td>\n",
              "      <td>Sao Paulo</td>\n",
              "      <td>SP</td>\n",
              "      <td>16.0</td>\n",
              "      <td>2017</td>\n",
              "      <td>12</td>\n",
              "      <td>1</td>\n",
              "      <td>11</td>\n",
              "      <td>Tue</td>\n",
              "      <td>Dec</td>\n",
              "      <td>2017-12</td>\n",
              "      <td>201712</td>\n",
              "    </tr>\n",
              "  </tbody>\n",
              "</table>\n",
              "</div>"
            ],
            "text/plain": [
              "                           order_id  payment_sequential payment_type  \\\n",
              "0  b81ef226f3fe1789b1e8b2acac839d17                   1  Credit Card   \n",
              "1  a9810da82917af2d9aefd1278f1dcfa0                   1  Credit Card   \n",
              "2  25e8ea4e93396b6fa0d3dd708e76c1bd                   1  Credit Card   \n",
              "\n",
              "   payment_installments  payment_value  order_item_id  \\\n",
              "0                     8          99.33              1   \n",
              "1                     1          24.39              1   \n",
              "2                     1          65.71              1   \n",
              "\n",
              "                         product_id                         seller_id  \\\n",
              "0  af74cc53dcffc8384b29e7abfa41902b  213b25e6f54661939f11710a6fddb871   \n",
              "1  a630cc320a8c872f9de830cf121661a3  eaf6d55068dea77334e8477d3878d89e   \n",
              "2  2028bf1b01cafb2d2b1901fca4083222  cc419e0650a3c5ba77189a1882b7556a   \n",
              "\n",
              "  shipping_limit_date  price  freight_value                       customer_id  \\\n",
              "0 2018-05-02 22:15:09  79.80          19.53  0a8556ac6be836b46b3e89920d59291c   \n",
              "1 2018-07-02 11:18:58  17.00           7.39  f2c7fc58a9de810828715166c672f10a   \n",
              "2 2017-12-26 09:52:34  56.99           8.72  25b14b69de0b6e184ae6fe2755e478f9   \n",
              "\n",
              "  order_status order_purchase_timestamp   order_approved_at  \\\n",
              "0    delivered      2018-04-25 22:01:49 2018-04-25 22:15:09   \n",
              "1    delivered      2018-06-26 11:01:38 2018-06-26 11:18:58   \n",
              "2    delivered      2017-12-12 11:19:55 2017-12-14 09:52:34   \n",
              "\n",
              "  order_delivered_carrier_date order_delivered_customer_date  \\\n",
              "0          2018-05-02 15:20:00           2018-05-09 17:36:51   \n",
              "1          2018-06-28 14:18:00           2018-06-29 20:32:09   \n",
              "2          2017-12-15 20:13:22           2017-12-18 17:24:41   \n",
              "\n",
              "  order_estimated_delivery_date                customer_unique_id  \\\n",
              "0                    2018-05-22  708ab75d2a007f0564aedd11139c7708   \n",
              "1                    2018-07-16  a8b9d3a27068454b1c98cc67d4e31e6f   \n",
              "2                    2018-01-04  6f70c0b2f7552832ba46eb57b1c5651e   \n",
              "\n",
              "   customer_zip_code_prefix  customer_city customer_state  \\\n",
              "0                     39801  Teofilo Otoni             MG   \n",
              "1                      2422      Sao Paulo             SP   \n",
              "2                      2652      Sao Paulo             SP   \n",
              "\n",
              "   delivery_against_estimated  order_purchase_year  order_purchase_month  \\\n",
              "0                        12.0                 2018                     4   \n",
              "1                        16.0                 2018                     6   \n",
              "2                        16.0                 2017                    12   \n",
              "\n",
              "   order_purchase_dayofweek  order_purchase_hour order_purchase_day  \\\n",
              "0                         2                   22                Wed   \n",
              "1                         1                   11                Tue   \n",
              "2                         1                   11                Tue   \n",
              "\n",
              "  order_purchase_mon month_year  month_y  \n",
              "0                Apr    2018-04   201804  \n",
              "1                Jun    2018-06   201806  \n",
              "2                Dec    2017-12   201712  "
            ]
          },
          "execution_count": 35,
          "metadata": {},
          "output_type": "execute_result"
        }
      ],
      "source": [
        "# excluding incomplete 2012 data and displaying first 3 rows of master dataframe\n",
        "df = df.query(\"month_year != '2016-12' and month_year != '2016-10'\")\n",
        "df.head(3)"
      ]
    },
    {
      "cell_type": "markdown",
      "metadata": {
        "id": "tJDAknaT2pLQ"
      },
      "source": [
        "##Customer Segmentation\n",
        "\n",
        "Customers who shop on Olist have different needs and they have their own different profile. We should adapt our actions depending on that.\n",
        "\n",
        "RFM stands for Recency - Frequency - Monetary Value, I will be using this metrics to segment customers. Theoretically we will have segments like below: Low Value: Customers who are less active than others, not very frequent buyer/visitor and generates very low - zero - maybe negative revenue. Mid Value: In the middle of everything. Often using our platform (but not as much as our High Values), fairly frequent and generates moderate revenue. High Value: The group we don’t want to lose. High Revenue, Frequency and low Inactivity."
      ]
    },
    {
      "cell_type": "code",
      "execution_count": 36,
      "metadata": {
        "id": "IaVVDvrw2zpN"
      },
      "outputs": [],
      "source": [
        "rfm = df.groupby('customer_unique_id').agg({\n",
        "    'order_purchase_timestamp': lambda x: (pd.to_datetime('2018-08-29 15:00:37') - pd.to_datetime(x.max())).days,\n",
        "    'order_id': 'count',\n",
        "    'payment_value': 'sum'\n",
        "}).reset_index()\n",
        "\n",
        "rfm.columns = ['customer_id', 'Recency', 'Frequency', 'Monetary']"
      ]
    },
    {
      "cell_type": "code",
      "execution_count": 37,
      "metadata": {
        "colab": {
          "base_uri": "https://localhost:8080/",
          "height": 1000
        },
        "id": "5T-H6RVg3K1Z",
        "outputId": "5dcf66b1-d591-4221-de8e-245c441ec2e1"
      },
      "outputs": [
        {
          "data": {
            "image/png": "[encoded data removed]",
            "text/plain": [
              "<Figure size 432x288 with 1 Axes>"
            ]
          },
          "metadata": {
            "needs_background": "light"
          },
          "output_type": "display_data"
        }
      ],
      "source": [
        "from sklearn.cluster import KMeans\n",
        "# Apply KMeans clustering and use the elbow method to find the optimal number of clusters\n",
        "inertia = []\n",
        "X = rfm.drop(columns=['customer_id'])\n",
        "for n_clusters in range(1, 11):\n",
        "    kmeans = KMeans(n_clusters=n_clusters, random_state=42)\n",
        "    kmeans.fit(X)\n",
        "    inertia.append(kmeans.inertia_)\n",
        "\n",
        "# Plot the elbow curve\n",
        "plt.plot(range(1, 11), inertia, marker='o')\n",
        "plt.xlabel('Number of clusters')\n",
        "plt.ylabel('Inertia')\n",
        "plt.title('Elbow Method')\n",
        "plt.show()"
      ]
    },
    {
      "cell_type": "code",
      "execution_count": 39,
      "metadata": {
        "colab": {
          "base_uri": "https://localhost:8080/",
          "height": 300
        },
        "id": "4qS82UhG4gl5",
        "outputId": "f5ffee44-680b-4e12-ae42-c6b2e025e389"
      },
      "outputs": [
        {
          "data": {
            "text/html": [
              "<div>\n",
              "<style scoped>\n",
              "    .dataframe tbody tr th:only-of-type {\n",
              "        vertical-align: middle;\n",
              "    }\n",
              "\n",
              "    .dataframe tbody tr th {\n",
              "        vertical-align: top;\n",
              "    }\n",
              "\n",
              "    .dataframe thead th {\n",
              "        text-align: right;\n",
              "    }\n",
              "</style>\n",
              "<table border=\"1\" class=\"dataframe\">\n",
              "  <thead>\n",
              "    <tr style=\"text-align: right;\">\n",
              "      <th></th>\n",
              "      <th>Recency</th>\n",
              "      <th>Frequency</th>\n",
              "      <th>Monetary</th>\n",
              "    </tr>\n",
              "  </thead>\n",
              "  <tbody>\n",
              "    <tr>\n",
              "      <th>count</th>\n",
              "      <td>93083.000000</td>\n",
              "      <td>93083.000000</td>\n",
              "      <td>93083.000000</td>\n",
              "    </tr>\n",
              "    <tr>\n",
              "      <th>mean</th>\n",
              "      <td>235.664117</td>\n",
              "      <td>1.232029</td>\n",
              "      <td>211.754922</td>\n",
              "    </tr>\n",
              "    <tr>\n",
              "      <th>std</th>\n",
              "      <td>150.901762</td>\n",
              "      <td>0.819779</td>\n",
              "      <td>642.781688</td>\n",
              "    </tr>\n",
              "    <tr>\n",
              "      <th>min</th>\n",
              "      <td>0.000000</td>\n",
              "      <td>1.000000</td>\n",
              "      <td>9.590000</td>\n",
              "    </tr>\n",
              "    <tr>\n",
              "      <th>25%</th>\n",
              "      <td>113.000000</td>\n",
              "      <td>1.000000</td>\n",
              "      <td>63.730000</td>\n",
              "    </tr>\n",
              "    <tr>\n",
              "      <th>50%</th>\n",
              "      <td>217.000000</td>\n",
              "      <td>1.000000</td>\n",
              "      <td>112.940000</td>\n",
              "    </tr>\n",
              "    <tr>\n",
              "      <th>75%</th>\n",
              "      <td>344.000000</td>\n",
              "      <td>1.000000</td>\n",
              "      <td>201.650000</td>\n",
              "    </tr>\n",
              "    <tr>\n",
              "      <th>max</th>\n",
              "      <td>601.000000</td>\n",
              "      <td>75.000000</td>\n",
              "      <td>109312.640000</td>\n",
              "    </tr>\n",
              "  </tbody>\n",
              "</table>\n",
              "</div>"
            ],
            "text/plain": [
              "            Recency     Frequency       Monetary\n",
              "count  93083.000000  93083.000000   93083.000000\n",
              "mean     235.664117      1.232029     211.754922\n",
              "std      150.901762      0.819779     642.781688\n",
              "min        0.000000      1.000000       9.590000\n",
              "25%      113.000000      1.000000      63.730000\n",
              "50%      217.000000      1.000000     112.940000\n",
              "75%      344.000000      1.000000     201.650000\n",
              "max      601.000000     75.000000  109312.640000"
            ]
          },
          "execution_count": 39,
          "metadata": {},
          "output_type": "execute_result"
        }
      ],
      "source": [
        "rfm.describe()"
      ]
    },
    {
      "cell_type": "code",
      "execution_count": 40,
      "metadata": {
        "colab": {
          "base_uri": "https://localhost:8080/"
        },
        "id": "3BqnMDL14rHw",
        "outputId": "0c4c1c28-785b-4804-a1c0-5ff96d5d4a99"
      },
      "outputs": [],
      "source": [
        "from sklearn.preprocessing import StandardScaler\n",
        "from sklearn.cluster import KMeans\n",
        "\n",
        "# Normalize the variables\n",
        "scaler = StandardScaler()\n",
        "rfm_scaled = scaler.fit_transform(rfm[['Recency', 'Frequency', 'Monetary']])\n",
        "\n",
        "# Apply K-means Clustering\n",
        "kmeans = KMeans(n_clusters=5, random_state=42)\n",
        "kmeans.fit(rfm_scaled)\n",
        "\n",
        "# Add cluster labels to the dataframe\n",
        "rfm['Cluster'] = kmeans.labels_\n",
        "\n",
        "# Analyze the clusters\n",
        "cluster_analysis = rfm.groupby('Cluster').agg({\n",
        "    'Recency': ['mean','max','min'],\n",
        "    'Frequency': ['mean','max','min'],\n",
        "    'Monetary': ['mean','max','min'],\n",
        "    'customer_id': 'count'\n",
        "}).reset_index()"
      ]
    },
    {
      "cell_type": "code",
      "execution_count": 41,
      "metadata": {
        "colab": {
          "base_uri": "https://localhost:8080/"
        },
        "id": "s6g6Usly42rH",
        "outputId": "475c6868-f95f-41e4-9c43-2339ee2f9f19"
      },
      "outputs": [
        {
          "name": "stdout",
          "output_type": "stream",
          "text": [
            "  Cluster     Recency            Frequency               Monetary             \\\n",
            "                 mean  max  min       mean max min           mean        max   \n",
            "0       0  126.360140  254    0   1.113322   2   1     169.258510    3526.46   \n",
            "1       1  228.812500  601    0   3.904444  22   1    1013.846903    8891.00   \n",
            "2       2  383.476254  601  254   1.119569   3   1     169.654201    4042.74   \n",
            "3       3  220.169231  575   17  12.753846  75   3   12337.741077   45256.00   \n",
            "4       4  333.000000  333  333   8.000000   8   8  109312.640000  109312.64   \n",
            "\n",
            "             customer_id  \n",
            "         min       count  \n",
            "0       9.59       51305  \n",
            "1      17.38        3600  \n",
            "2      10.07       38112  \n",
            "3      62.68          65  \n",
            "4  109312.64           1  \n"
          ]
        }
      ],
      "source": [
        "print(cluster_analysis)"
      ]
    },
    {
      "cell_type": "code",
      "execution_count": 42,
      "metadata": {
        "id": "XTzCCTDN5jmn"
      },
      "outputs": [],
      "source": [
        "from sklearn.preprocessing import StandardScaler\n",
        "\n",
        "# Create a StandardScaler object\n",
        "scaler = StandardScaler()\n",
        "\n",
        "# Fit and transform the 'Recency', 'Frequency', and 'Monetary' variables\n",
        "rfm_scaled = scaler.fit_transform(rfm[['Recency', 'Frequency', 'Monetary']])\n",
        "\n",
        "# Convert the scaled array back to a DataFrame\n",
        "rfm_scaled_df = pd.DataFrame(rfm_scaled, columns=['Recency_scaled', 'Frequency_scaled', 'Monetary_scaled'])\n",
        "\n",
        "# Concatenate the scaled DataFrame with the original DataFrame\n",
        "rfm = pd.concat([rfm, rfm_scaled_df], axis=1)"
      ]
    },
    {
      "cell_type": "code",
      "execution_count": 43,
      "metadata": {
        "id": "SGeWqnB78MjY"
      },
      "outputs": [],
      "source": [
        "rfm_scaled_df['customer_id'] = rfm['customer_id']"
      ]
    },
    {
      "cell_type": "code",
      "execution_count": 187,
      "metadata": {},
      "outputs": [],
      "source": [
        "####Partie Dash\n",
        "import plotly.express as px\n",
        "from dash import dash_table\n",
        "import dash_bootstrap_components as dbc\n",
        "from dash.dependencies import Input, Output\n",
        "import plotly.graph_objs as go"
      ]
    },
    {
      "cell_type": "code",
      "execution_count": 189,
      "metadata": {
        "colab": {
          "base_uri": "https://localhost:8080/",
          "height": 776
        },
        "id": "sWErjnL08Pnf",
        "outputId": "0fccc444-04a8-40c5-e221-072ece02f35f"
      },
      "outputs": [
        {
          "name": "stderr",
          "output_type": "stream",
          "text": [
            "c:\\Users\\nazm1\\anaconda3\\lib\\site-packages\\seaborn\\distributions.py:2619: FutureWarning:\n",
            "\n",
            "`distplot` is a deprecated function and will be removed in a future version. Please adapt your code to use either `displot` (a figure-level function with similar flexibility) or `histplot` (an axes-level function for histograms).\n",
            "\n"
          ]
        },
        {
          "data": {
            "application/vnd.plotly.v1+json": {
              "config": {
                "plotlyServerURL": "https://plot.ly"
              },
              "data": [
                {
                  "mode": "lines+markers",
                  "name": "_child30",
                  "type": "scatter",
                  "x": [
                    -45.92418858149951,
                    -42.44253844500202,
                    -38.96088830850454,
                    -35.47923817200706,
                    -31.99758803550958,
                    -28.515937899012094,
                    -25.034287762514612,
                    -21.55263762601713,
                    -18.07098748951965,
                    -14.589337353022167,
                    -11.107687216524681,
                    -7.626037080027203,
                    -4.144386943529717,
                    -0.662736807032239,
                    2.8189133294652464,
                    6.300563465962725,
                    9.78221360246021,
                    13.263863738957696,
                    16.745513875455174,
                    20.227164011952652,
                    23.708814148450145,
                    27.190464284947623,
                    30.6721144214451,
                    34.15376455794258,
                    37.63541469444007,
                    41.11706483093755,
                    44.59871496743503,
                    48.08036510393252,
                    51.56201524043,
                    55.04366537692748,
                    58.52531551342496,
                    62.00696564992245,
                    65.48861578641993,
                    68.9702659229174,
                    72.4519160594149,
                    75.93356619591238,
                    79.41521633240986,
                    82.89686646890733,
                    86.37851660540481,
                    89.86016674190229,
                    93.3418168783998,
                    96.82346701489728,
                    100.30511715139475,
                    103.78676728789223,
                    107.26841742438971,
                    110.75006756088719,
                    114.23171769738467,
                    117.71336783388217,
                    121.19501797037965,
                    124.67666810687713,
                    128.1583182433746,
                    131.63996837987207,
                    135.12161851636955,
                    138.60326865286703,
                    142.08491878936456,
                    145.56656892586204,
                    149.04821906235952,
                    152.529869198857,
                    156.01151933535448,
                    159.49316947185196,
                    162.97481960834943,
                    166.4564697448469,
                    169.9381198813444,
                    173.41977001784187,
                    176.90142015433935,
                    180.38307029083683,
                    183.8647204273343,
                    187.34637056383178,
                    190.82802070032932,
                    194.3096708368268,
                    197.79132097332428,
                    201.27297110982175,
                    204.75462124631923,
                    208.2362713828167,
                    211.7179215193142,
                    215.19957165581167,
                    218.68122179230915,
                    222.16287192880662,
                    225.6445220653041,
                    229.12617220180164,
                    232.60782233829912,
                    236.0894724747966,
                    239.57112261129407,
                    243.05277274779155,
                    246.53442288428903,
                    250.0160730207865,
                    253.49772315728399,
                    256.97937329378146,
                    260.46102343027894,
                    263.9426735667764,
                    267.4243237032739,
                    270.9059738397714,
                    274.38762397626886,
                    277.8692741127664,
                    281.35092424926387,
                    284.83257438576135,
                    288.3142245222588,
                    291.7958746587563,
                    295.2775247952538,
                    298.75917493175126,
                    302.24082506824874,
                    305.7224752047462,
                    309.2041253412437,
                    312.6857754777412,
                    316.16742561423865,
                    319.64907575073613,
                    323.1307258872336,
                    326.61237602373114,
                    330.0940261602286,
                    333.5756762967261,
                    337.0573264332236,
                    340.53897656972106,
                    344.02062670621854,
                    347.502276842716,
                    350.9839269792135,
                    354.46557711571097,
                    357.94722725220845,
                    361.4288773887059,
                    364.9105275252034,
                    368.3921776617009,
                    371.87382779819836,
                    375.3554779346959,
                    378.8371280711934,
                    382.31877820769085,
                    385.80042834418833,
                    389.2820784806858,
                    392.7637286171833,
                    396.24537875368077,
                    399.72702889017825,
                    403.2086790266757,
                    406.6903291631732,
                    410.1719792996707,
                    413.65362943616816,
                    417.13527957266564,
                    420.6169297091631,
                    424.0985798456606,
                    427.58022998215813,
                    431.0618801186556,
                    434.5435302551531,
                    438.02518039165057,
                    441.50683052814804,
                    444.9884806646455,
                    448.470130801143,
                    451.9517809376405,
                    455.43343107413796,
                    458.91508121063544,
                    462.3967313471329,
                    465.8783814836304,
                    469.36003162012787,
                    472.84168175662535,
                    476.3233318931228,
                    479.8049820296203,
                    483.2866321661178,
                    486.76828230261526,
                    490.24993243911274,
                    493.7315825756102,
                    497.2132327121077,
                    500.6948828486053,
                    504.17653298510277,
                    507.65818312160025,
                    511.1398332580977,
                    514.6214833945952,
                    518.1031335310927,
                    521.5847836675902,
                    525.0664338040876,
                    528.5480839405851,
                    532.0297340770826,
                    535.5113842135801,
                    538.9930343500776,
                    542.474684486575,
                    545.9563346230725,
                    549.43798475957,
                    552.9196348960675,
                    556.4012850325649,
                    559.8829351690624,
                    563.3645853055599,
                    566.8462354420574,
                    570.3278855785549,
                    573.8095357150523,
                    577.2911858515498,
                    580.7728359880473,
                    584.2544861245448,
                    587.7361362610422,
                    591.2177863975397,
                    594.6994365340372,
                    598.1810866705348,
                    601.6627368070323,
                    605.1443869435298,
                    608.6260370800272,
                    612.1076872165247,
                    615.5893373530222,
                    619.0709874895197,
                    622.5526376260171,
                    626.0342877625146,
                    629.5159378990121,
                    632.9975880355096,
                    636.4792381720071,
                    639.9608883085045,
                    643.442538445002,
                    646.9241885814995
                  ],
                  "y": [
                    0.0000016703834180115937,
                    0.000003565506720059227,
                    0.000007267325804143568,
                    0.000014150142306219617,
                    0.000026332114276700903,
                    0.00004685759348181282,
                    0.0000797815332563714,
                    0.00013006006930748416,
                    0.0002031572906642957,
                    0.00030432420256309306,
                    0.0004375937065874165,
                    0.0006046470104057537,
                    0.0008038047037270525,
                    0.0010294347271586478,
                    0.0012720175110986377,
                    0.001518965986421055,
                    0.0017561042741109048,
                    0.001969529180254366,
                    0.002147477106386284,
                    0.0022818290344604327,
                    0.0023689962532169977,
                    0.002410090773958684,
                    0.0024104366913584923,
                    0.0023785788341909044,
                    0.0023249828196312706,
                    0.002260615394042162,
                    0.0021955753641860467,
                    0.0021379321224052816,
                    0.0020929181020005413,
                    0.002062595651902716,
                    0.002046061387263197,
                    0.0020401616829633534,
                    0.0020405901592383613,
                    0.0020431499714104744,
                    0.0020449153576481017,
                    0.002045032268467421,
                    0.002044960405377591,
                    0.002048073854791795,
                    0.0020586899733511473,
                    0.00208075596748317,
                    0.0021165428894989666,
                    0.002165726566745741,
                    0.002225143998878326,
                    0.0022893162597333793,
                    0.0023515886614816116,
                    0.0024055463237773267,
                    0.0024462939930354286,
                    0.002471266365541228,
                    0.0024804190705716793,
                    0.002475858685916597,
                    0.0024611202549704725,
                    0.0024403479118420687,
                    0.0024175853814860054,
                    0.0023962834963850324,
                    0.0023790352016715395,
                    0.002367490016203802,
                    0.0023623853941304182,
                    0.0023636455636279127,
                    0.0023705175107492007,
                    0.002381726017934005,
                    0.002395635053741451,
                    0.0024104079529823443,
                    0.0024241674182891673,
                    0.00243516426100902,
                    0.0024419621967148556,
                    0.0024436298270820466,
                    0.002439905186852022,
                    0.002431277050203852,
                    0.002418925792953884,
                    0.002404491924419442,
                    0.0023896869158671927,
                    0.0023758139755107443,
                    0.0023633094379675473,
                    0.0023514358631321008,
                    0.0023382483793580183,
                    0.002320912756026846,
                    0.0022963780034388147,
                    0.0022623072679979475,
                    0.0022180705818932826,
                    0.0021655351651640392,
                    0.0021093872867537495,
                    0.002056801207197404,
                    0.0020164225026459448,
                    0.0019968127128700596,
                    0.002004654321614209,
                    0.00204309485457044,
                    0.002110599385625811,
                    0.0022005931072852994,
                    0.002302035049659324,
                    0.002400894249520938,
                    0.002482319140330837,
                    0.0025331227151619215,
                    0.002544088867014309,
                    0.0025115893800711406,
                    0.0024381229056265642,
                    0.002331638349891044,
                    0.002203818291564825,
                    0.0020677681643985605,
                    0.0019356878204129751,
                    0.0018170527105302616,
                    0.0017176337211123336,
                    0.0016394214353585086,
                    0.0015812857939409128,
                    0.0015400603357738725,
                    0.001511710333214727,
                    0.0014923065797498502,
                    0.0014786422277954401,
                    0.001468457994087976,
                    0.0014603484358290562,
                    0.0014534874494565929,
                    0.0014473254975429723,
                    0.0014413780226679575,
                    0.0014351600786844695,
                    0.0014282509492460388,
                    0.0014204198822621056,
                    0.0014117272148128706,
                    0.001402536392259724,
                    0.0013934186657392448,
                    0.0013849814867237815,
                    0.00137768269493671,
                    0.001371694363967853,
                    0.0013668552329467274,
                    0.0013627127655327026,
                    0.001358622808647284,
                    0.0013538603401938964,
                    0.0013477031997501253,
                    0.001339475799505099,
                    0.0013285682817659249,
                    0.0013144640402557813,
                    0.0012968058763483908,
                    0.0012755086489909077,
                    0.0012508939682680082,
                    0.0012237956174703615,
                    0.0011955770541286388,
                    0.00116802083351736,
                    0.0011430892312553397,
                    0.0011226010941575238,
                    0.0011079035564205988,
                    0.0010996243327353987,
                    0.0010975670384125828,
                    0.0011007672456705179,
                    0.0011076786679115249,
                    0.0011164259630357467,
                    0.0011250545961319785,
                    0.0011317278929733015,
                    0.0011348545670248958,
                    0.00113316009940017,
                    0.0011257301348257447,
                    0.0011120507261012243,
                    0.0010920548547050366,
                    0.0010661669478936365,
                    0.0010353249492171836,
                    0.0010009561098677172,
                    0.0009648875927538066,
                    0.0009291844619771246,
                    0.000895923816319164,
                    0.0008669320388898979,
                    0.0008435277775891633,
                    0.0008263204695433134,
                    0.0008151086100058434,
                    0.0008089036984947396,
                    0.0008060802393464138,
                    0.0008046273440791357,
                    0.0008024598703679129,
                    0.0007977387773858158,
                    0.0007891496789319208,
                    0.0007760927440490804,
                    0.0007587456836307112,
                    0.0007379770145248448,
                    0.0007151118808481338,
                    0.0006915864096848918,
                    0.0006685613660208005,
                    0.0006465889288887313,
                    0.0006254249648289032,
                    0.0006040475926591247,
                    0.0005808874418062272,
                    0.0005542133250642942,
                    0.0005225710259531582,
                    0.00048515928527469745,
                    0.0004420499197307577,
                    0.0003942083090955768,
                    0.0003433273606716626,
                    0.00029153336387073407,
                    0.00024104395960346633,
                    0.0001938550752480061,
                    0.00015151184040489507,
                    0.00011498875401307723,
                    0.00008467649551014762,
                    0.000060452986842543693,
                    0.000041806716717415207,
                    0.000027979840171331515,
                    0.000018104362660664023,
                    0.000011313622064387294,
                    0.000006820586150353318,
                    0.0000039623428965196665,
                    0.000002215632720250387,
                    0.0000011911568159656928,
                    6.150192966635056e-7,
                    3.0464930272553637e-7,
                    1.4463432189133e-7
                  ]
                }
              ],
              "layout": {
                "template": {
                  "data": {
                    "bar": [
                      {
                        "error_x": {
                          "color": "#2a3f5f"
                        },
                        "error_y": {
                          "color": "#2a3f5f"
                        },
                        "marker": {
                          "line": {
                            "color": "#E5ECF6",
                            "width": 0.5
                          },
                          "pattern": {
                            "fillmode": "overlay",
                            "size": 10,
                            "solidity": 0.2
                          }
                        },
                        "type": "bar"
                      }
                    ],
                    "barpolar": [
                      {
                        "marker": {
                          "line": {
                            "color": "#E5ECF6",
                            "width": 0.5
                          },
                          "pattern": {
                            "fillmode": "overlay",
                            "size": 10,
                            "solidity": 0.2
                          }
                        },
                        "type": "barpolar"
                      }
                    ],
                    "carpet": [
                      {
                        "aaxis": {
                          "endlinecolor": "#2a3f5f",
                          "gridcolor": "white",
                          "linecolor": "white",
                          "minorgridcolor": "white",
                          "startlinecolor": "#2a3f5f"
                        },
                        "baxis": {
                          "endlinecolor": "#2a3f5f",
                          "gridcolor": "white",
                          "linecolor": "white",
                          "minorgridcolor": "white",
                          "startlinecolor": "#2a3f5f"
                        },
                        "type": "carpet"
                      }
                    ],
                    "choropleth": [
                      {
                        "colorbar": {
                          "outlinewidth": 0,
                          "ticks": ""
                        },
                        "type": "choropleth"
                      }
                    ],
                    "contour": [
                      {
                        "colorbar": {
                          "outlinewidth": 0,
                          "ticks": ""
                        },
                        "colorscale": [
                          [
                            0,
                            "#0d0887"
                          ],
                          [
                            0.1111111111111111,
                            "#46039f"
                          ],
                          [
                            0.2222222222222222,
                            "#7201a8"
                          ],
                          [
                            0.3333333333333333,
                            "#9c179e"
                          ],
                          [
                            0.4444444444444444,
                            "#bd3786"
                          ],
                          [
                            0.5555555555555556,
                            "#d8576b"
                          ],
                          [
                            0.6666666666666666,
                            "#ed7953"
                          ],
                          [
                            0.7777777777777778,
                            "#fb9f3a"
                          ],
                          [
                            0.8888888888888888,
                            "#fdca26"
                          ],
                          [
                            1,
                            "#f0f921"
                          ]
                        ],
                        "type": "contour"
                      }
                    ],
                    "contourcarpet": [
                      {
                        "colorbar": {
                          "outlinewidth": 0,
                          "ticks": ""
                        },
                        "type": "contourcarpet"
                      }
                    ],
                    "heatmap": [
                      {
                        "colorbar": {
                          "outlinewidth": 0,
                          "ticks": ""
                        },
                        "colorscale": [
                          [
                            0,
                            "#0d0887"
                          ],
                          [
                            0.1111111111111111,
                            "#46039f"
                          ],
                          [
                            0.2222222222222222,
                            "#7201a8"
                          ],
                          [
                            0.3333333333333333,
                            "#9c179e"
                          ],
                          [
                            0.4444444444444444,
                            "#bd3786"
                          ],
                          [
                            0.5555555555555556,
                            "#d8576b"
                          ],
                          [
                            0.6666666666666666,
                            "#ed7953"
                          ],
                          [
                            0.7777777777777778,
                            "#fb9f3a"
                          ],
                          [
                            0.8888888888888888,
                            "#fdca26"
                          ],
                          [
                            1,
                            "#f0f921"
                          ]
                        ],
                        "type": "heatmap"
                      }
                    ],
                    "heatmapgl": [
                      {
                        "colorbar": {
                          "outlinewidth": 0,
                          "ticks": ""
                        },
                        "colorscale": [
                          [
                            0,
                            "#0d0887"
                          ],
                          [
                            0.1111111111111111,
                            "#46039f"
                          ],
                          [
                            0.2222222222222222,
                            "#7201a8"
                          ],
                          [
                            0.3333333333333333,
                            "#9c179e"
                          ],
                          [
                            0.4444444444444444,
                            "#bd3786"
                          ],
                          [
                            0.5555555555555556,
                            "#d8576b"
                          ],
                          [
                            0.6666666666666666,
                            "#ed7953"
                          ],
                          [
                            0.7777777777777778,
                            "#fb9f3a"
                          ],
                          [
                            0.8888888888888888,
                            "#fdca26"
                          ],
                          [
                            1,
                            "#f0f921"
                          ]
                        ],
                        "type": "heatmapgl"
                      }
                    ],
                    "histogram": [
                      {
                        "marker": {
                          "pattern": {
                            "fillmode": "overlay",
                            "size": 10,
                            "solidity": 0.2
                          }
                        },
                        "type": "histogram"
                      }
                    ],
                    "histogram2d": [
                      {
                        "colorbar": {
                          "outlinewidth": 0,
                          "ticks": ""
                        },
                        "colorscale": [
                          [
                            0,
                            "#0d0887"
                          ],
                          [
                            0.1111111111111111,
                            "#46039f"
                          ],
                          [
                            0.2222222222222222,
                            "#7201a8"
                          ],
                          [
                            0.3333333333333333,
                            "#9c179e"
                          ],
                          [
                            0.4444444444444444,
                            "#bd3786"
                          ],
                          [
                            0.5555555555555556,
                            "#d8576b"
                          ],
                          [
                            0.6666666666666666,
                            "#ed7953"
                          ],
                          [
                            0.7777777777777778,
                            "#fb9f3a"
                          ],
                          [
                            0.8888888888888888,
                            "#fdca26"
                          ],
                          [
                            1,
                            "#f0f921"
                          ]
                        ],
                        "type": "histogram2d"
                      }
                    ],
                    "histogram2dcontour": [
                      {
                        "colorbar": {
                          "outlinewidth": 0,
                          "ticks": ""
                        },
                        "colorscale": [
                          [
                            0,
                            "#0d0887"
                          ],
                          [
                            0.1111111111111111,
                            "#46039f"
                          ],
                          [
                            0.2222222222222222,
                            "#7201a8"
                          ],
                          [
                            0.3333333333333333,
                            "#9c179e"
                          ],
                          [
                            0.4444444444444444,
                            "#bd3786"
                          ],
                          [
                            0.5555555555555556,
                            "#d8576b"
                          ],
                          [
                            0.6666666666666666,
                            "#ed7953"
                          ],
                          [
                            0.7777777777777778,
                            "#fb9f3a"
                          ],
                          [
                            0.8888888888888888,
                            "#fdca26"
                          ],
                          [
                            1,
                            "#f0f921"
                          ]
                        ],
                        "type": "histogram2dcontour"
                      }
                    ],
                    "mesh3d": [
                      {
                        "colorbar": {
                          "outlinewidth": 0,
                          "ticks": ""
                        },
                        "type": "mesh3d"
                      }
                    ],
                    "parcoords": [
                      {
                        "line": {
                          "colorbar": {
                            "outlinewidth": 0,
                            "ticks": ""
                          }
                        },
                        "type": "parcoords"
                      }
                    ],
                    "pie": [
                      {
                        "automargin": true,
                        "type": "pie"
                      }
                    ],
                    "scatter": [
                      {
                        "marker": {
                          "colorbar": {
                            "outlinewidth": 0,
                            "ticks": ""
                          }
                        },
                        "type": "scatter"
                      }
                    ],
                    "scatter3d": [
                      {
                        "line": {
                          "colorbar": {
                            "outlinewidth": 0,
                            "ticks": ""
                          }
                        },
                        "marker": {
                          "colorbar": {
                            "outlinewidth": 0,
                            "ticks": ""
                          }
                        },
                        "type": "scatter3d"
                      }
                    ],
                    "scattercarpet": [
                      {
                        "marker": {
                          "colorbar": {
                            "outlinewidth": 0,
                            "ticks": ""
                          }
                        },
                        "type": "scattercarpet"
                      }
                    ],
                    "scattergeo": [
                      {
                        "marker": {
                          "colorbar": {
                            "outlinewidth": 0,
                            "ticks": ""
                          }
                        },
                        "type": "scattergeo"
                      }
                    ],
                    "scattergl": [
                      {
                        "marker": {
                          "colorbar": {
                            "outlinewidth": 0,
                            "ticks": ""
                          }
                        },
                        "type": "scattergl"
                      }
                    ],
                    "scattermapbox": [
                      {
                        "marker": {
                          "colorbar": {
                            "outlinewidth": 0,
                            "ticks": ""
                          }
                        },
                        "type": "scattermapbox"
                      }
                    ],
                    "scatterpolar": [
                      {
                        "marker": {
                          "colorbar": {
                            "outlinewidth": 0,
                            "ticks": ""
                          }
                        },
                        "type": "scatterpolar"
                      }
                    ],
                    "scatterpolargl": [
                      {
                        "marker": {
                          "colorbar": {
                            "outlinewidth": 0,
                            "ticks": ""
                          }
                        },
                        "type": "scatterpolargl"
                      }
                    ],
                    "scatterternary": [
                      {
                        "marker": {
                          "colorbar": {
                            "outlinewidth": 0,
                            "ticks": ""
                          }
                        },
                        "type": "scatterternary"
                      }
                    ],
                    "surface": [
                      {
                        "colorbar": {
                          "outlinewidth": 0,
                          "ticks": ""
                        },
                        "colorscale": [
                          [
                            0,
                            "#0d0887"
                          ],
                          [
                            0.1111111111111111,
                            "#46039f"
                          ],
                          [
                            0.2222222222222222,
                            "#7201a8"
                          ],
                          [
                            0.3333333333333333,
                            "#9c179e"
                          ],
                          [
                            0.4444444444444444,
                            "#bd3786"
                          ],
                          [
                            0.5555555555555556,
                            "#d8576b"
                          ],
                          [
                            0.6666666666666666,
                            "#ed7953"
                          ],
                          [
                            0.7777777777777778,
                            "#fb9f3a"
                          ],
                          [
                            0.8888888888888888,
                            "#fdca26"
                          ],
                          [
                            1,
                            "#f0f921"
                          ]
                        ],
                        "type": "surface"
                      }
                    ],
                    "table": [
                      {
                        "cells": {
                          "fill": {
                            "color": "#EBF0F8"
                          },
                          "line": {
                            "color": "white"
                          }
                        },
                        "header": {
                          "fill": {
                            "color": "#C8D4E3"
                          },
                          "line": {
                            "color": "white"
                          }
                        },
                        "type": "table"
                      }
                    ]
                  },
                  "layout": {
                    "annotationdefaults": {
                      "arrowcolor": "#2a3f5f",
                      "arrowhead": 0,
                      "arrowwidth": 1
                    },
                    "autotypenumbers": "strict",
                    "coloraxis": {
                      "colorbar": {
                        "outlinewidth": 0,
                        "ticks": ""
                      }
                    },
                    "colorscale": {
                      "diverging": [
                        [
                          0,
                          "#8e0152"
                        ],
                        [
                          0.1,
                          "#c51b7d"
                        ],
                        [
                          0.2,
                          "#de77ae"
                        ],
                        [
                          0.3,
                          "#f1b6da"
                        ],
                        [
                          0.4,
                          "#fde0ef"
                        ],
                        [
                          0.5,
                          "#f7f7f7"
                        ],
                        [
                          0.6,
                          "#e6f5d0"
                        ],
                        [
                          0.7,
                          "#b8e186"
                        ],
                        [
                          0.8,
                          "#7fbc41"
                        ],
                        [
                          0.9,
                          "#4d9221"
                        ],
                        [
                          1,
                          "#276419"
                        ]
                      ],
                      "sequential": [
                        [
                          0,
                          "#0d0887"
                        ],
                        [
                          0.1111111111111111,
                          "#46039f"
                        ],
                        [
                          0.2222222222222222,
                          "#7201a8"
                        ],
                        [
                          0.3333333333333333,
                          "#9c179e"
                        ],
                        [
                          0.4444444444444444,
                          "#bd3786"
                        ],
                        [
                          0.5555555555555556,
                          "#d8576b"
                        ],
                        [
                          0.6666666666666666,
                          "#ed7953"
                        ],
                        [
                          0.7777777777777778,
                          "#fb9f3a"
                        ],
                        [
                          0.8888888888888888,
                          "#fdca26"
                        ],
                        [
                          1,
                          "#f0f921"
                        ]
                      ],
                      "sequentialminus": [
                        [
                          0,
                          "#0d0887"
                        ],
                        [
                          0.1111111111111111,
                          "#46039f"
                        ],
                        [
                          0.2222222222222222,
                          "#7201a8"
                        ],
                        [
                          0.3333333333333333,
                          "#9c179e"
                        ],
                        [
                          0.4444444444444444,
                          "#bd3786"
                        ],
                        [
                          0.5555555555555556,
                          "#d8576b"
                        ],
                        [
                          0.6666666666666666,
                          "#ed7953"
                        ],
                        [
                          0.7777777777777778,
                          "#fb9f3a"
                        ],
                        [
                          0.8888888888888888,
                          "#fdca26"
                        ],
                        [
                          1,
                          "#f0f921"
                        ]
                      ]
                    },
                    "colorway": [
                      "#636efa",
                      "#EF553B",
                      "#00cc96",
                      "#ab63fa",
                      "#FFA15A",
                      "#19d3f3",
                      "#FF6692",
                      "#B6E880",
                      "#FF97FF",
                      "#FECB52"
                    ],
                    "font": {
                      "color": "#2a3f5f"
                    },
                    "geo": {
                      "bgcolor": "white",
                      "lakecolor": "white",
                      "landcolor": "#E5ECF6",
                      "showlakes": true,
                      "showland": true,
                      "subunitcolor": "white"
                    },
                    "hoverlabel": {
                      "align": "left"
                    },
                    "hovermode": "closest",
                    "mapbox": {
                      "style": "light"
                    },
                    "paper_bgcolor": "white",
                    "plot_bgcolor": "#E5ECF6",
                    "polar": {
                      "angularaxis": {
                        "gridcolor": "white",
                        "linecolor": "white",
                        "ticks": ""
                      },
                      "bgcolor": "#E5ECF6",
                      "radialaxis": {
                        "gridcolor": "white",
                        "linecolor": "white",
                        "ticks": ""
                      }
                    },
                    "scene": {
                      "xaxis": {
                        "backgroundcolor": "#E5ECF6",
                        "gridcolor": "white",
                        "gridwidth": 2,
                        "linecolor": "white",
                        "showbackground": true,
                        "ticks": "",
                        "zerolinecolor": "white"
                      },
                      "yaxis": {
                        "backgroundcolor": "#E5ECF6",
                        "gridcolor": "white",
                        "gridwidth": 2,
                        "linecolor": "white",
                        "showbackground": true,
                        "ticks": "",
                        "zerolinecolor": "white"
                      },
                      "zaxis": {
                        "backgroundcolor": "#E5ECF6",
                        "gridcolor": "white",
                        "gridwidth": 2,
                        "linecolor": "white",
                        "showbackground": true,
                        "ticks": "",
                        "zerolinecolor": "white"
                      }
                    },
                    "shapedefaults": {
                      "line": {
                        "color": "#2a3f5f"
                      }
                    },
                    "ternary": {
                      "aaxis": {
                        "gridcolor": "white",
                        "linecolor": "white",
                        "ticks": ""
                      },
                      "baxis": {
                        "gridcolor": "white",
                        "linecolor": "white",
                        "ticks": ""
                      },
                      "bgcolor": "#E5ECF6",
                      "caxis": {
                        "gridcolor": "white",
                        "linecolor": "white",
                        "ticks": ""
                      }
                    },
                    "title": {
                      "x": 0.05
                    },
                    "xaxis": {
                      "automargin": true,
                      "gridcolor": "white",
                      "linecolor": "white",
                      "ticks": "",
                      "title": {
                        "standoff": 15
                      },
                      "zerolinecolor": "white",
                      "zerolinewidth": 2
                    },
                    "yaxis": {
                      "automargin": true,
                      "gridcolor": "white",
                      "linecolor": "white",
                      "ticks": "",
                      "title": {
                        "standoff": 15
                      },
                      "zerolinecolor": "white",
                      "zerolinewidth": 2
                    }
                  }
                },
                "title": {
                  "text": "rfm[Recency]"
                },
                "xaxis": {
                  "title": {
                    "text": "Recency"
                  }
                },
                "yaxis": {
                  "title": {
                    "text": "Density"
                  }
                }
              }
            },
            "text/html": [
              "<div>                            <div id=\"dcf9b096-fa98-4de2-b9e8-803e01d2a2ec\" class=\"plotly-graph-div\" style=\"height:525px; width:100%;\"></div>            <script type=\"text/javascript\">                require([\"plotly\"], function(Plotly) {                    window.PLOTLYENV=window.PLOTLYENV || {};                                    if (document.getElementById(\"dcf9b096-fa98-4de2-b9e8-803e01d2a2ec\")) {                    Plotly.newPlot(                        \"dcf9b096-fa98-4de2-b9e8-803e01d2a2ec\",                        [{\"mode\":\"lines+markers\",\"name\":\"_child30\",\"x\":[-45.92418858149951,-42.44253844500202,-38.96088830850454,-35.47923817200706,-31.99758803550958,-28.515937899012094,-25.034287762514612,-21.55263762601713,-18.07098748951965,-14.589337353022167,-11.107687216524681,-7.626037080027203,-4.144386943529717,-0.662736807032239,2.8189133294652464,6.300563465962725,9.78221360246021,13.263863738957696,16.745513875455174,20.227164011952652,23.708814148450145,27.190464284947623,30.6721144214451,34.15376455794258,37.63541469444007,41.11706483093755,44.59871496743503,48.08036510393252,51.56201524043,55.04366537692748,58.52531551342496,62.00696564992245,65.48861578641993,68.9702659229174,72.4519160594149,75.93356619591238,79.41521633240986,82.89686646890733,86.37851660540481,89.86016674190229,93.3418168783998,96.82346701489728,100.30511715139475,103.78676728789223,107.26841742438971,110.75006756088719,114.23171769738467,117.71336783388217,121.19501797037965,124.67666810687713,128.1583182433746,131.63996837987207,135.12161851636955,138.60326865286703,142.08491878936456,145.56656892586204,149.04821906235952,152.529869198857,156.01151933535448,159.49316947185196,162.97481960834943,166.4564697448469,169.9381198813444,173.41977001784187,176.90142015433935,180.38307029083683,183.8647204273343,187.34637056383178,190.82802070032932,194.3096708368268,197.79132097332428,201.27297110982175,204.75462124631923,208.2362713828167,211.7179215193142,215.19957165581167,218.68122179230915,222.16287192880662,225.6445220653041,229.12617220180164,232.60782233829912,236.0894724747966,239.57112261129407,243.05277274779155,246.53442288428903,250.0160730207865,253.49772315728399,256.97937329378146,260.46102343027894,263.9426735667764,267.4243237032739,270.9059738397714,274.38762397626886,277.8692741127664,281.35092424926387,284.83257438576135,288.3142245222588,291.7958746587563,295.2775247952538,298.75917493175126,302.24082506824874,305.7224752047462,309.2041253412437,312.6857754777412,316.16742561423865,319.64907575073613,323.1307258872336,326.61237602373114,330.0940261602286,333.5756762967261,337.0573264332236,340.53897656972106,344.02062670621854,347.502276842716,350.9839269792135,354.46557711571097,357.94722725220845,361.4288773887059,364.9105275252034,368.3921776617009,371.87382779819836,375.3554779346959,378.8371280711934,382.31877820769085,385.80042834418833,389.2820784806858,392.7637286171833,396.24537875368077,399.72702889017825,403.2086790266757,406.6903291631732,410.1719792996707,413.65362943616816,417.13527957266564,420.6169297091631,424.0985798456606,427.58022998215813,431.0618801186556,434.5435302551531,438.02518039165057,441.50683052814804,444.9884806646455,448.470130801143,451.9517809376405,455.43343107413796,458.91508121063544,462.3967313471329,465.8783814836304,469.36003162012787,472.84168175662535,476.3233318931228,479.8049820296203,483.2866321661178,486.76828230261526,490.24993243911274,493.7315825756102,497.2132327121077,500.6948828486053,504.17653298510277,507.65818312160025,511.1398332580977,514.6214833945952,518.1031335310927,521.5847836675902,525.0664338040876,528.5480839405851,532.0297340770826,535.5113842135801,538.9930343500776,542.474684486575,545.9563346230725,549.43798475957,552.9196348960675,556.4012850325649,559.8829351690624,563.3645853055599,566.8462354420574,570.3278855785549,573.8095357150523,577.2911858515498,580.7728359880473,584.2544861245448,587.7361362610422,591.2177863975397,594.6994365340372,598.1810866705348,601.6627368070323,605.1443869435298,608.6260370800272,612.1076872165247,615.5893373530222,619.0709874895197,622.5526376260171,626.0342877625146,629.5159378990121,632.9975880355096,636.4792381720071,639.9608883085045,643.442538445002,646.9241885814995],\"y\":[1.6703834180115937e-06,3.565506720059227e-06,7.267325804143568e-06,1.4150142306219617e-05,2.6332114276700903e-05,4.685759348181282e-05,7.97815332563714e-05,0.00013006006930748416,0.0002031572906642957,0.00030432420256309306,0.0004375937065874165,0.0006046470104057537,0.0008038047037270525,0.0010294347271586478,0.0012720175110986377,0.001518965986421055,0.0017561042741109048,0.001969529180254366,0.002147477106386284,0.0022818290344604327,0.0023689962532169977,0.002410090773958684,0.0024104366913584923,0.0023785788341909044,0.0023249828196312706,0.002260615394042162,0.0021955753641860467,0.0021379321224052816,0.0020929181020005413,0.002062595651902716,0.002046061387263197,0.0020401616829633534,0.0020405901592383613,0.0020431499714104744,0.0020449153576481017,0.002045032268467421,0.002044960405377591,0.002048073854791795,0.0020586899733511473,0.00208075596748317,0.0021165428894989666,0.002165726566745741,0.002225143998878326,0.0022893162597333793,0.0023515886614816116,0.0024055463237773267,0.0024462939930354286,0.002471266365541228,0.0024804190705716793,0.002475858685916597,0.0024611202549704725,0.0024403479118420687,0.0024175853814860054,0.0023962834963850324,0.0023790352016715395,0.002367490016203802,0.0023623853941304182,0.0023636455636279127,0.0023705175107492007,0.002381726017934005,0.002395635053741451,0.0024104079529823443,0.0024241674182891673,0.00243516426100902,0.0024419621967148556,0.0024436298270820466,0.002439905186852022,0.002431277050203852,0.002418925792953884,0.002404491924419442,0.0023896869158671927,0.0023758139755107443,0.0023633094379675473,0.0023514358631321008,0.0023382483793580183,0.002320912756026846,0.0022963780034388147,0.0022623072679979475,0.0022180705818932826,0.0021655351651640392,0.0021093872867537495,0.002056801207197404,0.0020164225026459448,0.0019968127128700596,0.002004654321614209,0.00204309485457044,0.002110599385625811,0.0022005931072852994,0.002302035049659324,0.002400894249520938,0.002482319140330837,0.0025331227151619215,0.002544088867014309,0.0025115893800711406,0.0024381229056265642,0.002331638349891044,0.002203818291564825,0.0020677681643985605,0.0019356878204129751,0.0018170527105302616,0.0017176337211123336,0.0016394214353585086,0.0015812857939409128,0.0015400603357738725,0.001511710333214727,0.0014923065797498502,0.0014786422277954401,0.001468457994087976,0.0014603484358290562,0.0014534874494565929,0.0014473254975429723,0.0014413780226679575,0.0014351600786844695,0.0014282509492460388,0.0014204198822621056,0.0014117272148128706,0.001402536392259724,0.0013934186657392448,0.0013849814867237815,0.00137768269493671,0.001371694363967853,0.0013668552329467274,0.0013627127655327026,0.001358622808647284,0.0013538603401938964,0.0013477031997501253,0.001339475799505099,0.0013285682817659249,0.0013144640402557813,0.0012968058763483908,0.0012755086489909077,0.0012508939682680082,0.0012237956174703615,0.0011955770541286388,0.00116802083351736,0.0011430892312553397,0.0011226010941575238,0.0011079035564205988,0.0010996243327353987,0.0010975670384125828,0.0011007672456705179,0.0011076786679115249,0.0011164259630357467,0.0011250545961319785,0.0011317278929733015,0.0011348545670248958,0.00113316009940017,0.0011257301348257447,0.0011120507261012243,0.0010920548547050366,0.0010661669478936365,0.0010353249492171836,0.0010009561098677172,0.0009648875927538066,0.0009291844619771246,0.000895923816319164,0.0008669320388898979,0.0008435277775891633,0.0008263204695433134,0.0008151086100058434,0.0008089036984947396,0.0008060802393464138,0.0008046273440791357,0.0008024598703679129,0.0007977387773858158,0.0007891496789319208,0.0007760927440490804,0.0007587456836307112,0.0007379770145248448,0.0007151118808481338,0.0006915864096848918,0.0006685613660208005,0.0006465889288887313,0.0006254249648289032,0.0006040475926591247,0.0005808874418062272,0.0005542133250642942,0.0005225710259531582,0.00048515928527469745,0.0004420499197307577,0.0003942083090955768,0.0003433273606716626,0.00029153336387073407,0.00024104395960346633,0.0001938550752480061,0.00015151184040489507,0.00011498875401307723,8.467649551014762e-05,6.0452986842543693e-05,4.1806716717415207e-05,2.7979840171331515e-05,1.8104362660664023e-05,1.1313622064387294e-05,6.820586150353318e-06,3.9623428965196665e-06,2.215632720250387e-06,1.1911568159656928e-06,6.150192966635056e-07,3.0464930272553637e-07,1.4463432189133e-07],\"type\":\"scatter\"}],                        {\"template\":{\"data\":{\"bar\":[{\"error_x\":{\"color\":\"#2a3f5f\"},\"error_y\":{\"color\":\"#2a3f5f\"},\"marker\":{\"line\":{\"color\":\"#E5ECF6\",\"width\":0.5},\"pattern\":{\"fillmode\":\"overlay\",\"size\":10,\"solidity\":0.2}},\"type\":\"bar\"}],\"barpolar\":[{\"marker\":{\"line\":{\"color\":\"#E5ECF6\",\"width\":0.5},\"pattern\":{\"fillmode\":\"overlay\",\"size\":10,\"solidity\":0.2}},\"type\":\"barpolar\"}],\"carpet\":[{\"aaxis\":{\"endlinecolor\":\"#2a3f5f\",\"gridcolor\":\"white\",\"linecolor\":\"white\",\"minorgridcolor\":\"white\",\"startlinecolor\":\"#2a3f5f\"},\"baxis\":{\"endlinecolor\":\"#2a3f5f\",\"gridcolor\":\"white\",\"linecolor\":\"white\",\"minorgridcolor\":\"white\",\"startlinecolor\":\"#2a3f5f\"},\"type\":\"carpet\"}],\"choropleth\":[{\"colorbar\":{\"outlinewidth\":0,\"ticks\":\"\"},\"type\":\"choropleth\"}],\"contour\":[{\"colorbar\":{\"outlinewidth\":0,\"ticks\":\"\"},\"colorscale\":[[0.0,\"#0d0887\"],[0.1111111111111111,\"#46039f\"],[0.2222222222222222,\"#7201a8\"],[0.3333333333333333,\"#9c179e\"],[0.4444444444444444,\"#bd3786\"],[0.5555555555555556,\"#d8576b\"],[0.6666666666666666,\"#ed7953\"],[0.7777777777777778,\"#fb9f3a\"],[0.8888888888888888,\"#fdca26\"],[1.0,\"#f0f921\"]],\"type\":\"contour\"}],\"contourcarpet\":[{\"colorbar\":{\"outlinewidth\":0,\"ticks\":\"\"},\"type\":\"contourcarpet\"}],\"heatmap\":[{\"colorbar\":{\"outlinewidth\":0,\"ticks\":\"\"},\"colorscale\":[[0.0,\"#0d0887\"],[0.1111111111111111,\"#46039f\"],[0.2222222222222222,\"#7201a8\"],[0.3333333333333333,\"#9c179e\"],[0.4444444444444444,\"#bd3786\"],[0.5555555555555556,\"#d8576b\"],[0.6666666666666666,\"#ed7953\"],[0.7777777777777778,\"#fb9f3a\"],[0.8888888888888888,\"#fdca26\"],[1.0,\"#f0f921\"]],\"type\":\"heatmap\"}],\"heatmapgl\":[{\"colorbar\":{\"outlinewidth\":0,\"ticks\":\"\"},\"colorscale\":[[0.0,\"#0d0887\"],[0.1111111111111111,\"#46039f\"],[0.2222222222222222,\"#7201a8\"],[0.3333333333333333,\"#9c179e\"],[0.4444444444444444,\"#bd3786\"],[0.5555555555555556,\"#d8576b\"],[0.6666666666666666,\"#ed7953\"],[0.7777777777777778,\"#fb9f3a\"],[0.8888888888888888,\"#fdca26\"],[1.0,\"#f0f921\"]],\"type\":\"heatmapgl\"}],\"histogram\":[{\"marker\":{\"pattern\":{\"fillmode\":\"overlay\",\"size\":10,\"solidity\":0.2}},\"type\":\"histogram\"}],\"histogram2d\":[{\"colorbar\":{\"outlinewidth\":0,\"ticks\":\"\"},\"colorscale\":[[0.0,\"#0d0887\"],[0.1111111111111111,\"#46039f\"],[0.2222222222222222,\"#7201a8\"],[0.3333333333333333,\"#9c179e\"],[0.4444444444444444,\"#bd3786\"],[0.5555555555555556,\"#d8576b\"],[0.6666666666666666,\"#ed7953\"],[0.7777777777777778,\"#fb9f3a\"],[0.8888888888888888,\"#fdca26\"],[1.0,\"#f0f921\"]],\"type\":\"histogram2d\"}],\"histogram2dcontour\":[{\"colorbar\":{\"outlinewidth\":0,\"ticks\":\"\"},\"colorscale\":[[0.0,\"#0d0887\"],[0.1111111111111111,\"#46039f\"],[0.2222222222222222,\"#7201a8\"],[0.3333333333333333,\"#9c179e\"],[0.4444444444444444,\"#bd3786\"],[0.5555555555555556,\"#d8576b\"],[0.6666666666666666,\"#ed7953\"],[0.7777777777777778,\"#fb9f3a\"],[0.8888888888888888,\"#fdca26\"],[1.0,\"#f0f921\"]],\"type\":\"histogram2dcontour\"}],\"mesh3d\":[{\"colorbar\":{\"outlinewidth\":0,\"ticks\":\"\"},\"type\":\"mesh3d\"}],\"parcoords\":[{\"line\":{\"colorbar\":{\"outlinewidth\":0,\"ticks\":\"\"}},\"type\":\"parcoords\"}],\"pie\":[{\"automargin\":true,\"type\":\"pie\"}],\"scatter\":[{\"marker\":{\"colorbar\":{\"outlinewidth\":0,\"ticks\":\"\"}},\"type\":\"scatter\"}],\"scatter3d\":[{\"line\":{\"colorbar\":{\"outlinewidth\":0,\"ticks\":\"\"}},\"marker\":{\"colorbar\":{\"outlinewidth\":0,\"ticks\":\"\"}},\"type\":\"scatter3d\"}],\"scattercarpet\":[{\"marker\":{\"colorbar\":{\"outlinewidth\":0,\"ticks\":\"\"}},\"type\":\"scattercarpet\"}],\"scattergeo\":[{\"marker\":{\"colorbar\":{\"outlinewidth\":0,\"ticks\":\"\"}},\"type\":\"scattergeo\"}],\"scattergl\":[{\"marker\":{\"colorbar\":{\"outlinewidth\":0,\"ticks\":\"\"}},\"type\":\"scattergl\"}],\"scattermapbox\":[{\"marker\":{\"colorbar\":{\"outlinewidth\":0,\"ticks\":\"\"}},\"type\":\"scattermapbox\"}],\"scatterpolar\":[{\"marker\":{\"colorbar\":{\"outlinewidth\":0,\"ticks\":\"\"}},\"type\":\"scatterpolar\"}],\"scatterpolargl\":[{\"marker\":{\"colorbar\":{\"outlinewidth\":0,\"ticks\":\"\"}},\"type\":\"scatterpolargl\"}],\"scatterternary\":[{\"marker\":{\"colorbar\":{\"outlinewidth\":0,\"ticks\":\"\"}},\"type\":\"scatterternary\"}],\"surface\":[{\"colorbar\":{\"outlinewidth\":0,\"ticks\":\"\"},\"colorscale\":[[0.0,\"#0d0887\"],[0.1111111111111111,\"#46039f\"],[0.2222222222222222,\"#7201a8\"],[0.3333333333333333,\"#9c179e\"],[0.4444444444444444,\"#bd3786\"],[0.5555555555555556,\"#d8576b\"],[0.6666666666666666,\"#ed7953\"],[0.7777777777777778,\"#fb9f3a\"],[0.8888888888888888,\"#fdca26\"],[1.0,\"#f0f921\"]],\"type\":\"surface\"}],\"table\":[{\"cells\":{\"fill\":{\"color\":\"#EBF0F8\"},\"line\":{\"color\":\"white\"}},\"header\":{\"fill\":{\"color\":\"#C8D4E3\"},\"line\":{\"color\":\"white\"}},\"type\":\"table\"}]},\"layout\":{\"annotationdefaults\":{\"arrowcolor\":\"#2a3f5f\",\"arrowhead\":0,\"arrowwidth\":1},\"autotypenumbers\":\"strict\",\"coloraxis\":{\"colorbar\":{\"outlinewidth\":0,\"ticks\":\"\"}},\"colorscale\":{\"diverging\":[[0,\"#8e0152\"],[0.1,\"#c51b7d\"],[0.2,\"#de77ae\"],[0.3,\"#f1b6da\"],[0.4,\"#fde0ef\"],[0.5,\"#f7f7f7\"],[0.6,\"#e6f5d0\"],[0.7,\"#b8e186\"],[0.8,\"#7fbc41\"],[0.9,\"#4d9221\"],[1,\"#276419\"]],\"sequential\":[[0.0,\"#0d0887\"],[0.1111111111111111,\"#46039f\"],[0.2222222222222222,\"#7201a8\"],[0.3333333333333333,\"#9c179e\"],[0.4444444444444444,\"#bd3786\"],[0.5555555555555556,\"#d8576b\"],[0.6666666666666666,\"#ed7953\"],[0.7777777777777778,\"#fb9f3a\"],[0.8888888888888888,\"#fdca26\"],[1.0,\"#f0f921\"]],\"sequentialminus\":[[0.0,\"#0d0887\"],[0.1111111111111111,\"#46039f\"],[0.2222222222222222,\"#7201a8\"],[0.3333333333333333,\"#9c179e\"],[0.4444444444444444,\"#bd3786\"],[0.5555555555555556,\"#d8576b\"],[0.6666666666666666,\"#ed7953\"],[0.7777777777777778,\"#fb9f3a\"],[0.8888888888888888,\"#fdca26\"],[1.0,\"#f0f921\"]]},\"colorway\":[\"#636efa\",\"#EF553B\",\"#00cc96\",\"#ab63fa\",\"#FFA15A\",\"#19d3f3\",\"#FF6692\",\"#B6E880\",\"#FF97FF\",\"#FECB52\"],\"font\":{\"color\":\"#2a3f5f\"},\"geo\":{\"bgcolor\":\"white\",\"lakecolor\":\"white\",\"landcolor\":\"#E5ECF6\",\"showlakes\":true,\"showland\":true,\"subunitcolor\":\"white\"},\"hoverlabel\":{\"align\":\"left\"},\"hovermode\":\"closest\",\"mapbox\":{\"style\":\"light\"},\"paper_bgcolor\":\"white\",\"plot_bgcolor\":\"#E5ECF6\",\"polar\":{\"angularaxis\":{\"gridcolor\":\"white\",\"linecolor\":\"white\",\"ticks\":\"\"},\"bgcolor\":\"#E5ECF6\",\"radialaxis\":{\"gridcolor\":\"white\",\"linecolor\":\"white\",\"ticks\":\"\"}},\"scene\":{\"xaxis\":{\"backgroundcolor\":\"#E5ECF6\",\"gridcolor\":\"white\",\"gridwidth\":2,\"linecolor\":\"white\",\"showbackground\":true,\"ticks\":\"\",\"zerolinecolor\":\"white\"},\"yaxis\":{\"backgroundcolor\":\"#E5ECF6\",\"gridcolor\":\"white\",\"gridwidth\":2,\"linecolor\":\"white\",\"showbackground\":true,\"ticks\":\"\",\"zerolinecolor\":\"white\"},\"zaxis\":{\"backgroundcolor\":\"#E5ECF6\",\"gridcolor\":\"white\",\"gridwidth\":2,\"linecolor\":\"white\",\"showbackground\":true,\"ticks\":\"\",\"zerolinecolor\":\"white\"}},\"shapedefaults\":{\"line\":{\"color\":\"#2a3f5f\"}},\"ternary\":{\"aaxis\":{\"gridcolor\":\"white\",\"linecolor\":\"white\",\"ticks\":\"\"},\"baxis\":{\"gridcolor\":\"white\",\"linecolor\":\"white\",\"ticks\":\"\"},\"bgcolor\":\"#E5ECF6\",\"caxis\":{\"gridcolor\":\"white\",\"linecolor\":\"white\",\"ticks\":\"\"}},\"title\":{\"x\":0.05},\"xaxis\":{\"automargin\":true,\"gridcolor\":\"white\",\"linecolor\":\"white\",\"ticks\":\"\",\"title\":{\"standoff\":15},\"zerolinecolor\":\"white\",\"zerolinewidth\":2},\"yaxis\":{\"automargin\":true,\"gridcolor\":\"white\",\"linecolor\":\"white\",\"ticks\":\"\",\"title\":{\"standoff\":15},\"zerolinecolor\":\"white\",\"zerolinewidth\":2}}},\"title\":{\"text\":\"rfm[Recency]\"},\"xaxis\":{\"title\":{\"text\":\"Recency\"}},\"yaxis\":{\"title\":{\"text\":\"Density\"}}},                        {\"responsive\": true}                    ).then(function(){\n",
              "                            \n",
              "var gd = document.getElementById('dcf9b096-fa98-4de2-b9e8-803e01d2a2ec');\n",
              "var x = new MutationObserver(function (mutations, observer) {{\n",
              "        var display = window.getComputedStyle(gd).display;\n",
              "        if (!display || display === 'none') {{\n",
              "            console.log([gd, 'removed!']);\n",
              "            Plotly.purge(gd);\n",
              "            observer.disconnect();\n",
              "        }}\n",
              "}});\n",
              "\n",
              "// Listen for the removal of the full notebook cells\n",
              "var notebookContainer = gd.closest('#notebook-container');\n",
              "if (notebookContainer) {{\n",
              "    x.observe(notebookContainer, {childList: true});\n",
              "}}\n",
              "\n",
              "// Listen for the clearing of the current output cell\n",
              "var outputEl = gd.closest('.output');\n",
              "if (outputEl) {{\n",
              "    x.observe(outputEl, {childList: true});\n",
              "}}\n",
              "\n",
              "                        })                };                });            </script>        </div>"
            ]
          },
          "metadata": {},
          "output_type": "display_data"
        },
        {
          "data": {
            "image/png": "[encoded data removed]",
            "text/plain": [
              "<Figure size 864x432 with 1 Axes>"
            ]
          },
          "metadata": {},
          "output_type": "display_data"
        }
      ],
      "source": [
        "sns.set_style(\"darkgrid\") \n",
        "sns.set(palette='muted', color_codes=True, style='white')\n",
        "fig, ax = plt.subplots(figsize=(12, 6))\n",
        "sns.despine(left=True)\n",
        "sns.distplot(rfm['Recency'], bins=30)\n",
        "\n",
        "# Convertir le graphique matplotlib en objet Plotly\n",
        "plotly_fig2 = go.Figure()\n",
        "for trace in plt.gca().get_lines():\n",
        "    plotly_fig2.add_trace(go.Scatter(x=trace.get_xdata(), y=trace.get_ydata(), mode='lines+markers', name=trace.get_label()))\n",
        "\n",
        "\n",
        "plotly_fig2.update_layout(\n",
        "    title='rfm[Recency]',\n",
        "    xaxis_title='Recency',\n",
        "    yaxis_title='Density'\n",
        ")\n",
        "# Fermer le graphique matplotlib pour empêcher son affichage\n",
        "plt.close()\n",
        "# plt.show()"
      ]
    },
    {
      "cell_type": "code",
      "execution_count": 191,
      "metadata": {
        "colab": {
          "base_uri": "https://localhost:8080/",
          "height": 776
        },
        "id": "_ZIkcWTJ8TEv",
        "outputId": "c4e2c662-9c56-4218-c51d-677995c6c6e8"
      },
      "outputs": [
        {
          "name": "stderr",
          "output_type": "stream",
          "text": [
            "c:\\Users\\nazm1\\anaconda3\\lib\\site-packages\\seaborn\\distributions.py:2619: FutureWarning:\n",
            "\n",
            "`distplot` is a deprecated function and will be removed in a future version. Please adapt your code to use either `displot` (a figure-level function with similar flexibility) or `histplot` (an axes-level function for histograms).\n",
            "\n"
          ]
        }
      ],
      "source": [
        "sns.set(palette='muted', color_codes=True, style='white')\n",
        "fig, ax = plt.subplots(figsize=(12, 6))\n",
        "sns.despine(left=True)\n",
        "sns.distplot(rfm['Frequency'], bins=5)\n",
        "plt.grid(True)\n",
        "\n",
        "# Convertir le graphique matplotlib en objet Plotly\n",
        "plotly_fig3 = go.Figure()\n",
        "for trace in plt.gca().get_lines():\n",
        "    plotly_fig3.add_trace(go.Scatter(x=trace.get_xdata(), y=trace.get_ydata(), mode='lines+markers', name=trace.get_label()))\n",
        "\n",
        "plotly_fig3.update_layout(\n",
        "    title='rfm[Frequency]',\n",
        "    xaxis_title='Frequency',\n",
        "    yaxis_title='Density'\n",
        ")\n",
        "\n",
        "# Fermer le graphique matplotlib pour empêcher son affichage\n",
        "plt.close()"
      ]
    },
    {
      "cell_type": "code",
      "execution_count": 192,
      "metadata": {
        "colab": {
          "base_uri": "https://localhost:8080/",
          "height": 776
        },
        "id": "ACO8ZlXQ9gBw",
        "outputId": "071bb842-49e7-420c-a467-f6f4872a057f"
      },
      "outputs": [
        {
          "name": "stderr",
          "output_type": "stream",
          "text": [
            "c:\\Users\\nazm1\\anaconda3\\lib\\site-packages\\seaborn\\distributions.py:2619: FutureWarning:\n",
            "\n",
            "`distplot` is a deprecated function and will be removed in a future version. Please adapt your code to use either `displot` (a figure-level function with similar flexibility) or `histplot` (an axes-level function for histograms).\n",
            "\n"
          ]
        }
      ],
      "source": [
        "# Créer un autre graphique matplotlib\n",
        "sns.set(palette='muted', color_codes=True, style='white')\n",
        "fig, ax = plt.subplots(figsize=(12, 6))\n",
        "sns.despine(left=True)\n",
        "sns.distplot(rfm['Monetary'], bins=5)\n",
        "plt.grid(True)\n",
        "\n",
        "# Convertir le graphique matplotlib en objet Plotly\n",
        "plotly_fig4 = go.Figure()\n",
        "for trace in plt.gca().get_lines():\n",
        "    plotly_fig4.add_trace(go.Scatter(x=trace.get_xdata(), y=trace.get_ydata(), mode='lines', name=trace.get_label()))\n",
        "\n",
        "plotly_fig4.update_layout(\n",
        "    title='rfm[Monetary]',\n",
        "    xaxis_title='Monetary',\n",
        "    yaxis_title='Density'\n",
        ")\n",
        "\n",
        "# Fermer le graphique matplotlib pour empêcher son affichage\n",
        "plt.close()"
      ]
    },
    {
      "cell_type": "code",
      "execution_count": null,
      "metadata": {
        "colab": {
          "base_uri": "https://localhost:8080/",
          "height": 206
        },
        "id": "Qmi0s4jm9luP",
        "outputId": "c1df5f37-fa42-4dcc-9f36-3c7e9e62b878"
      },
      "outputs": [
        {
          "data": {
            "application/vnd.google.colaboratory.intrinsic+json": {
              "summary": "{\n  \"name\": \"rfm\",\n  \"rows\": 93083,\n  \"fields\": [\n    {\n      \"column\": \"customer_id\",\n      \"properties\": {\n        \"dtype\": \"string\",\n        \"num_unique_values\": 93083,\n        \"samples\": [\n          \"4b78eb13e67dfbcaf19a5340a17981a9\",\n          \"e4faf432d9e4d83058eda07b9b7e0503\",\n          \"c9ec6e9a0c1cf3a1302de5b343cd901f\"\n        ],\n        \"semantic_type\": \"\",\n        \"description\": \"\"\n      }\n    },\n    {\n      \"column\": \"Recency\",\n      \"properties\": {\n        \"dtype\": \"number\",\n        \"std\": 150,\n        \"min\": 0,\n        \"max\": 601,\n        \"num_unique_values\": 602,\n        \"samples\": [\n          441,\n          481,\n          249\n        ],\n        \"semantic_type\": \"\",\n        \"description\": \"\"\n      }\n    },\n    {\n      \"column\": \"Frequency\",\n      \"properties\": {\n        \"dtype\": \"number\",\n        \"std\": 0,\n        \"min\": 1,\n        \"max\": 75,\n        \"num_unique_values\": 26,\n        \"samples\": [\n          15,\n          19,\n          1\n        ],\n        \"semantic_type\": \"\",\n        \"description\": \"\"\n      }\n    },\n    {\n      \"column\": \"Monetary\",\n      \"properties\": {\n        \"dtype\": \"number\",\n        \"std\": 642.7816881740088,\n        \"min\": 9.59,\n        \"max\": 109312.64,\n        \"num_unique_values\": 30312,\n        \"samples\": [\n          140.56,\n          85.23,\n          537.32\n        ],\n        \"semantic_type\": \"\",\n        \"description\": \"\"\n      }\n    },\n    {\n      \"column\": \"Cluster\",\n      \"properties\": {\n        \"dtype\": \"int32\",\n        \"num_unique_values\": 5,\n        \"samples\": [\n          2,\n          4,\n          1\n        ],\n        \"semantic_type\": \"\",\n        \"description\": \"\"\n      }\n    },\n    {\n      \"column\": \"Recency_scaled\",\n      \"properties\": {\n        \"dtype\": \"number\",\n        \"std\": 1.0000053715934025,\n        \"min\": -1.5617139222673873,\n        \"max\": 2.42103100872563,\n        \"num_unique_values\": 602,\n        \"samples\": [\n          1.3607328573797355,\n          1.625807395216209,\n          0.08837507576466155\n        ],\n        \"semantic_type\": \"\",\n        \"description\": \"\"\n      }\n    },\n    {\n      \"column\": \"Frequency_scaled\",\n      \"properties\": {\n        \"dtype\": \"number\",\n        \"std\": 1.0000053715934027,\n        \"min\": -0.2830405310593999,\n        \"max\": 89.98565887131848,\n        \"num_unique_values\": 26,\n        \"samples\": [\n          16.794821518039114,\n          21.674210674924407,\n          -0.2830405310593999\n        ],\n        \"semantic_type\": \"\",\n        \"description\": \"\"\n      }\n    },\n    {\n      \"column\": \"Monetary_scaled\",\n      \"properties\": {\n        \"dtype\": \"number\",\n        \"std\": 1.0000053715934027,\n        \"min\": -0.31451737338028163,\n        \"max\": 169.73332179585327,\n        \"num_unique_values\": 30145,\n        \"samples\": [\n          0.6322010536869749,\n          2.580929138981776,\n          2.497510010821544\n        ],\n        \"semantic_type\": \"\",\n        \"description\": \"\"\n      }\n    }\n  ]\n}",
              "type": "dataframe",
              "variable_name": "rfm"
            },
            "text/html": [
              "\n",
              "  <div id=\"df-45acaa7b-9584-49a9-95bd-d05411c721c6\" class=\"colab-df-container\">\n",
              "    <div>\n",
              "<style scoped>\n",
              "    .dataframe tbody tr th:only-of-type {\n",
              "        vertical-align: middle;\n",
              "    }\n",
              "\n",
              "    .dataframe tbody tr th {\n",
              "        vertical-align: top;\n",
              "    }\n",
              "\n",
              "    .dataframe thead th {\n",
              "        text-align: right;\n",
              "    }\n",
              "</style>\n",
              "<table border=\"1\" class=\"dataframe\">\n",
              "  <thead>\n",
              "    <tr style=\"text-align: right;\">\n",
              "      <th></th>\n",
              "      <th>customer_id</th>\n",
              "      <th>Recency</th>\n",
              "      <th>Frequency</th>\n",
              "      <th>Monetary</th>\n",
              "      <th>Cluster</th>\n",
              "      <th>Recency_scaled</th>\n",
              "      <th>Frequency_scaled</th>\n",
              "      <th>Monetary_scaled</th>\n",
              "    </tr>\n",
              "  </thead>\n",
              "  <tbody>\n",
              "    <tr>\n",
              "      <th>0</th>\n",
              "      <td>0000366f3b9a7992bf8c76cfdf3221e2</td>\n",
              "      <td>111</td>\n",
              "      <td>1</td>\n",
              "      <td>141.90</td>\n",
              "      <td>0</td>\n",
              "      <td>-0.826132</td>\n",
              "      <td>-0.283041</td>\n",
              "      <td>-0.108677</td>\n",
              "    </tr>\n",
              "    <tr>\n",
              "      <th>1</th>\n",
              "      <td>0000b849f77a49e4a4ce2b2a4ca5be3f</td>\n",
              "      <td>114</td>\n",
              "      <td>1</td>\n",
              "      <td>27.19</td>\n",
              "      <td>0</td>\n",
              "      <td>-0.806251</td>\n",
              "      <td>-0.283041</td>\n",
              "      <td>-0.287136</td>\n",
              "    </tr>\n",
              "    <tr>\n",
              "      <th>2</th>\n",
              "      <td>0000f46a3911fa3c0805444483337064</td>\n",
              "      <td>536</td>\n",
              "      <td>1</td>\n",
              "      <td>86.22</td>\n",
              "      <td>2</td>\n",
              "      <td>1.990285</td>\n",
              "      <td>-0.283041</td>\n",
              "      <td>-0.195301</td>\n",
              "    </tr>\n",
              "    <tr>\n",
              "      <th>3</th>\n",
              "      <td>0000f6ccb0745a6a4b88665a16c9f078</td>\n",
              "      <td>320</td>\n",
              "      <td>1</td>\n",
              "      <td>43.62</td>\n",
              "      <td>2</td>\n",
              "      <td>0.558882</td>\n",
              "      <td>-0.283041</td>\n",
              "      <td>-0.261575</td>\n",
              "    </tr>\n",
              "    <tr>\n",
              "      <th>4</th>\n",
              "      <td>0004aac84e0df4da2b147fca70cf8255</td>\n",
              "      <td>287</td>\n",
              "      <td>1</td>\n",
              "      <td>196.89</td>\n",
              "      <td>2</td>\n",
              "      <td>0.340196</td>\n",
              "      <td>-0.283041</td>\n",
              "      <td>-0.023126</td>\n",
              "    </tr>\n",
              "  </tbody>\n",
              "</table>\n",
              "</div>\n",
              "    <div class=\"colab-df-buttons\">\n",
              "\n",
              "  <div class=\"colab-df-container\">\n",
              "    <button class=\"colab-df-convert\" onclick=\"convertToInteractive('df-45acaa7b-9584-49a9-95bd-d05411c721c6')\"\n",
              "            title=\"Convert this dataframe to an interactive table.\"\n",
              "            style=\"display:none;\">\n",
              "\n",
              "  <svg xmlns=\"http://www.w3.org/2000/svg\" height=\"24px\" viewBox=\"0 -960 960 960\">\n",
              "    <path d=\"M120-120v-720h720v720H120Zm60-500h600v-160H180v160Zm220 220h160v-160H400v160Zm0 220h160v-160H400v160ZM180-400h160v-160H180v160Zm440 0h160v-160H620v160ZM180-180h160v-160H180v160Zm440 0h160v-160H620v160Z\"/>\n",
              "  </svg>\n",
              "    </button>\n",
              "\n",
              "  <style>\n",
              "    .colab-df-container {\n",
              "      display:flex;\n",
              "      gap: 12px;\n",
              "    }\n",
              "\n",
              "    .colab-df-convert {\n",
              "      background-color: #E8F0FE;\n",
              "      border: none;\n",
              "      border-radius: 50%;\n",
              "      cursor: pointer;\n",
              "      display: none;\n",
              "      fill: #1967D2;\n",
              "      height: 32px;\n",
              "      padding: 0 0 0 0;\n",
              "      width: 32px;\n",
              "    }\n",
              "\n",
              "    .colab-df-convert:hover {\n",
              "      background-color: #E2EBFA;\n",
              "      box-shadow: 0px 1px 2px rgba(60, 64, 67, 0.3), 0px 1px 3px 1px rgba(60, 64, 67, 0.15);\n",
              "      fill: #174EA6;\n",
              "    }\n",
              "\n",
              "    .colab-df-buttons div {\n",
              "      margin-bottom: 4px;\n",
              "    }\n",
              "\n",
              "    [theme=dark] .colab-df-convert {\n",
              "      background-color: #3B4455;\n",
              "      fill: #D2E3FC;\n",
              "    }\n",
              "\n",
              "    [theme=dark] .colab-df-convert:hover {\n",
              "      background-color: #434B5C;\n",
              "      box-shadow: 0px 1px 3px 1px rgba(0, 0, 0, 0.15);\n",
              "      filter: drop-shadow(0px 1px 2px rgba(0, 0, 0, 0.3));\n",
              "      fill: #FFFFFF;\n",
              "    }\n",
              "  </style>\n",
              "\n",
              "    <script>\n",
              "      const buttonEl =\n",
              "        document.querySelector('#df-45acaa7b-9584-49a9-95bd-d05411c721c6 button.colab-df-convert');\n",
              "      buttonEl.style.display =\n",
              "        google.colab.kernel.accessAllowed ? 'block' : 'none';\n",
              "\n",
              "      async function convertToInteractive(key) {\n",
              "        const element = document.querySelector('#df-45acaa7b-9584-49a9-95bd-d05411c721c6');\n",
              "        const dataTable =\n",
              "          await google.colab.kernel.invokeFunction('convertToInteractive',\n",
              "                                                    [key], {});\n",
              "        if (!dataTable) return;\n",
              "\n",
              "        const docLinkHtml = 'Like what you see? Visit the ' +\n",
              "          '<a target=\"_blank\" href=https://colab.research.google.com/notebooks/data_table.ipynb>data table notebook</a>'\n",
              "          + ' to learn more about interactive tables.';\n",
              "        element.innerHTML = '';\n",
              "        dataTable['output_type'] = 'display_data';\n",
              "        await google.colab.output.renderOutput(dataTable, element);\n",
              "        const docLink = document.createElement('div');\n",
              "        docLink.innerHTML = docLinkHtml;\n",
              "        element.appendChild(docLink);\n",
              "      }\n",
              "    </script>\n",
              "  </div>\n",
              "\n",
              "\n",
              "<div id=\"df-8382a011-925c-4a9a-a8cb-bc9004978c0b\">\n",
              "  <button class=\"colab-df-quickchart\" onclick=\"quickchart('df-8382a011-925c-4a9a-a8cb-bc9004978c0b')\"\n",
              "            title=\"Suggest charts\"\n",
              "            style=\"display:none;\">\n",
              "\n",
              "<svg xmlns=\"http://www.w3.org/2000/svg\" height=\"24px\"viewBox=\"0 0 24 24\"\n",
              "     width=\"24px\">\n",
              "    <g>\n",
              "        <path d=\"M19 3H5c-1.1 0-2 .9-2 2v14c0 1.1.9 2 2 2h14c1.1 0 2-.9 2-2V5c0-1.1-.9-2-2-2zM9 17H7v-7h2v7zm4 0h-2V7h2v10zm4 0h-2v-4h2v4z\"/>\n",
              "    </g>\n",
              "</svg>\n",
              "  </button>\n",
              "\n",
              "<style>\n",
              "  .colab-df-quickchart {\n",
              "      --bg-color: #E8F0FE;\n",
              "      --fill-color: #1967D2;\n",
              "      --hover-bg-color: #E2EBFA;\n",
              "      --hover-fill-color: #174EA6;\n",
              "      --disabled-fill-color: #AAA;\n",
              "      --disabled-bg-color: #DDD;\n",
              "  }\n",
              "\n",
              "  [theme=dark] .colab-df-quickchart {\n",
              "      --bg-color: #3B4455;\n",
              "      --fill-color: #D2E3FC;\n",
              "      --hover-bg-color: #434B5C;\n",
              "      --hover-fill-color: #FFFFFF;\n",
              "      --disabled-bg-color: #3B4455;\n",
              "      --disabled-fill-color: #666;\n",
              "  }\n",
              "\n",
              "  .colab-df-quickchart {\n",
              "    background-color: var(--bg-color);\n",
              "    border: none;\n",
              "    border-radius: 50%;\n",
              "    cursor: pointer;\n",
              "    display: none;\n",
              "    fill: var(--fill-color);\n",
              "    height: 32px;\n",
              "    padding: 0;\n",
              "    width: 32px;\n",
              "  }\n",
              "\n",
              "  .colab-df-quickchart:hover {\n",
              "    background-color: var(--hover-bg-color);\n",
              "    box-shadow: 0 1px 2px rgba(60, 64, 67, 0.3), 0 1px 3px 1px rgba(60, 64, 67, 0.15);\n",
              "    fill: var(--button-hover-fill-color);\n",
              "  }\n",
              "\n",
              "  .colab-df-quickchart-complete:disabled,\n",
              "  .colab-df-quickchart-complete:disabled:hover {\n",
              "    background-color: var(--disabled-bg-color);\n",
              "    fill: var(--disabled-fill-color);\n",
              "    box-shadow: none;\n",
              "  }\n",
              "\n",
              "  .colab-df-spinner {\n",
              "    border: 2px solid var(--fill-color);\n",
              "    border-color: transparent;\n",
              "    border-bottom-color: var(--fill-color);\n",
              "    animation:\n",
              "      spin 1s steps(1) infinite;\n",
              "  }\n",
              "\n",
              "  @keyframes spin {\n",
              "    0% {\n",
              "      border-color: transparent;\n",
              "      border-bottom-color: var(--fill-color);\n",
              "      border-left-color: var(--fill-color);\n",
              "    }\n",
              "    20% {\n",
              "      border-color: transparent;\n",
              "      border-left-color: var(--fill-color);\n",
              "      border-top-color: var(--fill-color);\n",
              "    }\n",
              "    30% {\n",
              "      border-color: transparent;\n",
              "      border-left-color: var(--fill-color);\n",
              "      border-top-color: var(--fill-color);\n",
              "      border-right-color: var(--fill-color);\n",
              "    }\n",
              "    40% {\n",
              "      border-color: transparent;\n",
              "      border-right-color: var(--fill-color);\n",
              "      border-top-color: var(--fill-color);\n",
              "    }\n",
              "    60% {\n",
              "      border-color: transparent;\n",
              "      border-right-color: var(--fill-color);\n",
              "    }\n",
              "    80% {\n",
              "      border-color: transparent;\n",
              "      border-right-color: var(--fill-color);\n",
              "      border-bottom-color: var(--fill-color);\n",
              "    }\n",
              "    90% {\n",
              "      border-color: transparent;\n",
              "      border-bottom-color: var(--fill-color);\n",
              "    }\n",
              "  }\n",
              "</style>\n",
              "\n",
              "  <script>\n",
              "    async function quickchart(key) {\n",
              "      const quickchartButtonEl =\n",
              "        document.querySelector('#' + key + ' button');\n",
              "      quickchartButtonEl.disabled = true;  // To prevent multiple clicks.\n",
              "      quickchartButtonEl.classList.add('colab-df-spinner');\n",
              "      try {\n",
              "        const charts = await google.colab.kernel.invokeFunction(\n",
              "            'suggestCharts', [key], {});\n",
              "      } catch (error) {\n",
              "        console.error('Error during call to suggestCharts:', error);\n",
              "      }\n",
              "      quickchartButtonEl.classList.remove('colab-df-spinner');\n",
              "      quickchartButtonEl.classList.add('colab-df-quickchart-complete');\n",
              "    }\n",
              "    (() => {\n",
              "      let quickchartButtonEl =\n",
              "        document.querySelector('#df-8382a011-925c-4a9a-a8cb-bc9004978c0b button');\n",
              "      quickchartButtonEl.style.display =\n",
              "        google.colab.kernel.accessAllowed ? 'block' : 'none';\n",
              "    })();\n",
              "  </script>\n",
              "</div>\n",
              "    </div>\n",
              "  </div>\n"
            ],
            "text/plain": [
              "                        customer_id  Recency  Frequency  Monetary  Cluster  \\\n",
              "0  0000366f3b9a7992bf8c76cfdf3221e2      111          1    141.90        0   \n",
              "1  0000b849f77a49e4a4ce2b2a4ca5be3f      114          1     27.19        0   \n",
              "2  0000f46a3911fa3c0805444483337064      536          1     86.22        2   \n",
              "3  0000f6ccb0745a6a4b88665a16c9f078      320          1     43.62        2   \n",
              "4  0004aac84e0df4da2b147fca70cf8255      287          1    196.89        2   \n",
              "\n",
              "   Recency_scaled  Frequency_scaled  Monetary_scaled  \n",
              "0       -0.826132         -0.283041        -0.108677  \n",
              "1       -0.806251         -0.283041        -0.287136  \n",
              "2        1.990285         -0.283041        -0.195301  \n",
              "3        0.558882         -0.283041        -0.261575  \n",
              "4        0.340196         -0.283041        -0.023126  "
            ]
          },
          "execution_count": 28,
          "metadata": {},
          "output_type": "execute_result"
        }
      ],
      "source": [
        "rfm.head()"
      ]
    },
    {
      "cell_type": "code",
      "execution_count": 196,
      "metadata": {},
      "outputs": [],
      "source": [
        "def num_outlier(df_in, col_name):\n",
        "    q1 = df_in[col_name].quantile(0.05)\n",
        "    q3 = df_in[col_name].quantile(0.95)\n",
        "    iqr = q3-q1 #Interquartile range\n",
        "    fence_low  = q1-1.5*iqr\n",
        "    fence_high = q3+1.5*iqr\n",
        "    outliers_df= df_in.loc[(df_in[col_name] < fence_low) | (df_in[col_name] > fence_high)]\n",
        "    return print(\"Number of outliers in {} column: \".format(col_name), len(outliers_df)), print(\"Indexes: \", outliers_df.index)"
      ]
    },
    {
      "cell_type": "code",
      "execution_count": 197,
      "metadata": {},
      "outputs": [
        {
          "name": "stdout",
          "output_type": "stream",
          "text": [
            "Number of outliers in Recency column:  0\n",
            "Indexes:  Int64Index([], dtype='int64')\n",
            "****************************************\n",
            "Number of outliers in Frequency column:  1686\n",
            "Indexes:  Int64Index([   22,   154,   221,   226,   247,   256,   357,   367,   484,\n",
            "              502,\n",
            "            ...\n",
            "            92438, 92547, 92560, 92814, 92828, 92854, 92883, 92904, 92990,\n",
            "            93071],\n",
            "           dtype='int64', length=1686)\n",
            "****************************************\n",
            "Number of outliers in Monetary column:  1022\n",
            "Indexes:  Int64Index([  129,   221,   255,   288,   415,   537,   569,   606,   612,\n",
            "              703,\n",
            "            ...\n",
            "            92730, 92735, 92762, 92810, 92854, 92904, 92923, 92988, 93071,\n",
            "            93078],\n",
            "           dtype='int64', length=1022)\n",
            "****************************************\n"
          ]
        }
      ],
      "source": [
        "for i in [\"Recency\", \"Frequency\", \"Monetary\"]:\n",
        "    num_outlier(rfm, i)\n",
        "    print(\"*\"*40)"
      ]
    },
    {
      "cell_type": "code",
      "execution_count": 198,
      "metadata": {},
      "outputs": [
        {
          "data": {
            "text/plain": [
              "(93083, 8)"
            ]
          },
          "execution_count": 198,
          "metadata": {},
          "output_type": "execute_result"
        }
      ],
      "source": [
        "rfm.shape"
      ]
    },
    {
      "cell_type": "code",
      "execution_count": 199,
      "metadata": {},
      "outputs": [],
      "source": [
        "def remove_outlier(df_in, col_name):\n",
        "    q1 = df_in[col_name].quantile(0.05)\n",
        "    q3 = df_in[col_name].quantile(0.95)\n",
        "    iqr = q3-q1\n",
        "    fence_low  = q1-1.5*iqr\n",
        "    fence_high = q3+1.5*iqr\n",
        "    index_outliers= df_in.loc[(df_in[col_name] < fence_low) | (df_in[col_name] > fence_high)].index\n",
        "    df_in= pd.DataFrame(df_in.drop(index_outliers.to_list(), axis=0, inplace=True))\n",
        "    print(\"Outliers in the {} column have been removed\".format(col_name))\n",
        "    return df_in"
      ]
    },
    {
      "cell_type": "code",
      "execution_count": 200,
      "metadata": {},
      "outputs": [
        {
          "name": "stdout",
          "output_type": "stream",
          "text": [
            "Outliers in the Recency column have been removed\n",
            "****************************************\n",
            "Outliers in the Monetary column have been removed\n",
            "****************************************\n"
          ]
        }
      ],
      "source": [
        "for i in [\"Recency\", \"Monetary\"]:\n",
        "    remove_outlier(rfm, i)\n",
        "    print(\"*\"*40)"
      ]
    },
    {
      "cell_type": "code",
      "execution_count": 201,
      "metadata": {},
      "outputs": [
        {
          "data": {
            "text/plain": [
              "(92061, 8)"
            ]
          },
          "execution_count": 201,
          "metadata": {},
          "output_type": "execute_result"
        }
      ],
      "source": [
        "rfm.shape"
      ]
    },
    {
      "cell_type": "code",
      "execution_count": 202,
      "metadata": {},
      "outputs": [
        {
          "data": {
            "text/html": [
              "<div>\n",
              "<style scoped>\n",
              "    .dataframe tbody tr th:only-of-type {\n",
              "        vertical-align: middle;\n",
              "    }\n",
              "\n",
              "    .dataframe tbody tr th {\n",
              "        vertical-align: top;\n",
              "    }\n",
              "\n",
              "    .dataframe thead th {\n",
              "        text-align: right;\n",
              "    }\n",
              "</style>\n",
              "<table border=\"1\" class=\"dataframe\">\n",
              "  <thead>\n",
              "    <tr style=\"text-align: right;\">\n",
              "      <th></th>\n",
              "      <th>Recency</th>\n",
              "      <th>Frequency</th>\n",
              "      <th>Monetary</th>\n",
              "      <th>Cluster</th>\n",
              "      <th>Recency_scaled</th>\n",
              "      <th>Frequency_scaled</th>\n",
              "      <th>Monetary_scaled</th>\n",
              "    </tr>\n",
              "    <tr>\n",
              "      <th>customer_id</th>\n",
              "      <th></th>\n",
              "      <th></th>\n",
              "      <th></th>\n",
              "      <th></th>\n",
              "      <th></th>\n",
              "      <th></th>\n",
              "      <th></th>\n",
              "    </tr>\n",
              "  </thead>\n",
              "  <tbody>\n",
              "    <tr>\n",
              "      <th>0000366f3b9a7992bf8c76cfdf3221e2</th>\n",
              "      <td>111</td>\n",
              "      <td>1</td>\n",
              "      <td>141.90</td>\n",
              "      <td>0</td>\n",
              "      <td>-0.826132</td>\n",
              "      <td>-0.283041</td>\n",
              "      <td>-0.108677</td>\n",
              "    </tr>\n",
              "    <tr>\n",
              "      <th>0000b849f77a49e4a4ce2b2a4ca5be3f</th>\n",
              "      <td>114</td>\n",
              "      <td>1</td>\n",
              "      <td>27.19</td>\n",
              "      <td>0</td>\n",
              "      <td>-0.806251</td>\n",
              "      <td>-0.283041</td>\n",
              "      <td>-0.287136</td>\n",
              "    </tr>\n",
              "    <tr>\n",
              "      <th>0000f46a3911fa3c0805444483337064</th>\n",
              "      <td>536</td>\n",
              "      <td>1</td>\n",
              "      <td>86.22</td>\n",
              "      <td>2</td>\n",
              "      <td>1.990285</td>\n",
              "      <td>-0.283041</td>\n",
              "      <td>-0.195301</td>\n",
              "    </tr>\n",
              "    <tr>\n",
              "      <th>0000f6ccb0745a6a4b88665a16c9f078</th>\n",
              "      <td>320</td>\n",
              "      <td>1</td>\n",
              "      <td>43.62</td>\n",
              "      <td>2</td>\n",
              "      <td>0.558882</td>\n",
              "      <td>-0.283041</td>\n",
              "      <td>-0.261575</td>\n",
              "    </tr>\n",
              "    <tr>\n",
              "      <th>0004aac84e0df4da2b147fca70cf8255</th>\n",
              "      <td>287</td>\n",
              "      <td>1</td>\n",
              "      <td>196.89</td>\n",
              "      <td>2</td>\n",
              "      <td>0.340196</td>\n",
              "      <td>-0.283041</td>\n",
              "      <td>-0.023126</td>\n",
              "    </tr>\n",
              "    <tr>\n",
              "      <th>...</th>\n",
              "      <td>...</td>\n",
              "      <td>...</td>\n",
              "      <td>...</td>\n",
              "      <td>...</td>\n",
              "      <td>...</td>\n",
              "      <td>...</td>\n",
              "      <td>...</td>\n",
              "    </tr>\n",
              "    <tr>\n",
              "      <th>fffbf87b7a1a6fa8b03f081c5f51a201</th>\n",
              "      <td>244</td>\n",
              "      <td>1</td>\n",
              "      <td>167.32</td>\n",
              "      <td>0</td>\n",
              "      <td>0.055241</td>\n",
              "      <td>-0.283041</td>\n",
              "      <td>-0.069129</td>\n",
              "    </tr>\n",
              "    <tr>\n",
              "      <th>fffea47cd6d3cc0a88bd621562a9d061</th>\n",
              "      <td>261</td>\n",
              "      <td>1</td>\n",
              "      <td>84.58</td>\n",
              "      <td>2</td>\n",
              "      <td>0.167897</td>\n",
              "      <td>-0.283041</td>\n",
              "      <td>-0.197852</td>\n",
              "    </tr>\n",
              "    <tr>\n",
              "      <th>ffff371b4d645b6ecea244b27531430a</th>\n",
              "      <td>567</td>\n",
              "      <td>1</td>\n",
              "      <td>112.46</td>\n",
              "      <td>2</td>\n",
              "      <td>2.195718</td>\n",
              "      <td>-0.283041</td>\n",
              "      <td>-0.154478</td>\n",
              "    </tr>\n",
              "    <tr>\n",
              "      <th>ffff5962728ec6157033ef9805bacc48</th>\n",
              "      <td>118</td>\n",
              "      <td>1</td>\n",
              "      <td>133.69</td>\n",
              "      <td>0</td>\n",
              "      <td>-0.779744</td>\n",
              "      <td>-0.283041</td>\n",
              "      <td>-0.121449</td>\n",
              "    </tr>\n",
              "    <tr>\n",
              "      <th>ffffd2657e2aad2907e67c3e9daecbeb</th>\n",
              "      <td>483</td>\n",
              "      <td>1</td>\n",
              "      <td>71.56</td>\n",
              "      <td>2</td>\n",
              "      <td>1.639061</td>\n",
              "      <td>-0.283041</td>\n",
              "      <td>-0.218108</td>\n",
              "    </tr>\n",
              "  </tbody>\n",
              "</table>\n",
              "<p>92061 rows × 7 columns</p>\n",
              "</div>"
            ],
            "text/plain": [
              "                                  Recency  Frequency  Monetary  Cluster  \\\n",
              "customer_id                                                               \n",
              "0000366f3b9a7992bf8c76cfdf3221e2      111          1    141.90        0   \n",
              "0000b849f77a49e4a4ce2b2a4ca5be3f      114          1     27.19        0   \n",
              "0000f46a3911fa3c0805444483337064      536          1     86.22        2   \n",
              "0000f6ccb0745a6a4b88665a16c9f078      320          1     43.62        2   \n",
              "0004aac84e0df4da2b147fca70cf8255      287          1    196.89        2   \n",
              "...                                   ...        ...       ...      ...   \n",
              "fffbf87b7a1a6fa8b03f081c5f51a201      244          1    167.32        0   \n",
              "fffea47cd6d3cc0a88bd621562a9d061      261          1     84.58        2   \n",
              "ffff371b4d645b6ecea244b27531430a      567          1    112.46        2   \n",
              "ffff5962728ec6157033ef9805bacc48      118          1    133.69        0   \n",
              "ffffd2657e2aad2907e67c3e9daecbeb      483          1     71.56        2   \n",
              "\n",
              "                                  Recency_scaled  Frequency_scaled  \\\n",
              "customer_id                                                          \n",
              "0000366f3b9a7992bf8c76cfdf3221e2       -0.826132         -0.283041   \n",
              "0000b849f77a49e4a4ce2b2a4ca5be3f       -0.806251         -0.283041   \n",
              "0000f46a3911fa3c0805444483337064        1.990285         -0.283041   \n",
              "0000f6ccb0745a6a4b88665a16c9f078        0.558882         -0.283041   \n",
              "0004aac84e0df4da2b147fca70cf8255        0.340196         -0.283041   \n",
              "...                                          ...               ...   \n",
              "fffbf87b7a1a6fa8b03f081c5f51a201        0.055241         -0.283041   \n",
              "fffea47cd6d3cc0a88bd621562a9d061        0.167897         -0.283041   \n",
              "ffff371b4d645b6ecea244b27531430a        2.195718         -0.283041   \n",
              "ffff5962728ec6157033ef9805bacc48       -0.779744         -0.283041   \n",
              "ffffd2657e2aad2907e67c3e9daecbeb        1.639061         -0.283041   \n",
              "\n",
              "                                  Monetary_scaled  \n",
              "customer_id                                        \n",
              "0000366f3b9a7992bf8c76cfdf3221e2        -0.108677  \n",
              "0000b849f77a49e4a4ce2b2a4ca5be3f        -0.287136  \n",
              "0000f46a3911fa3c0805444483337064        -0.195301  \n",
              "0000f6ccb0745a6a4b88665a16c9f078        -0.261575  \n",
              "0004aac84e0df4da2b147fca70cf8255        -0.023126  \n",
              "...                                           ...  \n",
              "fffbf87b7a1a6fa8b03f081c5f51a201        -0.069129  \n",
              "fffea47cd6d3cc0a88bd621562a9d061        -0.197852  \n",
              "ffff371b4d645b6ecea244b27531430a        -0.154478  \n",
              "ffff5962728ec6157033ef9805bacc48        -0.121449  \n",
              "ffffd2657e2aad2907e67c3e9daecbeb        -0.218108  \n",
              "\n",
              "[92061 rows x 7 columns]"
            ]
          },
          "execution_count": 202,
          "metadata": {},
          "output_type": "execute_result"
        }
      ],
      "source": [
        "RFM_df2= rfm.copy()\n",
        "RFM_df2= RFM_df2.set_index('customer_id')\n",
        "RFM_df2"
      ]
    },
    {
      "cell_type": "code",
      "execution_count": 203,
      "metadata": {},
      "outputs": [],
      "source": [
        "RFM_df2[\"recency_score\"]  = pd.qcut(RFM_df2['Recency'], 5, labels=[5, 4, 3, 2, 1])\n",
        "RFM_df2[\"frequency_score\"]= pd.qcut(RFM_df2['Frequency'].rank(method=\"first\"), 5, labels=[1, 2, 3, 4, 5])\n",
        "RFM_df2[\"monetary_score\"] = pd.qcut(RFM_df2['Monetary'], 5, labels=[1, 2, 3, 4, 5])"
      ]
    },
    {
      "cell_type": "code",
      "execution_count": 204,
      "metadata": {},
      "outputs": [
        {
          "data": {
            "text/html": [
              "<div>\n",
              "<style scoped>\n",
              "    .dataframe tbody tr th:only-of-type {\n",
              "        vertical-align: middle;\n",
              "    }\n",
              "\n",
              "    .dataframe tbody tr th {\n",
              "        vertical-align: top;\n",
              "    }\n",
              "\n",
              "    .dataframe thead th {\n",
              "        text-align: right;\n",
              "    }\n",
              "</style>\n",
              "<table border=\"1\" class=\"dataframe\">\n",
              "  <thead>\n",
              "    <tr style=\"text-align: right;\">\n",
              "      <th></th>\n",
              "      <th>Recency</th>\n",
              "      <th>Frequency</th>\n",
              "      <th>Monetary</th>\n",
              "      <th>Cluster</th>\n",
              "      <th>Recency_scaled</th>\n",
              "      <th>Frequency_scaled</th>\n",
              "      <th>Monetary_scaled</th>\n",
              "      <th>recency_score</th>\n",
              "      <th>frequency_score</th>\n",
              "      <th>monetary_score</th>\n",
              "      <th>RFM_SCORE</th>\n",
              "    </tr>\n",
              "    <tr>\n",
              "      <th>customer_id</th>\n",
              "      <th></th>\n",
              "      <th></th>\n",
              "      <th></th>\n",
              "      <th></th>\n",
              "      <th></th>\n",
              "      <th></th>\n",
              "      <th></th>\n",
              "      <th></th>\n",
              "      <th></th>\n",
              "      <th></th>\n",
              "      <th></th>\n",
              "    </tr>\n",
              "  </thead>\n",
              "  <tbody>\n",
              "    <tr>\n",
              "      <th>0000366f3b9a7992bf8c76cfdf3221e2</th>\n",
              "      <td>111</td>\n",
              "      <td>1</td>\n",
              "      <td>141.90</td>\n",
              "      <td>0</td>\n",
              "      <td>-0.826132</td>\n",
              "      <td>-0.283041</td>\n",
              "      <td>-0.108677</td>\n",
              "      <td>4</td>\n",
              "      <td>1</td>\n",
              "      <td>4</td>\n",
              "      <td>414</td>\n",
              "    </tr>\n",
              "    <tr>\n",
              "      <th>0000b849f77a49e4a4ce2b2a4ca5be3f</th>\n",
              "      <td>114</td>\n",
              "      <td>1</td>\n",
              "      <td>27.19</td>\n",
              "      <td>0</td>\n",
              "      <td>-0.806251</td>\n",
              "      <td>-0.283041</td>\n",
              "      <td>-0.287136</td>\n",
              "      <td>4</td>\n",
              "      <td>1</td>\n",
              "      <td>1</td>\n",
              "      <td>411</td>\n",
              "    </tr>\n",
              "    <tr>\n",
              "      <th>0000f46a3911fa3c0805444483337064</th>\n",
              "      <td>536</td>\n",
              "      <td>1</td>\n",
              "      <td>86.22</td>\n",
              "      <td>2</td>\n",
              "      <td>1.990285</td>\n",
              "      <td>-0.283041</td>\n",
              "      <td>-0.195301</td>\n",
              "      <td>1</td>\n",
              "      <td>1</td>\n",
              "      <td>2</td>\n",
              "      <td>112</td>\n",
              "    </tr>\n",
              "    <tr>\n",
              "      <th>0000f6ccb0745a6a4b88665a16c9f078</th>\n",
              "      <td>320</td>\n",
              "      <td>1</td>\n",
              "      <td>43.62</td>\n",
              "      <td>2</td>\n",
              "      <td>0.558882</td>\n",
              "      <td>-0.283041</td>\n",
              "      <td>-0.261575</td>\n",
              "      <td>2</td>\n",
              "      <td>1</td>\n",
              "      <td>1</td>\n",
              "      <td>211</td>\n",
              "    </tr>\n",
              "    <tr>\n",
              "      <th>0004aac84e0df4da2b147fca70cf8255</th>\n",
              "      <td>287</td>\n",
              "      <td>1</td>\n",
              "      <td>196.89</td>\n",
              "      <td>2</td>\n",
              "      <td>0.340196</td>\n",
              "      <td>-0.283041</td>\n",
              "      <td>-0.023126</td>\n",
              "      <td>2</td>\n",
              "      <td>1</td>\n",
              "      <td>4</td>\n",
              "      <td>214</td>\n",
              "    </tr>\n",
              "    <tr>\n",
              "      <th>...</th>\n",
              "      <td>...</td>\n",
              "      <td>...</td>\n",
              "      <td>...</td>\n",
              "      <td>...</td>\n",
              "      <td>...</td>\n",
              "      <td>...</td>\n",
              "      <td>...</td>\n",
              "      <td>...</td>\n",
              "      <td>...</td>\n",
              "      <td>...</td>\n",
              "      <td>...</td>\n",
              "    </tr>\n",
              "    <tr>\n",
              "      <th>fffbf87b7a1a6fa8b03f081c5f51a201</th>\n",
              "      <td>244</td>\n",
              "      <td>1</td>\n",
              "      <td>167.32</td>\n",
              "      <td>0</td>\n",
              "      <td>0.055241</td>\n",
              "      <td>-0.283041</td>\n",
              "      <td>-0.069129</td>\n",
              "      <td>3</td>\n",
              "      <td>5</td>\n",
              "      <td>4</td>\n",
              "      <td>354</td>\n",
              "    </tr>\n",
              "    <tr>\n",
              "      <th>fffea47cd6d3cc0a88bd621562a9d061</th>\n",
              "      <td>261</td>\n",
              "      <td>1</td>\n",
              "      <td>84.58</td>\n",
              "      <td>2</td>\n",
              "      <td>0.167897</td>\n",
              "      <td>-0.283041</td>\n",
              "      <td>-0.197852</td>\n",
              "      <td>3</td>\n",
              "      <td>5</td>\n",
              "      <td>2</td>\n",
              "      <td>352</td>\n",
              "    </tr>\n",
              "    <tr>\n",
              "      <th>ffff371b4d645b6ecea244b27531430a</th>\n",
              "      <td>567</td>\n",
              "      <td>1</td>\n",
              "      <td>112.46</td>\n",
              "      <td>2</td>\n",
              "      <td>2.195718</td>\n",
              "      <td>-0.283041</td>\n",
              "      <td>-0.154478</td>\n",
              "      <td>1</td>\n",
              "      <td>5</td>\n",
              "      <td>3</td>\n",
              "      <td>153</td>\n",
              "    </tr>\n",
              "    <tr>\n",
              "      <th>ffff5962728ec6157033ef9805bacc48</th>\n",
              "      <td>118</td>\n",
              "      <td>1</td>\n",
              "      <td>133.69</td>\n",
              "      <td>0</td>\n",
              "      <td>-0.779744</td>\n",
              "      <td>-0.283041</td>\n",
              "      <td>-0.121449</td>\n",
              "      <td>4</td>\n",
              "      <td>5</td>\n",
              "      <td>3</td>\n",
              "      <td>453</td>\n",
              "    </tr>\n",
              "    <tr>\n",
              "      <th>ffffd2657e2aad2907e67c3e9daecbeb</th>\n",
              "      <td>483</td>\n",
              "      <td>1</td>\n",
              "      <td>71.56</td>\n",
              "      <td>2</td>\n",
              "      <td>1.639061</td>\n",
              "      <td>-0.283041</td>\n",
              "      <td>-0.218108</td>\n",
              "      <td>1</td>\n",
              "      <td>5</td>\n",
              "      <td>2</td>\n",
              "      <td>152</td>\n",
              "    </tr>\n",
              "  </tbody>\n",
              "</table>\n",
              "<p>92061 rows × 11 columns</p>\n",
              "</div>"
            ],
            "text/plain": [
              "                                  Recency  Frequency  Monetary  Cluster  \\\n",
              "customer_id                                                               \n",
              "0000366f3b9a7992bf8c76cfdf3221e2      111          1    141.90        0   \n",
              "0000b849f77a49e4a4ce2b2a4ca5be3f      114          1     27.19        0   \n",
              "0000f46a3911fa3c0805444483337064      536          1     86.22        2   \n",
              "0000f6ccb0745a6a4b88665a16c9f078      320          1     43.62        2   \n",
              "0004aac84e0df4da2b147fca70cf8255      287          1    196.89        2   \n",
              "...                                   ...        ...       ...      ...   \n",
              "fffbf87b7a1a6fa8b03f081c5f51a201      244          1    167.32        0   \n",
              "fffea47cd6d3cc0a88bd621562a9d061      261          1     84.58        2   \n",
              "ffff371b4d645b6ecea244b27531430a      567          1    112.46        2   \n",
              "ffff5962728ec6157033ef9805bacc48      118          1    133.69        0   \n",
              "ffffd2657e2aad2907e67c3e9daecbeb      483          1     71.56        2   \n",
              "\n",
              "                                  Recency_scaled  Frequency_scaled  \\\n",
              "customer_id                                                          \n",
              "0000366f3b9a7992bf8c76cfdf3221e2       -0.826132         -0.283041   \n",
              "0000b849f77a49e4a4ce2b2a4ca5be3f       -0.806251         -0.283041   \n",
              "0000f46a3911fa3c0805444483337064        1.990285         -0.283041   \n",
              "0000f6ccb0745a6a4b88665a16c9f078        0.558882         -0.283041   \n",
              "0004aac84e0df4da2b147fca70cf8255        0.340196         -0.283041   \n",
              "...                                          ...               ...   \n",
              "fffbf87b7a1a6fa8b03f081c5f51a201        0.055241         -0.283041   \n",
              "fffea47cd6d3cc0a88bd621562a9d061        0.167897         -0.283041   \n",
              "ffff371b4d645b6ecea244b27531430a        2.195718         -0.283041   \n",
              "ffff5962728ec6157033ef9805bacc48       -0.779744         -0.283041   \n",
              "ffffd2657e2aad2907e67c3e9daecbeb        1.639061         -0.283041   \n",
              "\n",
              "                                  Monetary_scaled recency_score  \\\n",
              "customer_id                                                       \n",
              "0000366f3b9a7992bf8c76cfdf3221e2        -0.108677             4   \n",
              "0000b849f77a49e4a4ce2b2a4ca5be3f        -0.287136             4   \n",
              "0000f46a3911fa3c0805444483337064        -0.195301             1   \n",
              "0000f6ccb0745a6a4b88665a16c9f078        -0.261575             2   \n",
              "0004aac84e0df4da2b147fca70cf8255        -0.023126             2   \n",
              "...                                           ...           ...   \n",
              "fffbf87b7a1a6fa8b03f081c5f51a201        -0.069129             3   \n",
              "fffea47cd6d3cc0a88bd621562a9d061        -0.197852             3   \n",
              "ffff371b4d645b6ecea244b27531430a        -0.154478             1   \n",
              "ffff5962728ec6157033ef9805bacc48        -0.121449             4   \n",
              "ffffd2657e2aad2907e67c3e9daecbeb        -0.218108             1   \n",
              "\n",
              "                                 frequency_score monetary_score RFM_SCORE  \n",
              "customer_id                                                                \n",
              "0000366f3b9a7992bf8c76cfdf3221e2               1              4       414  \n",
              "0000b849f77a49e4a4ce2b2a4ca5be3f               1              1       411  \n",
              "0000f46a3911fa3c0805444483337064               1              2       112  \n",
              "0000f6ccb0745a6a4b88665a16c9f078               1              1       211  \n",
              "0004aac84e0df4da2b147fca70cf8255               1              4       214  \n",
              "...                                          ...            ...       ...  \n",
              "fffbf87b7a1a6fa8b03f081c5f51a201               5              4       354  \n",
              "fffea47cd6d3cc0a88bd621562a9d061               5              2       352  \n",
              "ffff371b4d645b6ecea244b27531430a               5              3       153  \n",
              "ffff5962728ec6157033ef9805bacc48               5              3       453  \n",
              "ffffd2657e2aad2907e67c3e9daecbeb               5              2       152  \n",
              "\n",
              "[92061 rows x 11 columns]"
            ]
          },
          "execution_count": 204,
          "metadata": {},
          "output_type": "execute_result"
        }
      ],
      "source": [
        "RFM_df2['RFM_SCORE'] = RFM_df2.recency_score.astype(str)+ RFM_df2.frequency_score.astype(str) + RFM_df2.monetary_score.astype(str)\n",
        "RFM_df2"
      ]
    },
    {
      "cell_type": "code",
      "execution_count": 205,
      "metadata": {},
      "outputs": [],
      "source": [
        "seg_map= {\n",
        "    r'111|112|121|131|141|151': 'Lost customers',\n",
        "    r'332|322|233|232|223|222|132|123|122|212|211': 'Hibernating customers',\n",
        "    r'155|154|144|214|215|115|114|113': 'Cannot Lose Them',\n",
        "    r'255|254|245|244|253|252|243|242|235|234|225|224|153|152|145|143|142|135|134|133|125|124': 'At Risk',\n",
        "    r'331|321|312|221|213|231|241|251': 'About To Sleep',\n",
        "    r'535|534|443|434|343|334|325|324': 'Need Attention',\n",
        "    r'525|524|523|522|521|515|514|513|425|424|413|414|415|315|314|313': 'Promising',\n",
        "    r'512|511|422|421|412|411|311': 'New Customers',\n",
        "    r'553|551|552|541|542|533|532|531|452|451|442|441|431|453|433|432|423|353|352|351|342|341|333|323': 'Potential Loyalist',\n",
        "    r'543|444|435|355|354|345|344|335': 'Loyal',\n",
        "    r'555|554|544|545|454|455|445': 'Champions'\n",
        "}"
      ]
    },
    {
      "cell_type": "code",
      "execution_count": 206,
      "metadata": {},
      "outputs": [
        {
          "data": {
            "text/html": [
              "<div>\n",
              "<style scoped>\n",
              "    .dataframe tbody tr th:only-of-type {\n",
              "        vertical-align: middle;\n",
              "    }\n",
              "\n",
              "    .dataframe tbody tr th {\n",
              "        vertical-align: top;\n",
              "    }\n",
              "\n",
              "    .dataframe thead th {\n",
              "        text-align: right;\n",
              "    }\n",
              "</style>\n",
              "<table border=\"1\" class=\"dataframe\">\n",
              "  <thead>\n",
              "    <tr style=\"text-align: right;\">\n",
              "      <th></th>\n",
              "      <th>Recency</th>\n",
              "      <th>Frequency</th>\n",
              "      <th>Monetary</th>\n",
              "      <th>Cluster</th>\n",
              "      <th>Recency_scaled</th>\n",
              "      <th>Frequency_scaled</th>\n",
              "      <th>Monetary_scaled</th>\n",
              "      <th>recency_score</th>\n",
              "      <th>frequency_score</th>\n",
              "      <th>monetary_score</th>\n",
              "      <th>RFM_SCORE</th>\n",
              "      <th>Segment</th>\n",
              "    </tr>\n",
              "    <tr>\n",
              "      <th>customer_id</th>\n",
              "      <th></th>\n",
              "      <th></th>\n",
              "      <th></th>\n",
              "      <th></th>\n",
              "      <th></th>\n",
              "      <th></th>\n",
              "      <th></th>\n",
              "      <th></th>\n",
              "      <th></th>\n",
              "      <th></th>\n",
              "      <th></th>\n",
              "      <th></th>\n",
              "    </tr>\n",
              "  </thead>\n",
              "  <tbody>\n",
              "    <tr>\n",
              "      <th>0000366f3b9a7992bf8c76cfdf3221e2</th>\n",
              "      <td>111</td>\n",
              "      <td>1</td>\n",
              "      <td>141.90</td>\n",
              "      <td>0</td>\n",
              "      <td>-0.826132</td>\n",
              "      <td>-0.283041</td>\n",
              "      <td>-0.108677</td>\n",
              "      <td>4</td>\n",
              "      <td>1</td>\n",
              "      <td>4</td>\n",
              "      <td>414</td>\n",
              "      <td>Promising</td>\n",
              "    </tr>\n",
              "    <tr>\n",
              "      <th>0000b849f77a49e4a4ce2b2a4ca5be3f</th>\n",
              "      <td>114</td>\n",
              "      <td>1</td>\n",
              "      <td>27.19</td>\n",
              "      <td>0</td>\n",
              "      <td>-0.806251</td>\n",
              "      <td>-0.283041</td>\n",
              "      <td>-0.287136</td>\n",
              "      <td>4</td>\n",
              "      <td>1</td>\n",
              "      <td>1</td>\n",
              "      <td>411</td>\n",
              "      <td>New Customers</td>\n",
              "    </tr>\n",
              "    <tr>\n",
              "      <th>0000f46a3911fa3c0805444483337064</th>\n",
              "      <td>536</td>\n",
              "      <td>1</td>\n",
              "      <td>86.22</td>\n",
              "      <td>2</td>\n",
              "      <td>1.990285</td>\n",
              "      <td>-0.283041</td>\n",
              "      <td>-0.195301</td>\n",
              "      <td>1</td>\n",
              "      <td>1</td>\n",
              "      <td>2</td>\n",
              "      <td>112</td>\n",
              "      <td>Lost customers</td>\n",
              "    </tr>\n",
              "    <tr>\n",
              "      <th>0000f6ccb0745a6a4b88665a16c9f078</th>\n",
              "      <td>320</td>\n",
              "      <td>1</td>\n",
              "      <td>43.62</td>\n",
              "      <td>2</td>\n",
              "      <td>0.558882</td>\n",
              "      <td>-0.283041</td>\n",
              "      <td>-0.261575</td>\n",
              "      <td>2</td>\n",
              "      <td>1</td>\n",
              "      <td>1</td>\n",
              "      <td>211</td>\n",
              "      <td>Hibernating customers</td>\n",
              "    </tr>\n",
              "    <tr>\n",
              "      <th>0004aac84e0df4da2b147fca70cf8255</th>\n",
              "      <td>287</td>\n",
              "      <td>1</td>\n",
              "      <td>196.89</td>\n",
              "      <td>2</td>\n",
              "      <td>0.340196</td>\n",
              "      <td>-0.283041</td>\n",
              "      <td>-0.023126</td>\n",
              "      <td>2</td>\n",
              "      <td>1</td>\n",
              "      <td>4</td>\n",
              "      <td>214</td>\n",
              "      <td>Cannot Lose Them</td>\n",
              "    </tr>\n",
              "  </tbody>\n",
              "</table>\n",
              "</div>"
            ],
            "text/plain": [
              "                                  Recency  Frequency  Monetary  Cluster  \\\n",
              "customer_id                                                               \n",
              "0000366f3b9a7992bf8c76cfdf3221e2      111          1    141.90        0   \n",
              "0000b849f77a49e4a4ce2b2a4ca5be3f      114          1     27.19        0   \n",
              "0000f46a3911fa3c0805444483337064      536          1     86.22        2   \n",
              "0000f6ccb0745a6a4b88665a16c9f078      320          1     43.62        2   \n",
              "0004aac84e0df4da2b147fca70cf8255      287          1    196.89        2   \n",
              "\n",
              "                                  Recency_scaled  Frequency_scaled  \\\n",
              "customer_id                                                          \n",
              "0000366f3b9a7992bf8c76cfdf3221e2       -0.826132         -0.283041   \n",
              "0000b849f77a49e4a4ce2b2a4ca5be3f       -0.806251         -0.283041   \n",
              "0000f46a3911fa3c0805444483337064        1.990285         -0.283041   \n",
              "0000f6ccb0745a6a4b88665a16c9f078        0.558882         -0.283041   \n",
              "0004aac84e0df4da2b147fca70cf8255        0.340196         -0.283041   \n",
              "\n",
              "                                  Monetary_scaled recency_score  \\\n",
              "customer_id                                                       \n",
              "0000366f3b9a7992bf8c76cfdf3221e2        -0.108677             4   \n",
              "0000b849f77a49e4a4ce2b2a4ca5be3f        -0.287136             4   \n",
              "0000f46a3911fa3c0805444483337064        -0.195301             1   \n",
              "0000f6ccb0745a6a4b88665a16c9f078        -0.261575             2   \n",
              "0004aac84e0df4da2b147fca70cf8255        -0.023126             2   \n",
              "\n",
              "                                 frequency_score monetary_score RFM_SCORE  \\\n",
              "customer_id                                                                 \n",
              "0000366f3b9a7992bf8c76cfdf3221e2               1              4       414   \n",
              "0000b849f77a49e4a4ce2b2a4ca5be3f               1              1       411   \n",
              "0000f46a3911fa3c0805444483337064               1              2       112   \n",
              "0000f6ccb0745a6a4b88665a16c9f078               1              1       211   \n",
              "0004aac84e0df4da2b147fca70cf8255               1              4       214   \n",
              "\n",
              "                                                Segment  \n",
              "customer_id                                              \n",
              "0000366f3b9a7992bf8c76cfdf3221e2              Promising  \n",
              "0000b849f77a49e4a4ce2b2a4ca5be3f          New Customers  \n",
              "0000f46a3911fa3c0805444483337064         Lost customers  \n",
              "0000f6ccb0745a6a4b88665a16c9f078  Hibernating customers  \n",
              "0004aac84e0df4da2b147fca70cf8255       Cannot Lose Them  "
            ]
          },
          "execution_count": 206,
          "metadata": {},
          "output_type": "execute_result"
        }
      ],
      "source": [
        "RFM_df2['Segment'] = RFM_df2['recency_score'].astype(str) + RFM_df2['frequency_score'].astype(str) + RFM_df2['monetary_score'].astype(str)\n",
        "RFM_df2['Segment'] = RFM_df2['Segment'].replace(seg_map, regex=True)\n",
        "RFM_df2.head()"
      ]
    },
    {
      "cell_type": "code",
      "execution_count": 207,
      "metadata": {},
      "outputs": [
        {
          "data": {
            "text/plain": [
              "array(['Promising', 'New Customers', 'Lost customers',\n",
              "       'Hibernating customers', 'Cannot Lose Them', 'Loyal',\n",
              "       'About To Sleep', 'At Risk', 'Potential Loyalist', 'Champions',\n",
              "       'Need Attention'], dtype=object)"
            ]
          },
          "execution_count": 207,
          "metadata": {},
          "output_type": "execute_result"
        }
      ],
      "source": [
        "RFM_df2['Segment'].unique()"
      ]
    },
    {
      "cell_type": "code",
      "execution_count": 208,
      "metadata": {},
      "outputs": [
        {
          "data": {
            "text/plain": [
              "11"
            ]
          },
          "execution_count": 208,
          "metadata": {},
          "output_type": "execute_result"
        }
      ],
      "source": [
        "RFM_df2['Segment'].nunique()"
      ]
    },
    {
      "cell_type": "code",
      "execution_count": 209,
      "metadata": {},
      "outputs": [
        {
          "data": {
            "text/html": [
              "<div>\n",
              "<style scoped>\n",
              "    .dataframe tbody tr th:only-of-type {\n",
              "        vertical-align: middle;\n",
              "    }\n",
              "\n",
              "    .dataframe tbody tr th {\n",
              "        vertical-align: top;\n",
              "    }\n",
              "\n",
              "    .dataframe thead tr th {\n",
              "        text-align: left;\n",
              "    }\n",
              "\n",
              "    .dataframe thead tr:last-of-type th {\n",
              "        text-align: right;\n",
              "    }\n",
              "</style>\n",
              "<table border=\"1\" class=\"dataframe\">\n",
              "  <thead>\n",
              "    <tr>\n",
              "      <th></th>\n",
              "      <th colspan=\"5\" halign=\"left\">Recency</th>\n",
              "      <th colspan=\"5\" halign=\"left\">Frequency</th>\n",
              "      <th colspan=\"5\" halign=\"left\">Monetary</th>\n",
              "    </tr>\n",
              "    <tr>\n",
              "      <th></th>\n",
              "      <th>mean</th>\n",
              "      <th>median</th>\n",
              "      <th>min</th>\n",
              "      <th>max</th>\n",
              "      <th>count</th>\n",
              "      <th>mean</th>\n",
              "      <th>median</th>\n",
              "      <th>min</th>\n",
              "      <th>max</th>\n",
              "      <th>count</th>\n",
              "      <th>mean</th>\n",
              "      <th>median</th>\n",
              "      <th>min</th>\n",
              "      <th>max</th>\n",
              "      <th>count</th>\n",
              "    </tr>\n",
              "    <tr>\n",
              "      <th>Segment</th>\n",
              "      <th></th>\n",
              "      <th></th>\n",
              "      <th></th>\n",
              "      <th></th>\n",
              "      <th></th>\n",
              "      <th></th>\n",
              "      <th></th>\n",
              "      <th></th>\n",
              "      <th></th>\n",
              "      <th></th>\n",
              "      <th></th>\n",
              "      <th></th>\n",
              "      <th></th>\n",
              "      <th></th>\n",
              "      <th></th>\n",
              "    </tr>\n",
              "  </thead>\n",
              "  <tbody>\n",
              "    <tr>\n",
              "      <th>About To Sleep</th>\n",
              "      <td>273.446541</td>\n",
              "      <td>276.0</td>\n",
              "      <td>177</td>\n",
              "      <td>379</td>\n",
              "      <td>5883</td>\n",
              "      <td>1.031277</td>\n",
              "      <td>1.0</td>\n",
              "      <td>1</td>\n",
              "      <td>9</td>\n",
              "      <td>5883</td>\n",
              "      <td>53.041124</td>\n",
              "      <td>45.000</td>\n",
              "      <td>10.07</td>\n",
              "      <td>138.05</td>\n",
              "      <td>5883</td>\n",
              "    </tr>\n",
              "    <tr>\n",
              "      <th>At Risk</th>\n",
              "      <td>379.692785</td>\n",
              "      <td>360.0</td>\n",
              "      <td>268</td>\n",
              "      <td>601</td>\n",
              "      <td>14830</td>\n",
              "      <td>1.304248</td>\n",
              "      <td>1.0</td>\n",
              "      <td>1</td>\n",
              "      <td>38</td>\n",
              "      <td>14830</td>\n",
              "      <td>240.978198</td>\n",
              "      <td>162.560</td>\n",
              "      <td>55.52</td>\n",
              "      <td>1590.25</td>\n",
              "      <td>14830</td>\n",
              "    </tr>\n",
              "    <tr>\n",
              "      <th>Cannot Lose Them</th>\n",
              "      <td>438.001451</td>\n",
              "      <td>441.0</td>\n",
              "      <td>268</td>\n",
              "      <td>599</td>\n",
              "      <td>6201</td>\n",
              "      <td>1.473149</td>\n",
              "      <td>1.0</td>\n",
              "      <td>1</td>\n",
              "      <td>75</td>\n",
              "      <td>6201</td>\n",
              "      <td>296.839655</td>\n",
              "      <td>204.540</td>\n",
              "      <td>89.02</td>\n",
              "      <td>1592.64</td>\n",
              "      <td>6201</td>\n",
              "    </tr>\n",
              "    <tr>\n",
              "      <th>Champions</th>\n",
              "      <td>85.257084</td>\n",
              "      <td>82.0</td>\n",
              "      <td>0</td>\n",
              "      <td>176</td>\n",
              "      <td>6741</td>\n",
              "      <td>1.914998</td>\n",
              "      <td>2.0</td>\n",
              "      <td>1</td>\n",
              "      <td>24</td>\n",
              "      <td>6741</td>\n",
              "      <td>400.928533</td>\n",
              "      <td>295.880</td>\n",
              "      <td>138.10</td>\n",
              "      <td>1594.76</td>\n",
              "      <td>6741</td>\n",
              "    </tr>\n",
              "    <tr>\n",
              "      <th>Hibernating customers</th>\n",
              "      <td>337.887463</td>\n",
              "      <td>323.0</td>\n",
              "      <td>177</td>\n",
              "      <td>595</td>\n",
              "      <td>9037</td>\n",
              "      <td>1.000000</td>\n",
              "      <td>1.0</td>\n",
              "      <td>1</td>\n",
              "      <td>1</td>\n",
              "      <td>9037</td>\n",
              "      <td>79.034767</td>\n",
              "      <td>74.870</td>\n",
              "      <td>11.63</td>\n",
              "      <td>138.08</td>\n",
              "      <td>9037</td>\n",
              "    </tr>\n",
              "    <tr>\n",
              "      <th>Lost customers</th>\n",
              "      <td>470.135687</td>\n",
              "      <td>465.0</td>\n",
              "      <td>380</td>\n",
              "      <td>601</td>\n",
              "      <td>4702</td>\n",
              "      <td>1.039770</td>\n",
              "      <td>1.0</td>\n",
              "      <td>1</td>\n",
              "      <td>8</td>\n",
              "      <td>4702</td>\n",
              "      <td>45.459985</td>\n",
              "      <td>43.760</td>\n",
              "      <td>12.28</td>\n",
              "      <td>88.74</td>\n",
              "      <td>4702</td>\n",
              "    </tr>\n",
              "    <tr>\n",
              "      <th>Loyal</th>\n",
              "      <td>179.635311</td>\n",
              "      <td>195.0</td>\n",
              "      <td>0</td>\n",
              "      <td>267</td>\n",
              "      <td>6134</td>\n",
              "      <td>1.463319</td>\n",
              "      <td>1.0</td>\n",
              "      <td>1</td>\n",
              "      <td>13</td>\n",
              "      <td>6134</td>\n",
              "      <td>319.463045</td>\n",
              "      <td>231.120</td>\n",
              "      <td>88.78</td>\n",
              "      <td>1589.44</td>\n",
              "      <td>6134</td>\n",
              "    </tr>\n",
              "    <tr>\n",
              "      <th>Need Attention</th>\n",
              "      <td>156.639943</td>\n",
              "      <td>175.0</td>\n",
              "      <td>0</td>\n",
              "      <td>267</td>\n",
              "      <td>5588</td>\n",
              "      <td>1.000000</td>\n",
              "      <td>1.0</td>\n",
              "      <td>1</td>\n",
              "      <td>1</td>\n",
              "      <td>5588</td>\n",
              "      <td>204.104458</td>\n",
              "      <td>164.320</td>\n",
              "      <td>88.86</td>\n",
              "      <td>1555.23</td>\n",
              "      <td>5588</td>\n",
              "    </tr>\n",
              "    <tr>\n",
              "      <th>New Customers</th>\n",
              "      <td>122.456970</td>\n",
              "      <td>126.0</td>\n",
              "      <td>0</td>\n",
              "      <td>267</td>\n",
              "      <td>5624</td>\n",
              "      <td>1.000000</td>\n",
              "      <td>1.0</td>\n",
              "      <td>1</td>\n",
              "      <td>1</td>\n",
              "      <td>5624</td>\n",
              "      <td>52.469008</td>\n",
              "      <td>50.335</td>\n",
              "      <td>13.29</td>\n",
              "      <td>88.76</td>\n",
              "      <td>5624</td>\n",
              "    </tr>\n",
              "    <tr>\n",
              "      <th>Potential Loyalist</th>\n",
              "      <td>129.173962</td>\n",
              "      <td>128.0</td>\n",
              "      <td>0</td>\n",
              "      <td>267</td>\n",
              "      <td>15969</td>\n",
              "      <td>1.127184</td>\n",
              "      <td>1.0</td>\n",
              "      <td>1</td>\n",
              "      <td>22</td>\n",
              "      <td>15969</td>\n",
              "      <td>75.117938</td>\n",
              "      <td>71.140</td>\n",
              "      <td>9.59</td>\n",
              "      <td>138.08</td>\n",
              "      <td>15969</td>\n",
              "    </tr>\n",
              "    <tr>\n",
              "      <th>Promising</th>\n",
              "      <td>103.486258</td>\n",
              "      <td>87.5</td>\n",
              "      <td>0</td>\n",
              "      <td>267</td>\n",
              "      <td>11352</td>\n",
              "      <td>1.000000</td>\n",
              "      <td>1.0</td>\n",
              "      <td>1</td>\n",
              "      <td>1</td>\n",
              "      <td>11352</td>\n",
              "      <td>198.836624</td>\n",
              "      <td>149.860</td>\n",
              "      <td>14.06</td>\n",
              "      <td>1586.47</td>\n",
              "      <td>11352</td>\n",
              "    </tr>\n",
              "  </tbody>\n",
              "</table>\n",
              "</div>"
            ],
            "text/plain": [
              "                          Recency                         Frequency         \\\n",
              "                             mean median  min  max  count      mean median   \n",
              "Segment                                                                      \n",
              "About To Sleep         273.446541  276.0  177  379   5883  1.031277    1.0   \n",
              "At Risk                379.692785  360.0  268  601  14830  1.304248    1.0   \n",
              "Cannot Lose Them       438.001451  441.0  268  599   6201  1.473149    1.0   \n",
              "Champions               85.257084   82.0    0  176   6741  1.914998    2.0   \n",
              "Hibernating customers  337.887463  323.0  177  595   9037  1.000000    1.0   \n",
              "Lost customers         470.135687  465.0  380  601   4702  1.039770    1.0   \n",
              "Loyal                  179.635311  195.0    0  267   6134  1.463319    1.0   \n",
              "Need Attention         156.639943  175.0    0  267   5588  1.000000    1.0   \n",
              "New Customers          122.456970  126.0    0  267   5624  1.000000    1.0   \n",
              "Potential Loyalist     129.173962  128.0    0  267  15969  1.127184    1.0   \n",
              "Promising              103.486258   87.5    0  267  11352  1.000000    1.0   \n",
              "\n",
              "                                        Monetary                            \\\n",
              "                      min max  count        mean   median     min      max   \n",
              "Segment                                                                      \n",
              "About To Sleep          1   9   5883   53.041124   45.000   10.07   138.05   \n",
              "At Risk                 1  38  14830  240.978198  162.560   55.52  1590.25   \n",
              "Cannot Lose Them        1  75   6201  296.839655  204.540   89.02  1592.64   \n",
              "Champions               1  24   6741  400.928533  295.880  138.10  1594.76   \n",
              "Hibernating customers   1   1   9037   79.034767   74.870   11.63   138.08   \n",
              "Lost customers          1   8   4702   45.459985   43.760   12.28    88.74   \n",
              "Loyal                   1  13   6134  319.463045  231.120   88.78  1589.44   \n",
              "Need Attention          1   1   5588  204.104458  164.320   88.86  1555.23   \n",
              "New Customers           1   1   5624   52.469008   50.335   13.29    88.76   \n",
              "Potential Loyalist      1  22  15969   75.117938   71.140    9.59   138.08   \n",
              "Promising               1   1  11352  198.836624  149.860   14.06  1586.47   \n",
              "\n",
              "                              \n",
              "                       count  \n",
              "Segment                       \n",
              "About To Sleep          5883  \n",
              "At Risk                14830  \n",
              "Cannot Lose Them        6201  \n",
              "Champions               6741  \n",
              "Hibernating customers   9037  \n",
              "Lost customers          4702  \n",
              "Loyal                   6134  \n",
              "Need Attention          5588  \n",
              "New Customers           5624  \n",
              "Potential Loyalist     15969  \n",
              "Promising              11352  "
            ]
          },
          "execution_count": 209,
          "metadata": {},
          "output_type": "execute_result"
        }
      ],
      "source": [
        "RFMStats = RFM_df2[[\"Segment\", \"Recency\", \"Frequency\", \"Monetary\"]].groupby(\"Segment\").agg(['mean','median', 'min', 'max', 'count'])\n",
        "RFMStats"
      ]
    },
    {
      "cell_type": "code",
      "execution_count": 210,
      "metadata": {},
      "outputs": [
        {
          "data": {
            "text/html": [
              "<div>\n",
              "<style scoped>\n",
              "    .dataframe tbody tr th:only-of-type {\n",
              "        vertical-align: middle;\n",
              "    }\n",
              "\n",
              "    .dataframe tbody tr th {\n",
              "        vertical-align: top;\n",
              "    }\n",
              "\n",
              "    .dataframe thead tr th {\n",
              "        text-align: left;\n",
              "    }\n",
              "\n",
              "    .dataframe thead tr:last-of-type th {\n",
              "        text-align: right;\n",
              "    }\n",
              "</style>\n",
              "<table border=\"1\" class=\"dataframe\">\n",
              "  <thead>\n",
              "    <tr>\n",
              "      <th></th>\n",
              "      <th colspan=\"5\" halign=\"left\">Recency</th>\n",
              "      <th colspan=\"5\" halign=\"left\">Frequency</th>\n",
              "      <th colspan=\"5\" halign=\"left\">Monetary</th>\n",
              "      <th>Ratio</th>\n",
              "    </tr>\n",
              "    <tr>\n",
              "      <th></th>\n",
              "      <th>mean</th>\n",
              "      <th>median</th>\n",
              "      <th>min</th>\n",
              "      <th>max</th>\n",
              "      <th>count</th>\n",
              "      <th>mean</th>\n",
              "      <th>median</th>\n",
              "      <th>min</th>\n",
              "      <th>max</th>\n",
              "      <th>count</th>\n",
              "      <th>mean</th>\n",
              "      <th>median</th>\n",
              "      <th>min</th>\n",
              "      <th>max</th>\n",
              "      <th>count</th>\n",
              "      <th></th>\n",
              "    </tr>\n",
              "    <tr>\n",
              "      <th>Segment</th>\n",
              "      <th></th>\n",
              "      <th></th>\n",
              "      <th></th>\n",
              "      <th></th>\n",
              "      <th></th>\n",
              "      <th></th>\n",
              "      <th></th>\n",
              "      <th></th>\n",
              "      <th></th>\n",
              "      <th></th>\n",
              "      <th></th>\n",
              "      <th></th>\n",
              "      <th></th>\n",
              "      <th></th>\n",
              "      <th></th>\n",
              "      <th></th>\n",
              "    </tr>\n",
              "  </thead>\n",
              "  <tbody>\n",
              "    <tr>\n",
              "      <th>About To Sleep</th>\n",
              "      <td>273.446541</td>\n",
              "      <td>276.0</td>\n",
              "      <td>177</td>\n",
              "      <td>379</td>\n",
              "      <td>5883</td>\n",
              "      <td>1.031277</td>\n",
              "      <td>1.0</td>\n",
              "      <td>1</td>\n",
              "      <td>9</td>\n",
              "      <td>5883</td>\n",
              "      <td>53.041124</td>\n",
              "      <td>45.000</td>\n",
              "      <td>10.07</td>\n",
              "      <td>138.05</td>\n",
              "      <td>5883</td>\n",
              "      <td>6.39</td>\n",
              "    </tr>\n",
              "    <tr>\n",
              "      <th>At Risk</th>\n",
              "      <td>379.692785</td>\n",
              "      <td>360.0</td>\n",
              "      <td>268</td>\n",
              "      <td>601</td>\n",
              "      <td>14830</td>\n",
              "      <td>1.304248</td>\n",
              "      <td>1.0</td>\n",
              "      <td>1</td>\n",
              "      <td>38</td>\n",
              "      <td>14830</td>\n",
              "      <td>240.978198</td>\n",
              "      <td>162.560</td>\n",
              "      <td>55.52</td>\n",
              "      <td>1590.25</td>\n",
              "      <td>14830</td>\n",
              "      <td>16.11</td>\n",
              "    </tr>\n",
              "    <tr>\n",
              "      <th>Cannot Lose Them</th>\n",
              "      <td>438.001451</td>\n",
              "      <td>441.0</td>\n",
              "      <td>268</td>\n",
              "      <td>599</td>\n",
              "      <td>6201</td>\n",
              "      <td>1.473149</td>\n",
              "      <td>1.0</td>\n",
              "      <td>1</td>\n",
              "      <td>75</td>\n",
              "      <td>6201</td>\n",
              "      <td>296.839655</td>\n",
              "      <td>204.540</td>\n",
              "      <td>89.02</td>\n",
              "      <td>1592.64</td>\n",
              "      <td>6201</td>\n",
              "      <td>6.74</td>\n",
              "    </tr>\n",
              "    <tr>\n",
              "      <th>Champions</th>\n",
              "      <td>85.257084</td>\n",
              "      <td>82.0</td>\n",
              "      <td>0</td>\n",
              "      <td>176</td>\n",
              "      <td>6741</td>\n",
              "      <td>1.914998</td>\n",
              "      <td>2.0</td>\n",
              "      <td>1</td>\n",
              "      <td>24</td>\n",
              "      <td>6741</td>\n",
              "      <td>400.928533</td>\n",
              "      <td>295.880</td>\n",
              "      <td>138.10</td>\n",
              "      <td>1594.76</td>\n",
              "      <td>6741</td>\n",
              "      <td>7.32</td>\n",
              "    </tr>\n",
              "    <tr>\n",
              "      <th>Hibernating customers</th>\n",
              "      <td>337.887463</td>\n",
              "      <td>323.0</td>\n",
              "      <td>177</td>\n",
              "      <td>595</td>\n",
              "      <td>9037</td>\n",
              "      <td>1.000000</td>\n",
              "      <td>1.0</td>\n",
              "      <td>1</td>\n",
              "      <td>1</td>\n",
              "      <td>9037</td>\n",
              "      <td>79.034767</td>\n",
              "      <td>74.870</td>\n",
              "      <td>11.63</td>\n",
              "      <td>138.08</td>\n",
              "      <td>9037</td>\n",
              "      <td>9.82</td>\n",
              "    </tr>\n",
              "    <tr>\n",
              "      <th>Lost customers</th>\n",
              "      <td>470.135687</td>\n",
              "      <td>465.0</td>\n",
              "      <td>380</td>\n",
              "      <td>601</td>\n",
              "      <td>4702</td>\n",
              "      <td>1.039770</td>\n",
              "      <td>1.0</td>\n",
              "      <td>1</td>\n",
              "      <td>8</td>\n",
              "      <td>4702</td>\n",
              "      <td>45.459985</td>\n",
              "      <td>43.760</td>\n",
              "      <td>12.28</td>\n",
              "      <td>88.74</td>\n",
              "      <td>4702</td>\n",
              "      <td>5.11</td>\n",
              "    </tr>\n",
              "    <tr>\n",
              "      <th>Loyal</th>\n",
              "      <td>179.635311</td>\n",
              "      <td>195.0</td>\n",
              "      <td>0</td>\n",
              "      <td>267</td>\n",
              "      <td>6134</td>\n",
              "      <td>1.463319</td>\n",
              "      <td>1.0</td>\n",
              "      <td>1</td>\n",
              "      <td>13</td>\n",
              "      <td>6134</td>\n",
              "      <td>319.463045</td>\n",
              "      <td>231.120</td>\n",
              "      <td>88.78</td>\n",
              "      <td>1589.44</td>\n",
              "      <td>6134</td>\n",
              "      <td>6.66</td>\n",
              "    </tr>\n",
              "    <tr>\n",
              "      <th>Need Attention</th>\n",
              "      <td>156.639943</td>\n",
              "      <td>175.0</td>\n",
              "      <td>0</td>\n",
              "      <td>267</td>\n",
              "      <td>5588</td>\n",
              "      <td>1.000000</td>\n",
              "      <td>1.0</td>\n",
              "      <td>1</td>\n",
              "      <td>1</td>\n",
              "      <td>5588</td>\n",
              "      <td>204.104458</td>\n",
              "      <td>164.320</td>\n",
              "      <td>88.86</td>\n",
              "      <td>1555.23</td>\n",
              "      <td>5588</td>\n",
              "      <td>6.07</td>\n",
              "    </tr>\n",
              "    <tr>\n",
              "      <th>New Customers</th>\n",
              "      <td>122.456970</td>\n",
              "      <td>126.0</td>\n",
              "      <td>0</td>\n",
              "      <td>267</td>\n",
              "      <td>5624</td>\n",
              "      <td>1.000000</td>\n",
              "      <td>1.0</td>\n",
              "      <td>1</td>\n",
              "      <td>1</td>\n",
              "      <td>5624</td>\n",
              "      <td>52.469008</td>\n",
              "      <td>50.335</td>\n",
              "      <td>13.29</td>\n",
              "      <td>88.76</td>\n",
              "      <td>5624</td>\n",
              "      <td>6.11</td>\n",
              "    </tr>\n",
              "    <tr>\n",
              "      <th>Potential Loyalist</th>\n",
              "      <td>129.173962</td>\n",
              "      <td>128.0</td>\n",
              "      <td>0</td>\n",
              "      <td>267</td>\n",
              "      <td>15969</td>\n",
              "      <td>1.127184</td>\n",
              "      <td>1.0</td>\n",
              "      <td>1</td>\n",
              "      <td>22</td>\n",
              "      <td>15969</td>\n",
              "      <td>75.117938</td>\n",
              "      <td>71.140</td>\n",
              "      <td>9.59</td>\n",
              "      <td>138.08</td>\n",
              "      <td>15969</td>\n",
              "      <td>17.35</td>\n",
              "    </tr>\n",
              "    <tr>\n",
              "      <th>Promising</th>\n",
              "      <td>103.486258</td>\n",
              "      <td>87.5</td>\n",
              "      <td>0</td>\n",
              "      <td>267</td>\n",
              "      <td>11352</td>\n",
              "      <td>1.000000</td>\n",
              "      <td>1.0</td>\n",
              "      <td>1</td>\n",
              "      <td>1</td>\n",
              "      <td>11352</td>\n",
              "      <td>198.836624</td>\n",
              "      <td>149.860</td>\n",
              "      <td>14.06</td>\n",
              "      <td>1586.47</td>\n",
              "      <td>11352</td>\n",
              "      <td>12.33</td>\n",
              "    </tr>\n",
              "  </tbody>\n",
              "</table>\n",
              "</div>"
            ],
            "text/plain": [
              "                          Recency                         Frequency         \\\n",
              "                             mean median  min  max  count      mean median   \n",
              "Segment                                                                      \n",
              "About To Sleep         273.446541  276.0  177  379   5883  1.031277    1.0   \n",
              "At Risk                379.692785  360.0  268  601  14830  1.304248    1.0   \n",
              "Cannot Lose Them       438.001451  441.0  268  599   6201  1.473149    1.0   \n",
              "Champions               85.257084   82.0    0  176   6741  1.914998    2.0   \n",
              "Hibernating customers  337.887463  323.0  177  595   9037  1.000000    1.0   \n",
              "Lost customers         470.135687  465.0  380  601   4702  1.039770    1.0   \n",
              "Loyal                  179.635311  195.0    0  267   6134  1.463319    1.0   \n",
              "Need Attention         156.639943  175.0    0  267   5588  1.000000    1.0   \n",
              "New Customers          122.456970  126.0    0  267   5624  1.000000    1.0   \n",
              "Potential Loyalist     129.173962  128.0    0  267  15969  1.127184    1.0   \n",
              "Promising              103.486258   87.5    0  267  11352  1.000000    1.0   \n",
              "\n",
              "                                        Monetary                            \\\n",
              "                      min max  count        mean   median     min      max   \n",
              "Segment                                                                      \n",
              "About To Sleep          1   9   5883   53.041124   45.000   10.07   138.05   \n",
              "At Risk                 1  38  14830  240.978198  162.560   55.52  1590.25   \n",
              "Cannot Lose Them        1  75   6201  296.839655  204.540   89.02  1592.64   \n",
              "Champions               1  24   6741  400.928533  295.880  138.10  1594.76   \n",
              "Hibernating customers   1   1   9037   79.034767   74.870   11.63   138.08   \n",
              "Lost customers          1   8   4702   45.459985   43.760   12.28    88.74   \n",
              "Loyal                   1  13   6134  319.463045  231.120   88.78  1589.44   \n",
              "Need Attention          1   1   5588  204.104458  164.320   88.86  1555.23   \n",
              "New Customers           1   1   5624   52.469008   50.335   13.29    88.76   \n",
              "Potential Loyalist      1  22  15969   75.117938   71.140    9.59   138.08   \n",
              "Promising               1   1  11352  198.836624  149.860   14.06  1586.47   \n",
              "\n",
              "                              Ratio  \n",
              "                       count         \n",
              "Segment                              \n",
              "About To Sleep          5883   6.39  \n",
              "At Risk                14830  16.11  \n",
              "Cannot Lose Them        6201   6.74  \n",
              "Champions               6741   7.32  \n",
              "Hibernating customers   9037   9.82  \n",
              "Lost customers          4702   5.11  \n",
              "Loyal                   6134   6.66  \n",
              "Need Attention          5588   6.07  \n",
              "New Customers           5624   6.11  \n",
              "Potential Loyalist     15969  17.35  \n",
              "Promising              11352  12.33  "
            ]
          },
          "execution_count": 210,
          "metadata": {},
          "output_type": "execute_result"
        }
      ],
      "source": [
        "RFMStats['Ratio']= (100*RFMStats['Monetary'][\"count\"]/RFMStats['Monetary'][\"count\"].sum()).round(2)\n",
        "RFMStats"
      ]
    },
    {
      "cell_type": "code",
      "execution_count": 312,
      "metadata": {},
      "outputs": [
        {
          "data": {
            "image/png": "[encoded data removed]",
            "text/plain": [
              "<Figure size 1440x576 with 1 Axes>"
            ]
          },
          "metadata": {},
          "output_type": "display_data"
        }
      ],
      "source": [
        "plt.figure(figsize=(20,8))\n",
        "#plt.rc('font', size=20)\n",
        "per= sns.barplot(x=RFMStats['Ratio'], y=RFMStats.Label, data=RFMStats, palette=\"viridis\")\n",
        "sns.despine(bottom = True, left = True)\n",
        "for i, v in enumerate(RFMStats['Ratio']):\n",
        "    per.text(v, i+.20,\"  {:.2f}\".format(v)+\"%\", color='black', ha=\"left\")\n",
        "per.set_ylabel('Segments', fontsize=25)\n",
        "per.set(xticks=[])\n",
        "plt.title('Distribution of Segments', fontsize=35)\n",
        "plt.show()"
      ]
    },
    {
      "cell_type": "code",
      "execution_count": 324,
      "metadata": {},
      "outputs": [
        {
          "data": {
            "application/vnd.plotly.v1+json": {
              "config": {
                "plotlyServerURL": "https://plot.ly"
              },
              "data": [
                {
                  "alignmentgroup": "True",
                  "hovertemplate": "=%{marker.color}<br>Label=%{y}<extra></extra>",
                  "legendgroup": "",
                  "marker": {
                    "color": [
                      6.39,
                      16.11,
                      6.74,
                      7.32,
                      9.82,
                      5.11,
                      6.66,
                      6.07,
                      6.11,
                      17.35,
                      12.33
                    ],
                    "coloraxis": "coloraxis",
                    "pattern": {
                      "shape": ""
                    }
                  },
                  "name": "",
                  "offsetgroup": "",
                  "orientation": "h",
                  "showlegend": false,
                  "text": [
                    6.39,
                    16.11,
                    6.74,
                    7.32,
                    9.82,
                    5.11,
                    6.66,
                    6.07,
                    6.11,
                    17.35,
                    12.33
                  ],
                  "textposition": "outside",
                  "texttemplate": "%{text:.2f}%",
                  "type": "bar",
                  "x": [
                    6.39,
                    16.11,
                    6.74,
                    7.32,
                    9.82,
                    5.11,
                    6.66,
                    6.07,
                    6.11,
                    17.35,
                    12.33
                  ],
                  "xaxis": "x",
                  "y": [
                    "About To Sleep",
                    "At Risk",
                    "Cannot Lose Them",
                    "Champions",
                    "Hibernating customers",
                    "Lost customers",
                    "Loyal",
                    "Need Attention",
                    "New Customers",
                    "Potential Loyalist",
                    "Promising"
                  ],
                  "yaxis": "y"
                }
              ],
              "layout": {
                "barmode": "relative",
                "coloraxis": {
                  "colorbar": {
                    "title": {
                      "text": ""
                    }
                  },
                  "colorscale": [
                    [
                      0,
                      "#440154"
                    ],
                    [
                      0.1111111111111111,
                      "#482878"
                    ],
                    [
                      0.2222222222222222,
                      "#3e4989"
                    ],
                    [
                      0.3333333333333333,
                      "#31688e"
                    ],
                    [
                      0.4444444444444444,
                      "#26828e"
                    ],
                    [
                      0.5555555555555556,
                      "#1f9e89"
                    ],
                    [
                      0.6666666666666666,
                      "#35b779"
                    ],
                    [
                      0.7777777777777778,
                      "#6ece58"
                    ],
                    [
                      0.8888888888888888,
                      "#b5de2b"
                    ],
                    [
                      1,
                      "#fde725"
                    ]
                  ]
                },
                "legend": {
                  "tracegroupgap": 0
                },
                "plot_bgcolor": "rgba(0,0,0,0)",
                "template": {
                  "data": {
                    "bar": [
                      {
                        "error_x": {
                          "color": "#2a3f5f"
                        },
                        "error_y": {
                          "color": "#2a3f5f"
                        },
                        "marker": {
                          "line": {
                            "color": "#E5ECF6",
                            "width": 0.5
                          },
                          "pattern": {
                            "fillmode": "overlay",
                            "size": 10,
                            "solidity": 0.2
                          }
                        },
                        "type": "bar"
                      }
                    ],
                    "barpolar": [
                      {
                        "marker": {
                          "line": {
                            "color": "#E5ECF6",
                            "width": 0.5
                          },
                          "pattern": {
                            "fillmode": "overlay",
                            "size": 10,
                            "solidity": 0.2
                          }
                        },
                        "type": "barpolar"
                      }
                    ],
                    "carpet": [
                      {
                        "aaxis": {
                          "endlinecolor": "#2a3f5f",
                          "gridcolor": "white",
                          "linecolor": "white",
                          "minorgridcolor": "white",
                          "startlinecolor": "#2a3f5f"
                        },
                        "baxis": {
                          "endlinecolor": "#2a3f5f",
                          "gridcolor": "white",
                          "linecolor": "white",
                          "minorgridcolor": "white",
                          "startlinecolor": "#2a3f5f"
                        },
                        "type": "carpet"
                      }
                    ],
                    "choropleth": [
                      {
                        "colorbar": {
                          "outlinewidth": 0,
                          "ticks": ""
                        },
                        "type": "choropleth"
                      }
                    ],
                    "contour": [
                      {
                        "colorbar": {
                          "outlinewidth": 0,
                          "ticks": ""
                        },
                        "colorscale": [
                          [
                            0,
                            "#0d0887"
                          ],
                          [
                            0.1111111111111111,
                            "#46039f"
                          ],
                          [
                            0.2222222222222222,
                            "#7201a8"
                          ],
                          [
                            0.3333333333333333,
                            "#9c179e"
                          ],
                          [
                            0.4444444444444444,
                            "#bd3786"
                          ],
                          [
                            0.5555555555555556,
                            "#d8576b"
                          ],
                          [
                            0.6666666666666666,
                            "#ed7953"
                          ],
                          [
                            0.7777777777777778,
                            "#fb9f3a"
                          ],
                          [
                            0.8888888888888888,
                            "#fdca26"
                          ],
                          [
                            1,
                            "#f0f921"
                          ]
                        ],
                        "type": "contour"
                      }
                    ],
                    "contourcarpet": [
                      {
                        "colorbar": {
                          "outlinewidth": 0,
                          "ticks": ""
                        },
                        "type": "contourcarpet"
                      }
                    ],
                    "heatmap": [
                      {
                        "colorbar": {
                          "outlinewidth": 0,
                          "ticks": ""
                        },
                        "colorscale": [
                          [
                            0,
                            "#0d0887"
                          ],
                          [
                            0.1111111111111111,
                            "#46039f"
                          ],
                          [
                            0.2222222222222222,
                            "#7201a8"
                          ],
                          [
                            0.3333333333333333,
                            "#9c179e"
                          ],
                          [
                            0.4444444444444444,
                            "#bd3786"
                          ],
                          [
                            0.5555555555555556,
                            "#d8576b"
                          ],
                          [
                            0.6666666666666666,
                            "#ed7953"
                          ],
                          [
                            0.7777777777777778,
                            "#fb9f3a"
                          ],
                          [
                            0.8888888888888888,
                            "#fdca26"
                          ],
                          [
                            1,
                            "#f0f921"
                          ]
                        ],
                        "type": "heatmap"
                      }
                    ],
                    "heatmapgl": [
                      {
                        "colorbar": {
                          "outlinewidth": 0,
                          "ticks": ""
                        },
                        "colorscale": [
                          [
                            0,
                            "#0d0887"
                          ],
                          [
                            0.1111111111111111,
                            "#46039f"
                          ],
                          [
                            0.2222222222222222,
                            "#7201a8"
                          ],
                          [
                            0.3333333333333333,
                            "#9c179e"
                          ],
                          [
                            0.4444444444444444,
                            "#bd3786"
                          ],
                          [
                            0.5555555555555556,
                            "#d8576b"
                          ],
                          [
                            0.6666666666666666,
                            "#ed7953"
                          ],
                          [
                            0.7777777777777778,
                            "#fb9f3a"
                          ],
                          [
                            0.8888888888888888,
                            "#fdca26"
                          ],
                          [
                            1,
                            "#f0f921"
                          ]
                        ],
                        "type": "heatmapgl"
                      }
                    ],
                    "histogram": [
                      {
                        "marker": {
                          "pattern": {
                            "fillmode": "overlay",
                            "size": 10,
                            "solidity": 0.2
                          }
                        },
                        "type": "histogram"
                      }
                    ],
                    "histogram2d": [
                      {
                        "colorbar": {
                          "outlinewidth": 0,
                          "ticks": ""
                        },
                        "colorscale": [
                          [
                            0,
                            "#0d0887"
                          ],
                          [
                            0.1111111111111111,
                            "#46039f"
                          ],
                          [
                            0.2222222222222222,
                            "#7201a8"
                          ],
                          [
                            0.3333333333333333,
                            "#9c179e"
                          ],
                          [
                            0.4444444444444444,
                            "#bd3786"
                          ],
                          [
                            0.5555555555555556,
                            "#d8576b"
                          ],
                          [
                            0.6666666666666666,
                            "#ed7953"
                          ],
                          [
                            0.7777777777777778,
                            "#fb9f3a"
                          ],
                          [
                            0.8888888888888888,
                            "#fdca26"
                          ],
                          [
                            1,
                            "#f0f921"
                          ]
                        ],
                        "type": "histogram2d"
                      }
                    ],
                    "histogram2dcontour": [
                      {
                        "colorbar": {
                          "outlinewidth": 0,
                          "ticks": ""
                        },
                        "colorscale": [
                          [
                            0,
                            "#0d0887"
                          ],
                          [
                            0.1111111111111111,
                            "#46039f"
                          ],
                          [
                            0.2222222222222222,
                            "#7201a8"
                          ],
                          [
                            0.3333333333333333,
                            "#9c179e"
                          ],
                          [
                            0.4444444444444444,
                            "#bd3786"
                          ],
                          [
                            0.5555555555555556,
                            "#d8576b"
                          ],
                          [
                            0.6666666666666666,
                            "#ed7953"
                          ],
                          [
                            0.7777777777777778,
                            "#fb9f3a"
                          ],
                          [
                            0.8888888888888888,
                            "#fdca26"
                          ],
                          [
                            1,
                            "#f0f921"
                          ]
                        ],
                        "type": "histogram2dcontour"
                      }
                    ],
                    "mesh3d": [
                      {
                        "colorbar": {
                          "outlinewidth": 0,
                          "ticks": ""
                        },
                        "type": "mesh3d"
                      }
                    ],
                    "parcoords": [
                      {
                        "line": {
                          "colorbar": {
                            "outlinewidth": 0,
                            "ticks": ""
                          }
                        },
                        "type": "parcoords"
                      }
                    ],
                    "pie": [
                      {
                        "automargin": true,
                        "type": "pie"
                      }
                    ],
                    "scatter": [
                      {
                        "marker": {
                          "colorbar": {
                            "outlinewidth": 0,
                            "ticks": ""
                          }
                        },
                        "type": "scatter"
                      }
                    ],
                    "scatter3d": [
                      {
                        "line": {
                          "colorbar": {
                            "outlinewidth": 0,
                            "ticks": ""
                          }
                        },
                        "marker": {
                          "colorbar": {
                            "outlinewidth": 0,
                            "ticks": ""
                          }
                        },
                        "type": "scatter3d"
                      }
                    ],
                    "scattercarpet": [
                      {
                        "marker": {
                          "colorbar": {
                            "outlinewidth": 0,
                            "ticks": ""
                          }
                        },
                        "type": "scattercarpet"
                      }
                    ],
                    "scattergeo": [
                      {
                        "marker": {
                          "colorbar": {
                            "outlinewidth": 0,
                            "ticks": ""
                          }
                        },
                        "type": "scattergeo"
                      }
                    ],
                    "scattergl": [
                      {
                        "marker": {
                          "colorbar": {
                            "outlinewidth": 0,
                            "ticks": ""
                          }
                        },
                        "type": "scattergl"
                      }
                    ],
                    "scattermapbox": [
                      {
                        "marker": {
                          "colorbar": {
                            "outlinewidth": 0,
                            "ticks": ""
                          }
                        },
                        "type": "scattermapbox"
                      }
                    ],
                    "scatterpolar": [
                      {
                        "marker": {
                          "colorbar": {
                            "outlinewidth": 0,
                            "ticks": ""
                          }
                        },
                        "type": "scatterpolar"
                      }
                    ],
                    "scatterpolargl": [
                      {
                        "marker": {
                          "colorbar": {
                            "outlinewidth": 0,
                            "ticks": ""
                          }
                        },
                        "type": "scatterpolargl"
                      }
                    ],
                    "scatterternary": [
                      {
                        "marker": {
                          "colorbar": {
                            "outlinewidth": 0,
                            "ticks": ""
                          }
                        },
                        "type": "scatterternary"
                      }
                    ],
                    "surface": [
                      {
                        "colorbar": {
                          "outlinewidth": 0,
                          "ticks": ""
                        },
                        "colorscale": [
                          [
                            0,
                            "#0d0887"
                          ],
                          [
                            0.1111111111111111,
                            "#46039f"
                          ],
                          [
                            0.2222222222222222,
                            "#7201a8"
                          ],
                          [
                            0.3333333333333333,
                            "#9c179e"
                          ],
                          [
                            0.4444444444444444,
                            "#bd3786"
                          ],
                          [
                            0.5555555555555556,
                            "#d8576b"
                          ],
                          [
                            0.6666666666666666,
                            "#ed7953"
                          ],
                          [
                            0.7777777777777778,
                            "#fb9f3a"
                          ],
                          [
                            0.8888888888888888,
                            "#fdca26"
                          ],
                          [
                            1,
                            "#f0f921"
                          ]
                        ],
                        "type": "surface"
                      }
                    ],
                    "table": [
                      {
                        "cells": {
                          "fill": {
                            "color": "#EBF0F8"
                          },
                          "line": {
                            "color": "white"
                          }
                        },
                        "header": {
                          "fill": {
                            "color": "#C8D4E3"
                          },
                          "line": {
                            "color": "white"
                          }
                        },
                        "type": "table"
                      }
                    ]
                  },
                  "layout": {
                    "annotationdefaults": {
                      "arrowcolor": "#2a3f5f",
                      "arrowhead": 0,
                      "arrowwidth": 1
                    },
                    "autotypenumbers": "strict",
                    "coloraxis": {
                      "colorbar": {
                        "outlinewidth": 0,
                        "ticks": ""
                      }
                    },
                    "colorscale": {
                      "diverging": [
                        [
                          0,
                          "#8e0152"
                        ],
                        [
                          0.1,
                          "#c51b7d"
                        ],
                        [
                          0.2,
                          "#de77ae"
                        ],
                        [
                          0.3,
                          "#f1b6da"
                        ],
                        [
                          0.4,
                          "#fde0ef"
                        ],
                        [
                          0.5,
                          "#f7f7f7"
                        ],
                        [
                          0.6,
                          "#e6f5d0"
                        ],
                        [
                          0.7,
                          "#b8e186"
                        ],
                        [
                          0.8,
                          "#7fbc41"
                        ],
                        [
                          0.9,
                          "#4d9221"
                        ],
                        [
                          1,
                          "#276419"
                        ]
                      ],
                      "sequential": [
                        [
                          0,
                          "#0d0887"
                        ],
                        [
                          0.1111111111111111,
                          "#46039f"
                        ],
                        [
                          0.2222222222222222,
                          "#7201a8"
                        ],
                        [
                          0.3333333333333333,
                          "#9c179e"
                        ],
                        [
                          0.4444444444444444,
                          "#bd3786"
                        ],
                        [
                          0.5555555555555556,
                          "#d8576b"
                        ],
                        [
                          0.6666666666666666,
                          "#ed7953"
                        ],
                        [
                          0.7777777777777778,
                          "#fb9f3a"
                        ],
                        [
                          0.8888888888888888,
                          "#fdca26"
                        ],
                        [
                          1,
                          "#f0f921"
                        ]
                      ],
                      "sequentialminus": [
                        [
                          0,
                          "#0d0887"
                        ],
                        [
                          0.1111111111111111,
                          "#46039f"
                        ],
                        [
                          0.2222222222222222,
                          "#7201a8"
                        ],
                        [
                          0.3333333333333333,
                          "#9c179e"
                        ],
                        [
                          0.4444444444444444,
                          "#bd3786"
                        ],
                        [
                          0.5555555555555556,
                          "#d8576b"
                        ],
                        [
                          0.6666666666666666,
                          "#ed7953"
                        ],
                        [
                          0.7777777777777778,
                          "#fb9f3a"
                        ],
                        [
                          0.8888888888888888,
                          "#fdca26"
                        ],
                        [
                          1,
                          "#f0f921"
                        ]
                      ]
                    },
                    "colorway": [
                      "#636efa",
                      "#EF553B",
                      "#00cc96",
                      "#ab63fa",
                      "#FFA15A",
                      "#19d3f3",
                      "#FF6692",
                      "#B6E880",
                      "#FF97FF",
                      "#FECB52"
                    ],
                    "font": {
                      "color": "#2a3f5f"
                    },
                    "geo": {
                      "bgcolor": "white",
                      "lakecolor": "white",
                      "landcolor": "#E5ECF6",
                      "showlakes": true,
                      "showland": true,
                      "subunitcolor": "white"
                    },
                    "hoverlabel": {
                      "align": "left"
                    },
                    "hovermode": "closest",
                    "mapbox": {
                      "style": "light"
                    },
                    "paper_bgcolor": "white",
                    "plot_bgcolor": "#E5ECF6",
                    "polar": {
                      "angularaxis": {
                        "gridcolor": "white",
                        "linecolor": "white",
                        "ticks": ""
                      },
                      "bgcolor": "#E5ECF6",
                      "radialaxis": {
                        "gridcolor": "white",
                        "linecolor": "white",
                        "ticks": ""
                      }
                    },
                    "scene": {
                      "xaxis": {
                        "backgroundcolor": "#E5ECF6",
                        "gridcolor": "white",
                        "gridwidth": 2,
                        "linecolor": "white",
                        "showbackground": true,
                        "ticks": "",
                        "zerolinecolor": "white"
                      },
                      "yaxis": {
                        "backgroundcolor": "#E5ECF6",
                        "gridcolor": "white",
                        "gridwidth": 2,
                        "linecolor": "white",
                        "showbackground": true,
                        "ticks": "",
                        "zerolinecolor": "white"
                      },
                      "zaxis": {
                        "backgroundcolor": "#E5ECF6",
                        "gridcolor": "white",
                        "gridwidth": 2,
                        "linecolor": "white",
                        "showbackground": true,
                        "ticks": "",
                        "zerolinecolor": "white"
                      }
                    },
                    "shapedefaults": {
                      "line": {
                        "color": "#2a3f5f"
                      }
                    },
                    "ternary": {
                      "aaxis": {
                        "gridcolor": "white",
                        "linecolor": "white",
                        "ticks": ""
                      },
                      "baxis": {
                        "gridcolor": "white",
                        "linecolor": "white",
                        "ticks": ""
                      },
                      "bgcolor": "#E5ECF6",
                      "caxis": {
                        "gridcolor": "white",
                        "linecolor": "white",
                        "ticks": ""
                      }
                    },
                    "title": {
                      "x": 0.05
                    },
                    "xaxis": {
                      "automargin": true,
                      "gridcolor": "white",
                      "linecolor": "white",
                      "ticks": "",
                      "title": {
                        "standoff": 15
                      },
                      "zerolinecolor": "white",
                      "zerolinewidth": 2
                    },
                    "yaxis": {
                      "automargin": true,
                      "gridcolor": "white",
                      "linecolor": "white",
                      "ticks": "",
                      "title": {
                        "standoff": 15
                      },
                      "zerolinecolor": "white",
                      "zerolinewidth": 2
                    }
                  }
                },
                "title": {
                  "font": {
                    "size": 35
                  },
                  "text": "Distribution of Segments"
                },
                "xaxis": {
                  "anchor": "y",
                  "domain": [
                    0,
                    1
                  ],
                  "showticklabels": false,
                  "title": {
                    "text": "Ratio"
                  }
                },
                "yaxis": {
                  "anchor": "x",
                  "domain": [
                    0,
                    1
                  ],
                  "title": {
                    "text": "Segments"
                  }
                }
              }
            },
            "text/html": [
              "<div>                            <div id=\"ce14180e-ea74-4163-ba1e-65462bc75563\" class=\"plotly-graph-div\" style=\"height:525px; width:100%;\"></div>            <script type=\"text/javascript\">                require([\"plotly\"], function(Plotly) {                    window.PLOTLYENV=window.PLOTLYENV || {};                                    if (document.getElementById(\"ce14180e-ea74-4163-ba1e-65462bc75563\")) {                    Plotly.newPlot(                        \"ce14180e-ea74-4163-ba1e-65462bc75563\",                        [{\"alignmentgroup\":\"True\",\"hovertemplate\":\"=%{marker.color}<br>Label=%{y}<extra></extra>\",\"legendgroup\":\"\",\"marker\":{\"color\":[6.39,16.11,6.74,7.32,9.82,5.11,6.66,6.07,6.11,17.35,12.33],\"coloraxis\":\"coloraxis\",\"pattern\":{\"shape\":\"\"}},\"name\":\"\",\"offsetgroup\":\"\",\"orientation\":\"h\",\"showlegend\":false,\"text\":[6.39,16.11,6.74,7.32,9.82,5.11,6.66,6.07,6.11,17.35,12.33],\"textposition\":\"outside\",\"x\":[6.39,16.11,6.74,7.32,9.82,5.11,6.66,6.07,6.11,17.35,12.33],\"xaxis\":\"x\",\"y\":[\"About To Sleep\",\"At Risk\",\"Cannot Lose Them\",\"Champions\",\"Hibernating customers\",\"Lost customers\",\"Loyal\",\"Need Attention\",\"New Customers\",\"Potential Loyalist\",\"Promising\"],\"yaxis\":\"y\",\"type\":\"bar\",\"texttemplate\":\"%{text:.2f}%\"}],                        {\"template\":{\"data\":{\"bar\":[{\"error_x\":{\"color\":\"#2a3f5f\"},\"error_y\":{\"color\":\"#2a3f5f\"},\"marker\":{\"line\":{\"color\":\"#E5ECF6\",\"width\":0.5},\"pattern\":{\"fillmode\":\"overlay\",\"size\":10,\"solidity\":0.2}},\"type\":\"bar\"}],\"barpolar\":[{\"marker\":{\"line\":{\"color\":\"#E5ECF6\",\"width\":0.5},\"pattern\":{\"fillmode\":\"overlay\",\"size\":10,\"solidity\":0.2}},\"type\":\"barpolar\"}],\"carpet\":[{\"aaxis\":{\"endlinecolor\":\"#2a3f5f\",\"gridcolor\":\"white\",\"linecolor\":\"white\",\"minorgridcolor\":\"white\",\"startlinecolor\":\"#2a3f5f\"},\"baxis\":{\"endlinecolor\":\"#2a3f5f\",\"gridcolor\":\"white\",\"linecolor\":\"white\",\"minorgridcolor\":\"white\",\"startlinecolor\":\"#2a3f5f\"},\"type\":\"carpet\"}],\"choropleth\":[{\"colorbar\":{\"outlinewidth\":0,\"ticks\":\"\"},\"type\":\"choropleth\"}],\"contour\":[{\"colorbar\":{\"outlinewidth\":0,\"ticks\":\"\"},\"colorscale\":[[0.0,\"#0d0887\"],[0.1111111111111111,\"#46039f\"],[0.2222222222222222,\"#7201a8\"],[0.3333333333333333,\"#9c179e\"],[0.4444444444444444,\"#bd3786\"],[0.5555555555555556,\"#d8576b\"],[0.6666666666666666,\"#ed7953\"],[0.7777777777777778,\"#fb9f3a\"],[0.8888888888888888,\"#fdca26\"],[1.0,\"#f0f921\"]],\"type\":\"contour\"}],\"contourcarpet\":[{\"colorbar\":{\"outlinewidth\":0,\"ticks\":\"\"},\"type\":\"contourcarpet\"}],\"heatmap\":[{\"colorbar\":{\"outlinewidth\":0,\"ticks\":\"\"},\"colorscale\":[[0.0,\"#0d0887\"],[0.1111111111111111,\"#46039f\"],[0.2222222222222222,\"#7201a8\"],[0.3333333333333333,\"#9c179e\"],[0.4444444444444444,\"#bd3786\"],[0.5555555555555556,\"#d8576b\"],[0.6666666666666666,\"#ed7953\"],[0.7777777777777778,\"#fb9f3a\"],[0.8888888888888888,\"#fdca26\"],[1.0,\"#f0f921\"]],\"type\":\"heatmap\"}],\"heatmapgl\":[{\"colorbar\":{\"outlinewidth\":0,\"ticks\":\"\"},\"colorscale\":[[0.0,\"#0d0887\"],[0.1111111111111111,\"#46039f\"],[0.2222222222222222,\"#7201a8\"],[0.3333333333333333,\"#9c179e\"],[0.4444444444444444,\"#bd3786\"],[0.5555555555555556,\"#d8576b\"],[0.6666666666666666,\"#ed7953\"],[0.7777777777777778,\"#fb9f3a\"],[0.8888888888888888,\"#fdca26\"],[1.0,\"#f0f921\"]],\"type\":\"heatmapgl\"}],\"histogram\":[{\"marker\":{\"pattern\":{\"fillmode\":\"overlay\",\"size\":10,\"solidity\":0.2}},\"type\":\"histogram\"}],\"histogram2d\":[{\"colorbar\":{\"outlinewidth\":0,\"ticks\":\"\"},\"colorscale\":[[0.0,\"#0d0887\"],[0.1111111111111111,\"#46039f\"],[0.2222222222222222,\"#7201a8\"],[0.3333333333333333,\"#9c179e\"],[0.4444444444444444,\"#bd3786\"],[0.5555555555555556,\"#d8576b\"],[0.6666666666666666,\"#ed7953\"],[0.7777777777777778,\"#fb9f3a\"],[0.8888888888888888,\"#fdca26\"],[1.0,\"#f0f921\"]],\"type\":\"histogram2d\"}],\"histogram2dcontour\":[{\"colorbar\":{\"outlinewidth\":0,\"ticks\":\"\"},\"colorscale\":[[0.0,\"#0d0887\"],[0.1111111111111111,\"#46039f\"],[0.2222222222222222,\"#7201a8\"],[0.3333333333333333,\"#9c179e\"],[0.4444444444444444,\"#bd3786\"],[0.5555555555555556,\"#d8576b\"],[0.6666666666666666,\"#ed7953\"],[0.7777777777777778,\"#fb9f3a\"],[0.8888888888888888,\"#fdca26\"],[1.0,\"#f0f921\"]],\"type\":\"histogram2dcontour\"}],\"mesh3d\":[{\"colorbar\":{\"outlinewidth\":0,\"ticks\":\"\"},\"type\":\"mesh3d\"}],\"parcoords\":[{\"line\":{\"colorbar\":{\"outlinewidth\":0,\"ticks\":\"\"}},\"type\":\"parcoords\"}],\"pie\":[{\"automargin\":true,\"type\":\"pie\"}],\"scatter\":[{\"marker\":{\"colorbar\":{\"outlinewidth\":0,\"ticks\":\"\"}},\"type\":\"scatter\"}],\"scatter3d\":[{\"line\":{\"colorbar\":{\"outlinewidth\":0,\"ticks\":\"\"}},\"marker\":{\"colorbar\":{\"outlinewidth\":0,\"ticks\":\"\"}},\"type\":\"scatter3d\"}],\"scattercarpet\":[{\"marker\":{\"colorbar\":{\"outlinewidth\":0,\"ticks\":\"\"}},\"type\":\"scattercarpet\"}],\"scattergeo\":[{\"marker\":{\"colorbar\":{\"outlinewidth\":0,\"ticks\":\"\"}},\"type\":\"scattergeo\"}],\"scattergl\":[{\"marker\":{\"colorbar\":{\"outlinewidth\":0,\"ticks\":\"\"}},\"type\":\"scattergl\"}],\"scattermapbox\":[{\"marker\":{\"colorbar\":{\"outlinewidth\":0,\"ticks\":\"\"}},\"type\":\"scattermapbox\"}],\"scatterpolar\":[{\"marker\":{\"colorbar\":{\"outlinewidth\":0,\"ticks\":\"\"}},\"type\":\"scatterpolar\"}],\"scatterpolargl\":[{\"marker\":{\"colorbar\":{\"outlinewidth\":0,\"ticks\":\"\"}},\"type\":\"scatterpolargl\"}],\"scatterternary\":[{\"marker\":{\"colorbar\":{\"outlinewidth\":0,\"ticks\":\"\"}},\"type\":\"scatterternary\"}],\"surface\":[{\"colorbar\":{\"outlinewidth\":0,\"ticks\":\"\"},\"colorscale\":[[0.0,\"#0d0887\"],[0.1111111111111111,\"#46039f\"],[0.2222222222222222,\"#7201a8\"],[0.3333333333333333,\"#9c179e\"],[0.4444444444444444,\"#bd3786\"],[0.5555555555555556,\"#d8576b\"],[0.6666666666666666,\"#ed7953\"],[0.7777777777777778,\"#fb9f3a\"],[0.8888888888888888,\"#fdca26\"],[1.0,\"#f0f921\"]],\"type\":\"surface\"}],\"table\":[{\"cells\":{\"fill\":{\"color\":\"#EBF0F8\"},\"line\":{\"color\":\"white\"}},\"header\":{\"fill\":{\"color\":\"#C8D4E3\"},\"line\":{\"color\":\"white\"}},\"type\":\"table\"}]},\"layout\":{\"annotationdefaults\":{\"arrowcolor\":\"#2a3f5f\",\"arrowhead\":0,\"arrowwidth\":1},\"autotypenumbers\":\"strict\",\"coloraxis\":{\"colorbar\":{\"outlinewidth\":0,\"ticks\":\"\"}},\"colorscale\":{\"diverging\":[[0,\"#8e0152\"],[0.1,\"#c51b7d\"],[0.2,\"#de77ae\"],[0.3,\"#f1b6da\"],[0.4,\"#fde0ef\"],[0.5,\"#f7f7f7\"],[0.6,\"#e6f5d0\"],[0.7,\"#b8e186\"],[0.8,\"#7fbc41\"],[0.9,\"#4d9221\"],[1,\"#276419\"]],\"sequential\":[[0.0,\"#0d0887\"],[0.1111111111111111,\"#46039f\"],[0.2222222222222222,\"#7201a8\"],[0.3333333333333333,\"#9c179e\"],[0.4444444444444444,\"#bd3786\"],[0.5555555555555556,\"#d8576b\"],[0.6666666666666666,\"#ed7953\"],[0.7777777777777778,\"#fb9f3a\"],[0.8888888888888888,\"#fdca26\"],[1.0,\"#f0f921\"]],\"sequentialminus\":[[0.0,\"#0d0887\"],[0.1111111111111111,\"#46039f\"],[0.2222222222222222,\"#7201a8\"],[0.3333333333333333,\"#9c179e\"],[0.4444444444444444,\"#bd3786\"],[0.5555555555555556,\"#d8576b\"],[0.6666666666666666,\"#ed7953\"],[0.7777777777777778,\"#fb9f3a\"],[0.8888888888888888,\"#fdca26\"],[1.0,\"#f0f921\"]]},\"colorway\":[\"#636efa\",\"#EF553B\",\"#00cc96\",\"#ab63fa\",\"#FFA15A\",\"#19d3f3\",\"#FF6692\",\"#B6E880\",\"#FF97FF\",\"#FECB52\"],\"font\":{\"color\":\"#2a3f5f\"},\"geo\":{\"bgcolor\":\"white\",\"lakecolor\":\"white\",\"landcolor\":\"#E5ECF6\",\"showlakes\":true,\"showland\":true,\"subunitcolor\":\"white\"},\"hoverlabel\":{\"align\":\"left\"},\"hovermode\":\"closest\",\"mapbox\":{\"style\":\"light\"},\"paper_bgcolor\":\"white\",\"plot_bgcolor\":\"#E5ECF6\",\"polar\":{\"angularaxis\":{\"gridcolor\":\"white\",\"linecolor\":\"white\",\"ticks\":\"\"},\"bgcolor\":\"#E5ECF6\",\"radialaxis\":{\"gridcolor\":\"white\",\"linecolor\":\"white\",\"ticks\":\"\"}},\"scene\":{\"xaxis\":{\"backgroundcolor\":\"#E5ECF6\",\"gridcolor\":\"white\",\"gridwidth\":2,\"linecolor\":\"white\",\"showbackground\":true,\"ticks\":\"\",\"zerolinecolor\":\"white\"},\"yaxis\":{\"backgroundcolor\":\"#E5ECF6\",\"gridcolor\":\"white\",\"gridwidth\":2,\"linecolor\":\"white\",\"showbackground\":true,\"ticks\":\"\",\"zerolinecolor\":\"white\"},\"zaxis\":{\"backgroundcolor\":\"#E5ECF6\",\"gridcolor\":\"white\",\"gridwidth\":2,\"linecolor\":\"white\",\"showbackground\":true,\"ticks\":\"\",\"zerolinecolor\":\"white\"}},\"shapedefaults\":{\"line\":{\"color\":\"#2a3f5f\"}},\"ternary\":{\"aaxis\":{\"gridcolor\":\"white\",\"linecolor\":\"white\",\"ticks\":\"\"},\"baxis\":{\"gridcolor\":\"white\",\"linecolor\":\"white\",\"ticks\":\"\"},\"bgcolor\":\"#E5ECF6\",\"caxis\":{\"gridcolor\":\"white\",\"linecolor\":\"white\",\"ticks\":\"\"}},\"title\":{\"x\":0.05},\"xaxis\":{\"automargin\":true,\"gridcolor\":\"white\",\"linecolor\":\"white\",\"ticks\":\"\",\"title\":{\"standoff\":15},\"zerolinecolor\":\"white\",\"zerolinewidth\":2},\"yaxis\":{\"automargin\":true,\"gridcolor\":\"white\",\"linecolor\":\"white\",\"ticks\":\"\",\"title\":{\"standoff\":15},\"zerolinecolor\":\"white\",\"zerolinewidth\":2}}},\"xaxis\":{\"anchor\":\"y\",\"domain\":[0.0,1.0],\"title\":{\"text\":\"Ratio\"},\"showticklabels\":false},\"yaxis\":{\"anchor\":\"x\",\"domain\":[0.0,1.0],\"title\":{\"text\":\"Segments\"}},\"coloraxis\":{\"colorbar\":{\"title\":{\"text\":\"\"}},\"colorscale\":[[0.0,\"#440154\"],[0.1111111111111111,\"#482878\"],[0.2222222222222222,\"#3e4989\"],[0.3333333333333333,\"#31688e\"],[0.4444444444444444,\"#26828e\"],[0.5555555555555556,\"#1f9e89\"],[0.6666666666666666,\"#35b779\"],[0.7777777777777778,\"#6ece58\"],[0.8888888888888888,\"#b5de2b\"],[1.0,\"#fde725\"]]},\"legend\":{\"tracegroupgap\":0},\"title\":{\"text\":\"Distribution of Segments\",\"font\":{\"size\":35}},\"barmode\":\"relative\",\"plot_bgcolor\":\"rgba(0,0,0,0)\"},                        {\"responsive\": true}                    ).then(function(){\n",
              "                            \n",
              "var gd = document.getElementById('ce14180e-ea74-4163-ba1e-65462bc75563');\n",
              "var x = new MutationObserver(function (mutations, observer) {{\n",
              "        var display = window.getComputedStyle(gd).display;\n",
              "        if (!display || display === 'none') {{\n",
              "            console.log([gd, 'removed!']);\n",
              "            Plotly.purge(gd);\n",
              "            observer.disconnect();\n",
              "        }}\n",
              "}});\n",
              "\n",
              "// Listen for the removal of the full notebook cells\n",
              "var notebookContainer = gd.closest('#notebook-container');\n",
              "if (notebookContainer) {{\n",
              "    x.observe(notebookContainer, {childList: true});\n",
              "}}\n",
              "\n",
              "// Listen for the clearing of the current output cell\n",
              "var outputEl = gd.closest('.output');\n",
              "if (outputEl) {{\n",
              "    x.observe(outputEl, {childList: true});\n",
              "}}\n",
              "\n",
              "                        })                };                });            </script>        </div>"
            ]
          },
          "metadata": {},
          "output_type": "display_data"
        }
      ],
      "source": [
        "import plotly.express as px\n",
        "\n",
        "# Supposons que RFMStats est un DataFrame avec une colonne 'Ratio' et que l'index contient les segments\n",
        "# Convertissez d'abord l'index en une colonne si ce n'est pas déjà fait\n",
        "RFMStats_reset = RFMStats.reset_index()  # Renommez 'index' si nécessaire pour refléter le nom réel de votre colonne des segments\n",
        "\n",
        "fig_ratio = px.bar(RFMStats_reset, y='Label', x='Ratio', orientation='h', \n",
        "             text='Ratio',  # Ceci ajoutera le texte sur les barres\n",
        "             color='Ratio',  # Colorer les barres basées sur la valeur de 'Ratio'\n",
        "             color_continuous_scale='viridis',  # Utilisation de la palette 'viridis'\n",
        "             labels={'index': 'Segments', 'Ratio': ''},  # Renommez les axes si nécessaire\n",
        "             title='Distribution of Segments',\n",
        "            )\n",
        "\n",
        "\n",
        "# Mettre à jour le texte pour afficher le pourcentage avec deux décimales\n",
        "fig_ratio.update_traces(texttemplate='%{text:.2f}%', textposition='outside')\n",
        "\n",
        "# Personnaliser l'apparence, y compris le titre de l'axe Y\n",
        "fig_ratio.update_layout(\n",
        "    xaxis=dict(showticklabels=False),  # Masquer les ticklabels de l'axe x\n",
        "    yaxis_title='Segments',  # Définir le titre de l'axe y\n",
        "    xaxis_title='Ratio',  # Définir le titre de l'axe y\n",
        "    title_font=dict(size=35),  # Ajuster la taille du titre\n",
        "    plot_bgcolor='rgba(0,0,0,0)',  # Fond transparent\n",
        ")\n",
        "\n",
        "fig.show()\n",
        "\n",
        "#fig.show()"
      ]
    },
    {
      "cell_type": "code",
      "execution_count": 307,
      "metadata": {
        "colab": {
          "base_uri": "https://localhost:8080/",
          "height": 573
        },
        "id": "55D05vZt-fmW",
        "outputId": "10b874b9-c6a1-4f9b-be76-29ac103fe64d"
      },
      "outputs": [],
      "source": [
        "import matplotlib.pyplot as plt\n",
        "\n",
        "# Count the number of customers in each recency cluster\n",
        "cluster_counts = rfm['Cluster'].value_counts().sort_index()\n",
        "\n",
        "# Create a bar plot\n",
        "plt.figure(figsize=(8, 6))\n",
        "plt.bar(cluster_counts.index, cluster_counts.values, color='skyblue')\n",
        "plt.xlabel('Recency Cluster')\n",
        "plt.ylabel('Number of Customers')\n",
        "plt.title('Distribution of Customers Across Recency Clusters')\n",
        "plt.xticks(cluster_counts.index)\n",
        "plt.grid(True)\n",
        "\n",
        "# Convertir le graphique matplotlib en objet Plotly\n",
        "plotly_fig5 = go.Figure(data=[\n",
        "    go.Bar(x=cluster_counts.index, y=cluster_counts.values, marker_color='skyblue')\n",
        "])\n",
        "\n",
        "plotly_fig5.update_layout(\n",
        "    title='Distribution of Customers Across Recency Clusters',\n",
        "    xaxis_title='Recency clusters',\n",
        "    yaxis_title='Number of Customers'\n",
        ")\n",
        "\n",
        "# Fermer le graphique matplotlib pour empêcher son affichage\n",
        "plt.close()\n"
      ]
    },
    {
      "cell_type": "code",
      "execution_count": 52,
      "metadata": {
        "colab": {
          "base_uri": "https://localhost:8080/",
          "height": 141
        },
        "id": "qpTTIWG0-jUm",
        "outputId": "b1e61119-b05c-41a9-e562-9a58a65f98dd"
      },
      "outputs": [],
      "source": [
        "rfm.to_csv('clusters.csv')"
      ]
    },
    {
      "cell_type": "code",
      "execution_count": null,
      "metadata": {},
      "outputs": [],
      "source": [
        "clus = pd.read_csv('clusters.csv')\n",
        "\n",
        "clus.head(3)"
      ]
    },
    {
      "cell_type": "code",
      "execution_count": 77,
      "metadata": {},
      "outputs": [
        {
          "name": "stdout",
          "output_type": "stream",
          "text": [
            "product_id                       0\n",
            "product_category_name            0\n",
            "product_name_lenght              0\n",
            "product_description_lenght       0\n",
            "product_photos_qty               0\n",
            "product_weight_g                 1\n",
            "product_length_cm                1\n",
            "product_height_cm                1\n",
            "product_width_cm                 1\n",
            "product_category_name_english    0\n",
            "dtype: int64\n",
            "\n"
          ]
        }
      ],
      "source": [
        "products = pd.read_csv('archive\\olist_products_dataset.csv')\n",
        "product_category = pd.read_csv('archive\\product_category_name_translation.csv')\n",
        "\n",
        "products_category_merged = pd.merge(products, product_category, on='product_category_name')\n",
        "# products_category_merged.shape\n",
        "# products_category_merged.isnull().any().any()\n",
        "print(f'{products_category_merged.isnull().sum()}\\n')\n",
        "\n",
        "# products_category_merged.tail(100)"
      ]
    },
    {
      "cell_type": "code",
      "execution_count": 83,
      "metadata": {},
      "outputs": [
        {
          "data": {
            "text/plain": [
              "Index(['product_id', 'product_category_name', 'product_name_lenght',\n",
              "       'product_description_lenght', 'product_photos_qty', 'product_weight_g',\n",
              "       'product_length_cm', 'product_height_cm', 'product_width_cm',\n",
              "       'product_category_name_english'],\n",
              "      dtype='object')"
            ]
          },
          "execution_count": 83,
          "metadata": {},
          "output_type": "execute_result"
        }
      ],
      "source": [
        "products_category_merged.columns"
      ]
    },
    {
      "cell_type": "code",
      "execution_count": 84,
      "metadata": {},
      "outputs": [
        {
          "data": {
            "text/html": [
              "<div>\n",
              "<style scoped>\n",
              "    .dataframe tbody tr th:only-of-type {\n",
              "        vertical-align: middle;\n",
              "    }\n",
              "\n",
              "    .dataframe tbody tr th {\n",
              "        vertical-align: top;\n",
              "    }\n",
              "\n",
              "    .dataframe thead th {\n",
              "        text-align: right;\n",
              "    }\n",
              "</style>\n",
              "<table border=\"1\" class=\"dataframe\">\n",
              "  <thead>\n",
              "    <tr style=\"text-align: right;\">\n",
              "      <th></th>\n",
              "      <th>product_id</th>\n",
              "      <th>product_category_name</th>\n",
              "      <th>product_name_lenght</th>\n",
              "      <th>product_description_lenght</th>\n",
              "      <th>product_photos_qty</th>\n",
              "      <th>product_weight_g</th>\n",
              "      <th>product_length_cm</th>\n",
              "      <th>product_height_cm</th>\n",
              "      <th>product_width_cm</th>\n",
              "      <th>product_category_name_english</th>\n",
              "      <th>order_id</th>\n",
              "      <th>payment_sequential</th>\n",
              "      <th>payment_type</th>\n",
              "      <th>payment_installments</th>\n",
              "      <th>payment_value</th>\n",
              "      <th>order_item_id</th>\n",
              "      <th>seller_id</th>\n",
              "      <th>shipping_limit_date</th>\n",
              "      <th>price</th>\n",
              "      <th>freight_value</th>\n",
              "      <th>customer_id</th>\n",
              "      <th>order_status</th>\n",
              "      <th>order_purchase_timestamp</th>\n",
              "      <th>order_approved_at</th>\n",
              "      <th>order_delivered_carrier_date</th>\n",
              "      <th>order_delivered_customer_date</th>\n",
              "      <th>order_estimated_delivery_date</th>\n",
              "      <th>customer_unique_id</th>\n",
              "      <th>customer_zip_code_prefix</th>\n",
              "      <th>customer_city</th>\n",
              "      <th>customer_state</th>\n",
              "      <th>delivery_against_estimated</th>\n",
              "      <th>order_purchase_year</th>\n",
              "      <th>order_purchase_month</th>\n",
              "      <th>order_purchase_dayofweek</th>\n",
              "      <th>order_purchase_hour</th>\n",
              "      <th>order_purchase_day</th>\n",
              "      <th>order_purchase_mon</th>\n",
              "      <th>month_year</th>\n",
              "      <th>month_y</th>\n",
              "    </tr>\n",
              "  </thead>\n",
              "  <tbody>\n",
              "    <tr>\n",
              "      <th>0</th>\n",
              "      <td>1e9e8ef04dbcff4541ed26657ea517e5</td>\n",
              "      <td>perfumaria</td>\n",
              "      <td>40.0</td>\n",
              "      <td>287.0</td>\n",
              "      <td>1.0</td>\n",
              "      <td>225.0</td>\n",
              "      <td>16.0</td>\n",
              "      <td>10.0</td>\n",
              "      <td>14.0</td>\n",
              "      <td>perfumery</td>\n",
              "      <td>e17e4f88e31525f7deef66779844ddce</td>\n",
              "      <td>1</td>\n",
              "      <td>Debit Card</td>\n",
              "      <td>1</td>\n",
              "      <td>18.30</td>\n",
              "      <td>1</td>\n",
              "      <td>5670f4db5b62c43d542e1b2d56b0cf7c</td>\n",
              "      <td>2018-04-30 17:33:54</td>\n",
              "      <td>10.91</td>\n",
              "      <td>7.39</td>\n",
              "      <td>f8a3e963a310aa58b60a5b1fed5bceb5</td>\n",
              "      <td>delivered</td>\n",
              "      <td>2018-04-24 16:16:53</td>\n",
              "      <td>2018-04-24 19:04:19</td>\n",
              "      <td>2018-04-25 17:01:00</td>\n",
              "      <td>2018-04-27 16:42:17</td>\n",
              "      <td>2018-05-09</td>\n",
              "      <td>b1a1199364a4a7fe27c4486ab63f550d</td>\n",
              "      <td>13848</td>\n",
              "      <td>Mogi-Guacu</td>\n",
              "      <td>SP</td>\n",
              "      <td>11.0</td>\n",
              "      <td>2018</td>\n",
              "      <td>4</td>\n",
              "      <td>1</td>\n",
              "      <td>16</td>\n",
              "      <td>Tue</td>\n",
              "      <td>Apr</td>\n",
              "      <td>2018-04</td>\n",
              "      <td>201804</td>\n",
              "    </tr>\n",
              "    <tr>\n",
              "      <th>1</th>\n",
              "      <td>6a2fb4dd53d2cdb88e0432f1284a004c</td>\n",
              "      <td>perfumaria</td>\n",
              "      <td>39.0</td>\n",
              "      <td>346.0</td>\n",
              "      <td>2.0</td>\n",
              "      <td>400.0</td>\n",
              "      <td>27.0</td>\n",
              "      <td>5.0</td>\n",
              "      <td>20.0</td>\n",
              "      <td>perfumery</td>\n",
              "      <td>048cc42e03ca8d43c729adf6962cb348</td>\n",
              "      <td>1</td>\n",
              "      <td>Credit Card</td>\n",
              "      <td>1</td>\n",
              "      <td>24.68</td>\n",
              "      <td>1</td>\n",
              "      <td>7040e82f899a04d1b434b795a43b4617</td>\n",
              "      <td>2017-11-23 21:31:31</td>\n",
              "      <td>16.90</td>\n",
              "      <td>7.78</td>\n",
              "      <td>12a2c614dfc8926e793516b1638c7471</td>\n",
              "      <td>delivered</td>\n",
              "      <td>2017-11-16 21:28:00</td>\n",
              "      <td>2017-11-17 21:35:39</td>\n",
              "      <td>2017-11-21 22:14:50</td>\n",
              "      <td>2017-11-23 15:39:38</td>\n",
              "      <td>2017-11-29</td>\n",
              "      <td>7139ee1d2ad919a82b6e68a29582264e</td>\n",
              "      <td>6519</td>\n",
              "      <td>Santana De Parnaiba</td>\n",
              "      <td>SP</td>\n",
              "      <td>5.0</td>\n",
              "      <td>2017</td>\n",
              "      <td>11</td>\n",
              "      <td>3</td>\n",
              "      <td>21</td>\n",
              "      <td>Thu</td>\n",
              "      <td>Nov</td>\n",
              "      <td>2017-11</td>\n",
              "      <td>201711</td>\n",
              "    </tr>\n",
              "    <tr>\n",
              "      <th>2</th>\n",
              "      <td>6a2fb4dd53d2cdb88e0432f1284a004c</td>\n",
              "      <td>perfumaria</td>\n",
              "      <td>39.0</td>\n",
              "      <td>346.0</td>\n",
              "      <td>2.0</td>\n",
              "      <td>400.0</td>\n",
              "      <td>27.0</td>\n",
              "      <td>5.0</td>\n",
              "      <td>20.0</td>\n",
              "      <td>perfumery</td>\n",
              "      <td>5fa78e91b5cb84b6a8ccc42733f95742</td>\n",
              "      <td>1</td>\n",
              "      <td>Voucher</td>\n",
              "      <td>1</td>\n",
              "      <td>24.68</td>\n",
              "      <td>1</td>\n",
              "      <td>7040e82f899a04d1b434b795a43b4617</td>\n",
              "      <td>2017-12-14 16:33:14</td>\n",
              "      <td>16.90</td>\n",
              "      <td>7.78</td>\n",
              "      <td>c15eed3881abc9e06763c989679c5094</td>\n",
              "      <td>delivered</td>\n",
              "      <td>2017-11-30 01:51:23</td>\n",
              "      <td>2017-12-08 16:33:14</td>\n",
              "      <td>2017-12-09 00:53:08</td>\n",
              "      <td>2017-12-13 20:52:32</td>\n",
              "      <td>2017-12-18</td>\n",
              "      <td>48d6d950c0aba132537fc335c0c56e01</td>\n",
              "      <td>5893</td>\n",
              "      <td>Sao Paulo</td>\n",
              "      <td>SP</td>\n",
              "      <td>4.0</td>\n",
              "      <td>2017</td>\n",
              "      <td>11</td>\n",
              "      <td>3</td>\n",
              "      <td>1</td>\n",
              "      <td>Thu</td>\n",
              "      <td>Nov</td>\n",
              "      <td>2017-11</td>\n",
              "      <td>201711</td>\n",
              "    </tr>\n",
              "    <tr>\n",
              "      <th>3</th>\n",
              "      <td>0d009643171aee696f4733340bc2fdd0</td>\n",
              "      <td>perfumaria</td>\n",
              "      <td>52.0</td>\n",
              "      <td>150.0</td>\n",
              "      <td>1.0</td>\n",
              "      <td>422.0</td>\n",
              "      <td>21.0</td>\n",
              "      <td>16.0</td>\n",
              "      <td>18.0</td>\n",
              "      <td>perfumery</td>\n",
              "      <td>24b1c4d88fdb7a2dc87f8ecc7d8f47f1</td>\n",
              "      <td>1</td>\n",
              "      <td>Credit Card</td>\n",
              "      <td>4</td>\n",
              "      <td>356.13</td>\n",
              "      <td>1</td>\n",
              "      <td>fe2032dab1a61af8794248c8196565c9</td>\n",
              "      <td>2017-08-03 09:50:14</td>\n",
              "      <td>339.00</td>\n",
              "      <td>17.13</td>\n",
              "      <td>6d699e3ab0fd90fffb3d1379d937de77</td>\n",
              "      <td>delivered</td>\n",
              "      <td>2017-07-28 09:34:29</td>\n",
              "      <td>2017-07-28 09:50:14</td>\n",
              "      <td>2017-07-28 21:42:11</td>\n",
              "      <td>2017-08-08 16:03:45</td>\n",
              "      <td>2017-08-21</td>\n",
              "      <td>0b3dc7efaafb0cf78a4796d42fa8d74c</td>\n",
              "      <td>22410</td>\n",
              "      <td>Rio De Janeiro</td>\n",
              "      <td>RJ</td>\n",
              "      <td>12.0</td>\n",
              "      <td>2017</td>\n",
              "      <td>7</td>\n",
              "      <td>4</td>\n",
              "      <td>9</td>\n",
              "      <td>Fri</td>\n",
              "      <td>Jul</td>\n",
              "      <td>2017-07</td>\n",
              "      <td>201707</td>\n",
              "    </tr>\n",
              "    <tr>\n",
              "      <th>4</th>\n",
              "      <td>0d009643171aee696f4733340bc2fdd0</td>\n",
              "      <td>perfumaria</td>\n",
              "      <td>52.0</td>\n",
              "      <td>150.0</td>\n",
              "      <td>1.0</td>\n",
              "      <td>422.0</td>\n",
              "      <td>21.0</td>\n",
              "      <td>16.0</td>\n",
              "      <td>18.0</td>\n",
              "      <td>perfumery</td>\n",
              "      <td>7b13c77c64a9a956500cbf1a9a23798d</td>\n",
              "      <td>1</td>\n",
              "      <td>Credit Card</td>\n",
              "      <td>5</td>\n",
              "      <td>298.48</td>\n",
              "      <td>1</td>\n",
              "      <td>7178f9f4dd81dcef02f62acdf8151e01</td>\n",
              "      <td>2018-05-30 10:38:35</td>\n",
              "      <td>275.00</td>\n",
              "      <td>23.48</td>\n",
              "      <td>45d942b1af5529f8990f27848a40e645</td>\n",
              "      <td>delivered</td>\n",
              "      <td>2018-05-17 09:24:18</td>\n",
              "      <td>2018-05-17 10:38:35</td>\n",
              "      <td>2018-06-01 09:04:00</td>\n",
              "      <td>2018-06-07 19:12:50</td>\n",
              "      <td>2018-06-05</td>\n",
              "      <td>abd7e9db219836e58c3fca4965dd14e5</td>\n",
              "      <td>1042</td>\n",
              "      <td>Sao Paulo</td>\n",
              "      <td>SP</td>\n",
              "      <td>-3.0</td>\n",
              "      <td>2018</td>\n",
              "      <td>5</td>\n",
              "      <td>3</td>\n",
              "      <td>9</td>\n",
              "      <td>Thu</td>\n",
              "      <td>May</td>\n",
              "      <td>2018-05</td>\n",
              "      <td>201805</td>\n",
              "    </tr>\n",
              "  </tbody>\n",
              "</table>\n",
              "</div>"
            ],
            "text/plain": [
              "                         product_id product_category_name  \\\n",
              "0  1e9e8ef04dbcff4541ed26657ea517e5            perfumaria   \n",
              "1  6a2fb4dd53d2cdb88e0432f1284a004c            perfumaria   \n",
              "2  6a2fb4dd53d2cdb88e0432f1284a004c            perfumaria   \n",
              "3  0d009643171aee696f4733340bc2fdd0            perfumaria   \n",
              "4  0d009643171aee696f4733340bc2fdd0            perfumaria   \n",
              "\n",
              "   product_name_lenght  product_description_lenght  product_photos_qty  \\\n",
              "0                 40.0                       287.0                 1.0   \n",
              "1                 39.0                       346.0                 2.0   \n",
              "2                 39.0                       346.0                 2.0   \n",
              "3                 52.0                       150.0                 1.0   \n",
              "4                 52.0                       150.0                 1.0   \n",
              "\n",
              "   product_weight_g  product_length_cm  product_height_cm  product_width_cm  \\\n",
              "0             225.0               16.0               10.0              14.0   \n",
              "1             400.0               27.0                5.0              20.0   \n",
              "2             400.0               27.0                5.0              20.0   \n",
              "3             422.0               21.0               16.0              18.0   \n",
              "4             422.0               21.0               16.0              18.0   \n",
              "\n",
              "  product_category_name_english                          order_id  \\\n",
              "0                     perfumery  e17e4f88e31525f7deef66779844ddce   \n",
              "1                     perfumery  048cc42e03ca8d43c729adf6962cb348   \n",
              "2                     perfumery  5fa78e91b5cb84b6a8ccc42733f95742   \n",
              "3                     perfumery  24b1c4d88fdb7a2dc87f8ecc7d8f47f1   \n",
              "4                     perfumery  7b13c77c64a9a956500cbf1a9a23798d   \n",
              "\n",
              "   payment_sequential payment_type  payment_installments  payment_value  \\\n",
              "0                   1   Debit Card                     1          18.30   \n",
              "1                   1  Credit Card                     1          24.68   \n",
              "2                   1      Voucher                     1          24.68   \n",
              "3                   1  Credit Card                     4         356.13   \n",
              "4                   1  Credit Card                     5         298.48   \n",
              "\n",
              "   order_item_id                         seller_id shipping_limit_date  \\\n",
              "0              1  5670f4db5b62c43d542e1b2d56b0cf7c 2018-04-30 17:33:54   \n",
              "1              1  7040e82f899a04d1b434b795a43b4617 2017-11-23 21:31:31   \n",
              "2              1  7040e82f899a04d1b434b795a43b4617 2017-12-14 16:33:14   \n",
              "3              1  fe2032dab1a61af8794248c8196565c9 2017-08-03 09:50:14   \n",
              "4              1  7178f9f4dd81dcef02f62acdf8151e01 2018-05-30 10:38:35   \n",
              "\n",
              "    price  freight_value                       customer_id order_status  \\\n",
              "0   10.91           7.39  f8a3e963a310aa58b60a5b1fed5bceb5    delivered   \n",
              "1   16.90           7.78  12a2c614dfc8926e793516b1638c7471    delivered   \n",
              "2   16.90           7.78  c15eed3881abc9e06763c989679c5094    delivered   \n",
              "3  339.00          17.13  6d699e3ab0fd90fffb3d1379d937de77    delivered   \n",
              "4  275.00          23.48  45d942b1af5529f8990f27848a40e645    delivered   \n",
              "\n",
              "  order_purchase_timestamp   order_approved_at order_delivered_carrier_date  \\\n",
              "0      2018-04-24 16:16:53 2018-04-24 19:04:19          2018-04-25 17:01:00   \n",
              "1      2017-11-16 21:28:00 2017-11-17 21:35:39          2017-11-21 22:14:50   \n",
              "2      2017-11-30 01:51:23 2017-12-08 16:33:14          2017-12-09 00:53:08   \n",
              "3      2017-07-28 09:34:29 2017-07-28 09:50:14          2017-07-28 21:42:11   \n",
              "4      2018-05-17 09:24:18 2018-05-17 10:38:35          2018-06-01 09:04:00   \n",
              "\n",
              "  order_delivered_customer_date order_estimated_delivery_date  \\\n",
              "0           2018-04-27 16:42:17                    2018-05-09   \n",
              "1           2017-11-23 15:39:38                    2017-11-29   \n",
              "2           2017-12-13 20:52:32                    2017-12-18   \n",
              "3           2017-08-08 16:03:45                    2017-08-21   \n",
              "4           2018-06-07 19:12:50                    2018-06-05   \n",
              "\n",
              "                 customer_unique_id  customer_zip_code_prefix  \\\n",
              "0  b1a1199364a4a7fe27c4486ab63f550d                     13848   \n",
              "1  7139ee1d2ad919a82b6e68a29582264e                      6519   \n",
              "2  48d6d950c0aba132537fc335c0c56e01                      5893   \n",
              "3  0b3dc7efaafb0cf78a4796d42fa8d74c                     22410   \n",
              "4  abd7e9db219836e58c3fca4965dd14e5                      1042   \n",
              "\n",
              "         customer_city customer_state  delivery_against_estimated  \\\n",
              "0           Mogi-Guacu             SP                        11.0   \n",
              "1  Santana De Parnaiba             SP                         5.0   \n",
              "2            Sao Paulo             SP                         4.0   \n",
              "3       Rio De Janeiro             RJ                        12.0   \n",
              "4            Sao Paulo             SP                        -3.0   \n",
              "\n",
              "   order_purchase_year  order_purchase_month  order_purchase_dayofweek  \\\n",
              "0                 2018                     4                         1   \n",
              "1                 2017                    11                         3   \n",
              "2                 2017                    11                         3   \n",
              "3                 2017                     7                         4   \n",
              "4                 2018                     5                         3   \n",
              "\n",
              "   order_purchase_hour order_purchase_day order_purchase_mon month_year  \\\n",
              "0                   16                Tue                Apr    2018-04   \n",
              "1                   21                Thu                Nov    2017-11   \n",
              "2                    1                Thu                Nov    2017-11   \n",
              "3                    9                Fri                Jul    2017-07   \n",
              "4                    9                Thu                May    2018-05   \n",
              "\n",
              "   month_y  \n",
              "0   201804  \n",
              "1   201711  \n",
              "2   201711  \n",
              "3   201707  \n",
              "4   201805  "
            ]
          },
          "execution_count": 84,
          "metadata": {},
          "output_type": "execute_result"
        }
      ],
      "source": [
        "# dropping missing values\n",
        "products_category_merged.dropna(inplace=True)\n",
        "# products_category_merged.isnull().values.any()\n",
        "\n",
        "\n",
        "##faire un merge avec product_id de df\n",
        "products_customers_orders = pd.merge(products_category_merged, df, on='product_id')\n",
        "\n",
        "products_customers_orders.head()\n"
      ]
    },
    {
      "cell_type": "code",
      "execution_count": 85,
      "metadata": {},
      "outputs": [
        {
          "data": {
            "text/plain": [
              "Index(['product_id', 'product_category_name', 'product_name_lenght',\n",
              "       'product_description_lenght', 'product_photos_qty', 'product_weight_g',\n",
              "       'product_length_cm', 'product_height_cm', 'product_width_cm',\n",
              "       'product_category_name_english', 'order_id', 'payment_sequential',\n",
              "       'payment_type', 'payment_installments', 'payment_value',\n",
              "       'order_item_id', 'seller_id', 'shipping_limit_date', 'price',\n",
              "       'freight_value', 'customer_id', 'order_status',\n",
              "       'order_purchase_timestamp', 'order_approved_at',\n",
              "       'order_delivered_carrier_date', 'order_delivered_customer_date',\n",
              "       'order_estimated_delivery_date', 'customer_unique_id',\n",
              "       'customer_zip_code_prefix', 'customer_city', 'customer_state',\n",
              "       'delivery_against_estimated', 'order_purchase_year',\n",
              "       'order_purchase_month', 'order_purchase_dayofweek',\n",
              "       'order_purchase_hour', 'order_purchase_day', 'order_purchase_mon',\n",
              "       'month_year', 'month_y'],\n",
              "      dtype='object')"
            ]
          },
          "execution_count": 85,
          "metadata": {},
          "output_type": "execute_result"
        }
      ],
      "source": [
        "products_customers_orders.columns"
      ]
    },
    {
      "cell_type": "code",
      "execution_count": null,
      "metadata": {},
      "outputs": [],
      "source": [
        "# Créer un countplot pour les catégories de produits\n",
        "plt.figure(figsize=(12, 8))\n",
        "sns.countplot(y='product_category_name_english', data=products_customers_orders, order=products_customers_orders['product_category_name_english'].value_counts().index, palette='viridis')\n",
        "plt.xlabel('Nombre de produits')\n",
        "plt.ylabel('Catégorie de produit')\n",
        "plt.title('Répartition des produits par catégorie')\n",
        "plt.tick_params(axis='y', which='major', pad=50)  # Ajustez le nombre de pixels pour augmenter ou diminuer l'espace entre les étiquettes\n",
        "\n",
        "plt.show()"
      ]
    },
    {
      "cell_type": "code",
      "execution_count": 153,
      "metadata": {},
      "outputs": [
        {
          "name": "stdout",
          "output_type": "stream",
          "text": [
            "Nombre de clients en 2017: 51607\n"
          ]
        }
      ],
      "source": [
        "# Filtrer les données pour l'année 2017\n",
        "df_2017 = df[df['order_purchase_year'] == 2018]\n",
        "\n",
        "# Compter le nombre unique d'identifiants clients\n",
        "nombre_clients_2017 = df_2017['customer_unique_id'].nunique()\n",
        "\n",
        "print(\"Nombre de clients en 2017:\", nombre_clients_2017)\n"
      ]
    },
    {
      "cell_type": "code",
      "execution_count": 260,
      "metadata": {},
      "outputs": [
        {
          "data": {
            "text/plain": [
              "Segment\n",
              "About To Sleep            6.39\n",
              "At Risk                  16.11\n",
              "Cannot Lose Them          6.74\n",
              "Champions                 7.32\n",
              "Hibernating customers     9.82\n",
              "Lost customers            5.11\n",
              "Loyal                     6.66\n",
              "Need Attention            6.07\n",
              "New Customers             6.11\n",
              "Potential Loyalist       17.35\n",
              "Promising                12.33\n",
              "Name: Ratio, dtype: float64"
            ]
          },
          "execution_count": 260,
          "metadata": {},
          "output_type": "execute_result"
        }
      ],
      "source": [
        "RFMStats['Ratio']"
      ]
    },
    {
      "cell_type": "code",
      "execution_count": null,
      "metadata": {},
      "outputs": [],
      "source": [
        "pip install squarify"
      ]
    },
    {
      "cell_type": "code",
      "execution_count": 266,
      "metadata": {},
      "outputs": [],
      "source": [
        "import squarify"
      ]
    },
    {
      "cell_type": "code",
      "execution_count": 294,
      "metadata": {},
      "outputs": [
        {
          "data": {
            "text/plain": [
              "0            About To Sleep\n",
              "1                   At Risk\n",
              "2          Cannot Lose Them\n",
              "3                 Champions\n",
              "4     Hibernating customers\n",
              "5            Lost customers\n",
              "6                     Loyal\n",
              "7            Need Attention\n",
              "8             New Customers\n",
              "9        Potential Loyalist\n",
              "10                Promising\n",
              "Name: Label, dtype: object"
            ]
          },
          "execution_count": 294,
          "metadata": {},
          "output_type": "execute_result"
        }
      ],
      "source": [
        "RFMStats.Label"
      ]
    },
    {
      "cell_type": "code",
      "execution_count": 296,
      "metadata": {},
      "outputs": [
        {
          "data": {
            "text/plain": [
              "RangeIndex(start=0, stop=11, step=1)"
            ]
          },
          "execution_count": 296,
          "metadata": {},
          "output_type": "execute_result"
        }
      ],
      "source": []
    },
    {
      "cell_type": "code",
      "execution_count": 325,
      "metadata": {},
      "outputs": [
        {
          "data": {
            "application/vnd.plotly.v1+json": {
              "config": {
                "plotlyServerURL": "https://plot.ly"
              },
              "data": [
                {
                  "domain": {
                    "x": [
                      0,
                      1
                    ],
                    "y": [
                      0,
                      1
                    ]
                  },
                  "hovertemplate": "label=%{label}<br>value=%{value}<br>parent=%{parent}<extra></extra>",
                  "labels": [
                    "About To Sleep",
                    "At Risk",
                    "Cannot Lose Them",
                    "Champions",
                    "Hibernating customers",
                    "Lost customers",
                    "Loyal",
                    "Need Attention",
                    "New Customers",
                    "Potential Loyalist",
                    "Promising"
                  ],
                  "name": "",
                  "parents": [
                    "",
                    "",
                    "",
                    "",
                    "",
                    "",
                    "",
                    "",
                    "",
                    "",
                    ""
                  ],
                  "textinfo": "label+value",
                  "type": "treemap",
                  "values": [
                    5883,
                    14830,
                    6201,
                    6741,
                    9037,
                    4702,
                    6134,
                    5588,
                    5624,
                    15969,
                    11352
                  ]
                }
              ],
              "layout": {
                "legend": {
                  "tracegroupgap": 0
                },
                "margin": {
                  "t": 60
                },
                "template": {
                  "data": {
                    "bar": [
                      {
                        "error_x": {
                          "color": "#2a3f5f"
                        },
                        "error_y": {
                          "color": "#2a3f5f"
                        },
                        "marker": {
                          "line": {
                            "color": "#E5ECF6",
                            "width": 0.5
                          },
                          "pattern": {
                            "fillmode": "overlay",
                            "size": 10,
                            "solidity": 0.2
                          }
                        },
                        "type": "bar"
                      }
                    ],
                    "barpolar": [
                      {
                        "marker": {
                          "line": {
                            "color": "#E5ECF6",
                            "width": 0.5
                          },
                          "pattern": {
                            "fillmode": "overlay",
                            "size": 10,
                            "solidity": 0.2
                          }
                        },
                        "type": "barpolar"
                      }
                    ],
                    "carpet": [
                      {
                        "aaxis": {
                          "endlinecolor": "#2a3f5f",
                          "gridcolor": "white",
                          "linecolor": "white",
                          "minorgridcolor": "white",
                          "startlinecolor": "#2a3f5f"
                        },
                        "baxis": {
                          "endlinecolor": "#2a3f5f",
                          "gridcolor": "white",
                          "linecolor": "white",
                          "minorgridcolor": "white",
                          "startlinecolor": "#2a3f5f"
                        },
                        "type": "carpet"
                      }
                    ],
                    "choropleth": [
                      {
                        "colorbar": {
                          "outlinewidth": 0,
                          "ticks": ""
                        },
                        "type": "choropleth"
                      }
                    ],
                    "contour": [
                      {
                        "colorbar": {
                          "outlinewidth": 0,
                          "ticks": ""
                        },
                        "colorscale": [
                          [
                            0,
                            "#0d0887"
                          ],
                          [
                            0.1111111111111111,
                            "#46039f"
                          ],
                          [
                            0.2222222222222222,
                            "#7201a8"
                          ],
                          [
                            0.3333333333333333,
                            "#9c179e"
                          ],
                          [
                            0.4444444444444444,
                            "#bd3786"
                          ],
                          [
                            0.5555555555555556,
                            "#d8576b"
                          ],
                          [
                            0.6666666666666666,
                            "#ed7953"
                          ],
                          [
                            0.7777777777777778,
                            "#fb9f3a"
                          ],
                          [
                            0.8888888888888888,
                            "#fdca26"
                          ],
                          [
                            1,
                            "#f0f921"
                          ]
                        ],
                        "type": "contour"
                      }
                    ],
                    "contourcarpet": [
                      {
                        "colorbar": {
                          "outlinewidth": 0,
                          "ticks": ""
                        },
                        "type": "contourcarpet"
                      }
                    ],
                    "heatmap": [
                      {
                        "colorbar": {
                          "outlinewidth": 0,
                          "ticks": ""
                        },
                        "colorscale": [
                          [
                            0,
                            "#0d0887"
                          ],
                          [
                            0.1111111111111111,
                            "#46039f"
                          ],
                          [
                            0.2222222222222222,
                            "#7201a8"
                          ],
                          [
                            0.3333333333333333,
                            "#9c179e"
                          ],
                          [
                            0.4444444444444444,
                            "#bd3786"
                          ],
                          [
                            0.5555555555555556,
                            "#d8576b"
                          ],
                          [
                            0.6666666666666666,
                            "#ed7953"
                          ],
                          [
                            0.7777777777777778,
                            "#fb9f3a"
                          ],
                          [
                            0.8888888888888888,
                            "#fdca26"
                          ],
                          [
                            1,
                            "#f0f921"
                          ]
                        ],
                        "type": "heatmap"
                      }
                    ],
                    "heatmapgl": [
                      {
                        "colorbar": {
                          "outlinewidth": 0,
                          "ticks": ""
                        },
                        "colorscale": [
                          [
                            0,
                            "#0d0887"
                          ],
                          [
                            0.1111111111111111,
                            "#46039f"
                          ],
                          [
                            0.2222222222222222,
                            "#7201a8"
                          ],
                          [
                            0.3333333333333333,
                            "#9c179e"
                          ],
                          [
                            0.4444444444444444,
                            "#bd3786"
                          ],
                          [
                            0.5555555555555556,
                            "#d8576b"
                          ],
                          [
                            0.6666666666666666,
                            "#ed7953"
                          ],
                          [
                            0.7777777777777778,
                            "#fb9f3a"
                          ],
                          [
                            0.8888888888888888,
                            "#fdca26"
                          ],
                          [
                            1,
                            "#f0f921"
                          ]
                        ],
                        "type": "heatmapgl"
                      }
                    ],
                    "histogram": [
                      {
                        "marker": {
                          "pattern": {
                            "fillmode": "overlay",
                            "size": 10,
                            "solidity": 0.2
                          }
                        },
                        "type": "histogram"
                      }
                    ],
                    "histogram2d": [
                      {
                        "colorbar": {
                          "outlinewidth": 0,
                          "ticks": ""
                        },
                        "colorscale": [
                          [
                            0,
                            "#0d0887"
                          ],
                          [
                            0.1111111111111111,
                            "#46039f"
                          ],
                          [
                            0.2222222222222222,
                            "#7201a8"
                          ],
                          [
                            0.3333333333333333,
                            "#9c179e"
                          ],
                          [
                            0.4444444444444444,
                            "#bd3786"
                          ],
                          [
                            0.5555555555555556,
                            "#d8576b"
                          ],
                          [
                            0.6666666666666666,
                            "#ed7953"
                          ],
                          [
                            0.7777777777777778,
                            "#fb9f3a"
                          ],
                          [
                            0.8888888888888888,
                            "#fdca26"
                          ],
                          [
                            1,
                            "#f0f921"
                          ]
                        ],
                        "type": "histogram2d"
                      }
                    ],
                    "histogram2dcontour": [
                      {
                        "colorbar": {
                          "outlinewidth": 0,
                          "ticks": ""
                        },
                        "colorscale": [
                          [
                            0,
                            "#0d0887"
                          ],
                          [
                            0.1111111111111111,
                            "#46039f"
                          ],
                          [
                            0.2222222222222222,
                            "#7201a8"
                          ],
                          [
                            0.3333333333333333,
                            "#9c179e"
                          ],
                          [
                            0.4444444444444444,
                            "#bd3786"
                          ],
                          [
                            0.5555555555555556,
                            "#d8576b"
                          ],
                          [
                            0.6666666666666666,
                            "#ed7953"
                          ],
                          [
                            0.7777777777777778,
                            "#fb9f3a"
                          ],
                          [
                            0.8888888888888888,
                            "#fdca26"
                          ],
                          [
                            1,
                            "#f0f921"
                          ]
                        ],
                        "type": "histogram2dcontour"
                      }
                    ],
                    "mesh3d": [
                      {
                        "colorbar": {
                          "outlinewidth": 0,
                          "ticks": ""
                        },
                        "type": "mesh3d"
                      }
                    ],
                    "parcoords": [
                      {
                        "line": {
                          "colorbar": {
                            "outlinewidth": 0,
                            "ticks": ""
                          }
                        },
                        "type": "parcoords"
                      }
                    ],
                    "pie": [
                      {
                        "automargin": true,
                        "type": "pie"
                      }
                    ],
                    "scatter": [
                      {
                        "marker": {
                          "colorbar": {
                            "outlinewidth": 0,
                            "ticks": ""
                          }
                        },
                        "type": "scatter"
                      }
                    ],
                    "scatter3d": [
                      {
                        "line": {
                          "colorbar": {
                            "outlinewidth": 0,
                            "ticks": ""
                          }
                        },
                        "marker": {
                          "colorbar": {
                            "outlinewidth": 0,
                            "ticks": ""
                          }
                        },
                        "type": "scatter3d"
                      }
                    ],
                    "scattercarpet": [
                      {
                        "marker": {
                          "colorbar": {
                            "outlinewidth": 0,
                            "ticks": ""
                          }
                        },
                        "type": "scattercarpet"
                      }
                    ],
                    "scattergeo": [
                      {
                        "marker": {
                          "colorbar": {
                            "outlinewidth": 0,
                            "ticks": ""
                          }
                        },
                        "type": "scattergeo"
                      }
                    ],
                    "scattergl": [
                      {
                        "marker": {
                          "colorbar": {
                            "outlinewidth": 0,
                            "ticks": ""
                          }
                        },
                        "type": "scattergl"
                      }
                    ],
                    "scattermapbox": [
                      {
                        "marker": {
                          "colorbar": {
                            "outlinewidth": 0,
                            "ticks": ""
                          }
                        },
                        "type": "scattermapbox"
                      }
                    ],
                    "scatterpolar": [
                      {
                        "marker": {
                          "colorbar": {
                            "outlinewidth": 0,
                            "ticks": ""
                          }
                        },
                        "type": "scatterpolar"
                      }
                    ],
                    "scatterpolargl": [
                      {
                        "marker": {
                          "colorbar": {
                            "outlinewidth": 0,
                            "ticks": ""
                          }
                        },
                        "type": "scatterpolargl"
                      }
                    ],
                    "scatterternary": [
                      {
                        "marker": {
                          "colorbar": {
                            "outlinewidth": 0,
                            "ticks": ""
                          }
                        },
                        "type": "scatterternary"
                      }
                    ],
                    "surface": [
                      {
                        "colorbar": {
                          "outlinewidth": 0,
                          "ticks": ""
                        },
                        "colorscale": [
                          [
                            0,
                            "#0d0887"
                          ],
                          [
                            0.1111111111111111,
                            "#46039f"
                          ],
                          [
                            0.2222222222222222,
                            "#7201a8"
                          ],
                          [
                            0.3333333333333333,
                            "#9c179e"
                          ],
                          [
                            0.4444444444444444,
                            "#bd3786"
                          ],
                          [
                            0.5555555555555556,
                            "#d8576b"
                          ],
                          [
                            0.6666666666666666,
                            "#ed7953"
                          ],
                          [
                            0.7777777777777778,
                            "#fb9f3a"
                          ],
                          [
                            0.8888888888888888,
                            "#fdca26"
                          ],
                          [
                            1,
                            "#f0f921"
                          ]
                        ],
                        "type": "surface"
                      }
                    ],
                    "table": [
                      {
                        "cells": {
                          "fill": {
                            "color": "#EBF0F8"
                          },
                          "line": {
                            "color": "white"
                          }
                        },
                        "header": {
                          "fill": {
                            "color": "#C8D4E3"
                          },
                          "line": {
                            "color": "white"
                          }
                        },
                        "type": "table"
                      }
                    ]
                  },
                  "layout": {
                    "annotationdefaults": {
                      "arrowcolor": "#2a3f5f",
                      "arrowhead": 0,
                      "arrowwidth": 1
                    },
                    "autotypenumbers": "strict",
                    "coloraxis": {
                      "colorbar": {
                        "outlinewidth": 0,
                        "ticks": ""
                      }
                    },
                    "colorscale": {
                      "diverging": [
                        [
                          0,
                          "#8e0152"
                        ],
                        [
                          0.1,
                          "#c51b7d"
                        ],
                        [
                          0.2,
                          "#de77ae"
                        ],
                        [
                          0.3,
                          "#f1b6da"
                        ],
                        [
                          0.4,
                          "#fde0ef"
                        ],
                        [
                          0.5,
                          "#f7f7f7"
                        ],
                        [
                          0.6,
                          "#e6f5d0"
                        ],
                        [
                          0.7,
                          "#b8e186"
                        ],
                        [
                          0.8,
                          "#7fbc41"
                        ],
                        [
                          0.9,
                          "#4d9221"
                        ],
                        [
                          1,
                          "#276419"
                        ]
                      ],
                      "sequential": [
                        [
                          0,
                          "#0d0887"
                        ],
                        [
                          0.1111111111111111,
                          "#46039f"
                        ],
                        [
                          0.2222222222222222,
                          "#7201a8"
                        ],
                        [
                          0.3333333333333333,
                          "#9c179e"
                        ],
                        [
                          0.4444444444444444,
                          "#bd3786"
                        ],
                        [
                          0.5555555555555556,
                          "#d8576b"
                        ],
                        [
                          0.6666666666666666,
                          "#ed7953"
                        ],
                        [
                          0.7777777777777778,
                          "#fb9f3a"
                        ],
                        [
                          0.8888888888888888,
                          "#fdca26"
                        ],
                        [
                          1,
                          "#f0f921"
                        ]
                      ],
                      "sequentialminus": [
                        [
                          0,
                          "#0d0887"
                        ],
                        [
                          0.1111111111111111,
                          "#46039f"
                        ],
                        [
                          0.2222222222222222,
                          "#7201a8"
                        ],
                        [
                          0.3333333333333333,
                          "#9c179e"
                        ],
                        [
                          0.4444444444444444,
                          "#bd3786"
                        ],
                        [
                          0.5555555555555556,
                          "#d8576b"
                        ],
                        [
                          0.6666666666666666,
                          "#ed7953"
                        ],
                        [
                          0.7777777777777778,
                          "#fb9f3a"
                        ],
                        [
                          0.8888888888888888,
                          "#fdca26"
                        ],
                        [
                          1,
                          "#f0f921"
                        ]
                      ]
                    },
                    "colorway": [
                      "#636efa",
                      "#EF553B",
                      "#00cc96",
                      "#ab63fa",
                      "#FFA15A",
                      "#19d3f3",
                      "#FF6692",
                      "#B6E880",
                      "#FF97FF",
                      "#FECB52"
                    ],
                    "font": {
                      "color": "#2a3f5f"
                    },
                    "geo": {
                      "bgcolor": "white",
                      "lakecolor": "white",
                      "landcolor": "#E5ECF6",
                      "showlakes": true,
                      "showland": true,
                      "subunitcolor": "white"
                    },
                    "hoverlabel": {
                      "align": "left"
                    },
                    "hovermode": "closest",
                    "mapbox": {
                      "style": "light"
                    },
                    "paper_bgcolor": "white",
                    "plot_bgcolor": "#E5ECF6",
                    "polar": {
                      "angularaxis": {
                        "gridcolor": "white",
                        "linecolor": "white",
                        "ticks": ""
                      },
                      "bgcolor": "#E5ECF6",
                      "radialaxis": {
                        "gridcolor": "white",
                        "linecolor": "white",
                        "ticks": ""
                      }
                    },
                    "scene": {
                      "xaxis": {
                        "backgroundcolor": "#E5ECF6",
                        "gridcolor": "white",
                        "gridwidth": 2,
                        "linecolor": "white",
                        "showbackground": true,
                        "ticks": "",
                        "zerolinecolor": "white"
                      },
                      "yaxis": {
                        "backgroundcolor": "#E5ECF6",
                        "gridcolor": "white",
                        "gridwidth": 2,
                        "linecolor": "white",
                        "showbackground": true,
                        "ticks": "",
                        "zerolinecolor": "white"
                      },
                      "zaxis": {
                        "backgroundcolor": "#E5ECF6",
                        "gridcolor": "white",
                        "gridwidth": 2,
                        "linecolor": "white",
                        "showbackground": true,
                        "ticks": "",
                        "zerolinecolor": "white"
                      }
                    },
                    "shapedefaults": {
                      "line": {
                        "color": "#2a3f5f"
                      }
                    },
                    "ternary": {
                      "aaxis": {
                        "gridcolor": "white",
                        "linecolor": "white",
                        "ticks": ""
                      },
                      "baxis": {
                        "gridcolor": "white",
                        "linecolor": "white",
                        "ticks": ""
                      },
                      "bgcolor": "#E5ECF6",
                      "caxis": {
                        "gridcolor": "white",
                        "linecolor": "white",
                        "ticks": ""
                      }
                    },
                    "title": {
                      "x": 0.05
                    },
                    "xaxis": {
                      "automargin": true,
                      "gridcolor": "white",
                      "linecolor": "white",
                      "ticks": "",
                      "title": {
                        "standoff": 15
                      },
                      "zerolinecolor": "white",
                      "zerolinewidth": 2
                    },
                    "yaxis": {
                      "automargin": true,
                      "gridcolor": "white",
                      "linecolor": "white",
                      "ticks": "",
                      "title": {
                        "standoff": 15
                      },
                      "zerolinecolor": "white",
                      "zerolinewidth": 2
                    }
                  }
                },
                "title": {
                  "font": {
                    "size": 25
                  },
                  "text": "Recency and Frequency Grid",
                  "x": 0.5
                },
                "treemapcolorway": [
                  "red",
                  "orange",
                  "blue",
                  "forestgreen",
                  "yellow",
                  "purple",
                  "cornsilk",
                  "royalblue",
                  "pink",
                  "brown"
                ]
              }
            },
            "text/html": [
              "<div>                            <div id=\"7f8d123b-15e1-4aab-83a2-c304f7f7e131\" class=\"plotly-graph-div\" style=\"height:525px; width:100%;\"></div>            <script type=\"text/javascript\">                require([\"plotly\"], function(Plotly) {                    window.PLOTLYENV=window.PLOTLYENV || {};                                    if (document.getElementById(\"7f8d123b-15e1-4aab-83a2-c304f7f7e131\")) {                    Plotly.newPlot(                        \"7f8d123b-15e1-4aab-83a2-c304f7f7e131\",                        [{\"domain\":{\"x\":[0.0,1.0],\"y\":[0.0,1.0]},\"hovertemplate\":\"label=%{label}<br>value=%{value}<br>parent=%{parent}<extra></extra>\",\"labels\":[\"About To Sleep\",\"At Risk\",\"Cannot Lose Them\",\"Champions\",\"Hibernating customers\",\"Lost customers\",\"Loyal\",\"Need Attention\",\"New Customers\",\"Potential Loyalist\",\"Promising\"],\"name\":\"\",\"parents\":[\"\",\"\",\"\",\"\",\"\",\"\",\"\",\"\",\"\",\"\",\"\"],\"values\":[5883,14830,6201,6741,9037,4702,6134,5588,5624,15969,11352],\"type\":\"treemap\",\"textinfo\":\"label+value\"}],                        {\"template\":{\"data\":{\"bar\":[{\"error_x\":{\"color\":\"#2a3f5f\"},\"error_y\":{\"color\":\"#2a3f5f\"},\"marker\":{\"line\":{\"color\":\"#E5ECF6\",\"width\":0.5},\"pattern\":{\"fillmode\":\"overlay\",\"size\":10,\"solidity\":0.2}},\"type\":\"bar\"}],\"barpolar\":[{\"marker\":{\"line\":{\"color\":\"#E5ECF6\",\"width\":0.5},\"pattern\":{\"fillmode\":\"overlay\",\"size\":10,\"solidity\":0.2}},\"type\":\"barpolar\"}],\"carpet\":[{\"aaxis\":{\"endlinecolor\":\"#2a3f5f\",\"gridcolor\":\"white\",\"linecolor\":\"white\",\"minorgridcolor\":\"white\",\"startlinecolor\":\"#2a3f5f\"},\"baxis\":{\"endlinecolor\":\"#2a3f5f\",\"gridcolor\":\"white\",\"linecolor\":\"white\",\"minorgridcolor\":\"white\",\"startlinecolor\":\"#2a3f5f\"},\"type\":\"carpet\"}],\"choropleth\":[{\"colorbar\":{\"outlinewidth\":0,\"ticks\":\"\"},\"type\":\"choropleth\"}],\"contour\":[{\"colorbar\":{\"outlinewidth\":0,\"ticks\":\"\"},\"colorscale\":[[0.0,\"#0d0887\"],[0.1111111111111111,\"#46039f\"],[0.2222222222222222,\"#7201a8\"],[0.3333333333333333,\"#9c179e\"],[0.4444444444444444,\"#bd3786\"],[0.5555555555555556,\"#d8576b\"],[0.6666666666666666,\"#ed7953\"],[0.7777777777777778,\"#fb9f3a\"],[0.8888888888888888,\"#fdca26\"],[1.0,\"#f0f921\"]],\"type\":\"contour\"}],\"contourcarpet\":[{\"colorbar\":{\"outlinewidth\":0,\"ticks\":\"\"},\"type\":\"contourcarpet\"}],\"heatmap\":[{\"colorbar\":{\"outlinewidth\":0,\"ticks\":\"\"},\"colorscale\":[[0.0,\"#0d0887\"],[0.1111111111111111,\"#46039f\"],[0.2222222222222222,\"#7201a8\"],[0.3333333333333333,\"#9c179e\"],[0.4444444444444444,\"#bd3786\"],[0.5555555555555556,\"#d8576b\"],[0.6666666666666666,\"#ed7953\"],[0.7777777777777778,\"#fb9f3a\"],[0.8888888888888888,\"#fdca26\"],[1.0,\"#f0f921\"]],\"type\":\"heatmap\"}],\"heatmapgl\":[{\"colorbar\":{\"outlinewidth\":0,\"ticks\":\"\"},\"colorscale\":[[0.0,\"#0d0887\"],[0.1111111111111111,\"#46039f\"],[0.2222222222222222,\"#7201a8\"],[0.3333333333333333,\"#9c179e\"],[0.4444444444444444,\"#bd3786\"],[0.5555555555555556,\"#d8576b\"],[0.6666666666666666,\"#ed7953\"],[0.7777777777777778,\"#fb9f3a\"],[0.8888888888888888,\"#fdca26\"],[1.0,\"#f0f921\"]],\"type\":\"heatmapgl\"}],\"histogram\":[{\"marker\":{\"pattern\":{\"fillmode\":\"overlay\",\"size\":10,\"solidity\":0.2}},\"type\":\"histogram\"}],\"histogram2d\":[{\"colorbar\":{\"outlinewidth\":0,\"ticks\":\"\"},\"colorscale\":[[0.0,\"#0d0887\"],[0.1111111111111111,\"#46039f\"],[0.2222222222222222,\"#7201a8\"],[0.3333333333333333,\"#9c179e\"],[0.4444444444444444,\"#bd3786\"],[0.5555555555555556,\"#d8576b\"],[0.6666666666666666,\"#ed7953\"],[0.7777777777777778,\"#fb9f3a\"],[0.8888888888888888,\"#fdca26\"],[1.0,\"#f0f921\"]],\"type\":\"histogram2d\"}],\"histogram2dcontour\":[{\"colorbar\":{\"outlinewidth\":0,\"ticks\":\"\"},\"colorscale\":[[0.0,\"#0d0887\"],[0.1111111111111111,\"#46039f\"],[0.2222222222222222,\"#7201a8\"],[0.3333333333333333,\"#9c179e\"],[0.4444444444444444,\"#bd3786\"],[0.5555555555555556,\"#d8576b\"],[0.6666666666666666,\"#ed7953\"],[0.7777777777777778,\"#fb9f3a\"],[0.8888888888888888,\"#fdca26\"],[1.0,\"#f0f921\"]],\"type\":\"histogram2dcontour\"}],\"mesh3d\":[{\"colorbar\":{\"outlinewidth\":0,\"ticks\":\"\"},\"type\":\"mesh3d\"}],\"parcoords\":[{\"line\":{\"colorbar\":{\"outlinewidth\":0,\"ticks\":\"\"}},\"type\":\"parcoords\"}],\"pie\":[{\"automargin\":true,\"type\":\"pie\"}],\"scatter\":[{\"marker\":{\"colorbar\":{\"outlinewidth\":0,\"ticks\":\"\"}},\"type\":\"scatter\"}],\"scatter3d\":[{\"line\":{\"colorbar\":{\"outlinewidth\":0,\"ticks\":\"\"}},\"marker\":{\"colorbar\":{\"outlinewidth\":0,\"ticks\":\"\"}},\"type\":\"scatter3d\"}],\"scattercarpet\":[{\"marker\":{\"colorbar\":{\"outlinewidth\":0,\"ticks\":\"\"}},\"type\":\"scattercarpet\"}],\"scattergeo\":[{\"marker\":{\"colorbar\":{\"outlinewidth\":0,\"ticks\":\"\"}},\"type\":\"scattergeo\"}],\"scattergl\":[{\"marker\":{\"colorbar\":{\"outlinewidth\":0,\"ticks\":\"\"}},\"type\":\"scattergl\"}],\"scattermapbox\":[{\"marker\":{\"colorbar\":{\"outlinewidth\":0,\"ticks\":\"\"}},\"type\":\"scattermapbox\"}],\"scatterpolar\":[{\"marker\":{\"colorbar\":{\"outlinewidth\":0,\"ticks\":\"\"}},\"type\":\"scatterpolar\"}],\"scatterpolargl\":[{\"marker\":{\"colorbar\":{\"outlinewidth\":0,\"ticks\":\"\"}},\"type\":\"scatterpolargl\"}],\"scatterternary\":[{\"marker\":{\"colorbar\":{\"outlinewidth\":0,\"ticks\":\"\"}},\"type\":\"scatterternary\"}],\"surface\":[{\"colorbar\":{\"outlinewidth\":0,\"ticks\":\"\"},\"colorscale\":[[0.0,\"#0d0887\"],[0.1111111111111111,\"#46039f\"],[0.2222222222222222,\"#7201a8\"],[0.3333333333333333,\"#9c179e\"],[0.4444444444444444,\"#bd3786\"],[0.5555555555555556,\"#d8576b\"],[0.6666666666666666,\"#ed7953\"],[0.7777777777777778,\"#fb9f3a\"],[0.8888888888888888,\"#fdca26\"],[1.0,\"#f0f921\"]],\"type\":\"surface\"}],\"table\":[{\"cells\":{\"fill\":{\"color\":\"#EBF0F8\"},\"line\":{\"color\":\"white\"}},\"header\":{\"fill\":{\"color\":\"#C8D4E3\"},\"line\":{\"color\":\"white\"}},\"type\":\"table\"}]},\"layout\":{\"annotationdefaults\":{\"arrowcolor\":\"#2a3f5f\",\"arrowhead\":0,\"arrowwidth\":1},\"autotypenumbers\":\"strict\",\"coloraxis\":{\"colorbar\":{\"outlinewidth\":0,\"ticks\":\"\"}},\"colorscale\":{\"diverging\":[[0,\"#8e0152\"],[0.1,\"#c51b7d\"],[0.2,\"#de77ae\"],[0.3,\"#f1b6da\"],[0.4,\"#fde0ef\"],[0.5,\"#f7f7f7\"],[0.6,\"#e6f5d0\"],[0.7,\"#b8e186\"],[0.8,\"#7fbc41\"],[0.9,\"#4d9221\"],[1,\"#276419\"]],\"sequential\":[[0.0,\"#0d0887\"],[0.1111111111111111,\"#46039f\"],[0.2222222222222222,\"#7201a8\"],[0.3333333333333333,\"#9c179e\"],[0.4444444444444444,\"#bd3786\"],[0.5555555555555556,\"#d8576b\"],[0.6666666666666666,\"#ed7953\"],[0.7777777777777778,\"#fb9f3a\"],[0.8888888888888888,\"#fdca26\"],[1.0,\"#f0f921\"]],\"sequentialminus\":[[0.0,\"#0d0887\"],[0.1111111111111111,\"#46039f\"],[0.2222222222222222,\"#7201a8\"],[0.3333333333333333,\"#9c179e\"],[0.4444444444444444,\"#bd3786\"],[0.5555555555555556,\"#d8576b\"],[0.6666666666666666,\"#ed7953\"],[0.7777777777777778,\"#fb9f3a\"],[0.8888888888888888,\"#fdca26\"],[1.0,\"#f0f921\"]]},\"colorway\":[\"#636efa\",\"#EF553B\",\"#00cc96\",\"#ab63fa\",\"#FFA15A\",\"#19d3f3\",\"#FF6692\",\"#B6E880\",\"#FF97FF\",\"#FECB52\"],\"font\":{\"color\":\"#2a3f5f\"},\"geo\":{\"bgcolor\":\"white\",\"lakecolor\":\"white\",\"landcolor\":\"#E5ECF6\",\"showlakes\":true,\"showland\":true,\"subunitcolor\":\"white\"},\"hoverlabel\":{\"align\":\"left\"},\"hovermode\":\"closest\",\"mapbox\":{\"style\":\"light\"},\"paper_bgcolor\":\"white\",\"plot_bgcolor\":\"#E5ECF6\",\"polar\":{\"angularaxis\":{\"gridcolor\":\"white\",\"linecolor\":\"white\",\"ticks\":\"\"},\"bgcolor\":\"#E5ECF6\",\"radialaxis\":{\"gridcolor\":\"white\",\"linecolor\":\"white\",\"ticks\":\"\"}},\"scene\":{\"xaxis\":{\"backgroundcolor\":\"#E5ECF6\",\"gridcolor\":\"white\",\"gridwidth\":2,\"linecolor\":\"white\",\"showbackground\":true,\"ticks\":\"\",\"zerolinecolor\":\"white\"},\"yaxis\":{\"backgroundcolor\":\"#E5ECF6\",\"gridcolor\":\"white\",\"gridwidth\":2,\"linecolor\":\"white\",\"showbackground\":true,\"ticks\":\"\",\"zerolinecolor\":\"white\"},\"zaxis\":{\"backgroundcolor\":\"#E5ECF6\",\"gridcolor\":\"white\",\"gridwidth\":2,\"linecolor\":\"white\",\"showbackground\":true,\"ticks\":\"\",\"zerolinecolor\":\"white\"}},\"shapedefaults\":{\"line\":{\"color\":\"#2a3f5f\"}},\"ternary\":{\"aaxis\":{\"gridcolor\":\"white\",\"linecolor\":\"white\",\"ticks\":\"\"},\"baxis\":{\"gridcolor\":\"white\",\"linecolor\":\"white\",\"ticks\":\"\"},\"bgcolor\":\"#E5ECF6\",\"caxis\":{\"gridcolor\":\"white\",\"linecolor\":\"white\",\"ticks\":\"\"}},\"title\":{\"x\":0.05},\"xaxis\":{\"automargin\":true,\"gridcolor\":\"white\",\"linecolor\":\"white\",\"ticks\":\"\",\"title\":{\"standoff\":15},\"zerolinecolor\":\"white\",\"zerolinewidth\":2},\"yaxis\":{\"automargin\":true,\"gridcolor\":\"white\",\"linecolor\":\"white\",\"ticks\":\"\",\"title\":{\"standoff\":15},\"zerolinecolor\":\"white\",\"zerolinewidth\":2}}},\"legend\":{\"tracegroupgap\":0},\"margin\":{\"t\":60},\"treemapcolorway\":[\"red\",\"orange\",\"blue\",\"forestgreen\",\"yellow\",\"purple\",\"cornsilk\",\"royalblue\",\"pink\",\"brown\"],\"title\":{\"font\":{\"size\":25},\"text\":\"Recency and Frequency Grid\",\"x\":0.5}},                        {\"responsive\": true}                    ).then(function(){\n",
              "                            \n",
              "var gd = document.getElementById('7f8d123b-15e1-4aab-83a2-c304f7f7e131');\n",
              "var x = new MutationObserver(function (mutations, observer) {{\n",
              "        var display = window.getComputedStyle(gd).display;\n",
              "        if (!display || display === 'none') {{\n",
              "            console.log([gd, 'removed!']);\n",
              "            Plotly.purge(gd);\n",
              "            observer.disconnect();\n",
              "        }}\n",
              "}});\n",
              "\n",
              "// Listen for the removal of the full notebook cells\n",
              "var notebookContainer = gd.closest('#notebook-container');\n",
              "if (notebookContainer) {{\n",
              "    x.observe(notebookContainer, {childList: true});\n",
              "}}\n",
              "\n",
              "// Listen for the clearing of the current output cell\n",
              "var outputEl = gd.closest('.output');\n",
              "if (outputEl) {{\n",
              "    x.observe(outputEl, {childList: true});\n",
              "}}\n",
              "\n",
              "                        })                };                });            </script>        </div>"
            ]
          },
          "metadata": {},
          "output_type": "display_data"
        },
        {
          "data": {
            "text/html": [
              "\n",
              "        <iframe\n",
              "            width=\"100%\"\n",
              "            height=\"650\"\n",
              "            src=\"http://127.0.0.1:8080/\"\n",
              "            frameborder=\"0\"\n",
              "            allowfullscreen\n",
              "            \n",
              "        ></iframe>\n",
              "        "
            ],
            "text/plain": [
              "<IPython.lib.display.IFrame at 0x1bfd31142b0>"
            ]
          },
          "metadata": {},
          "output_type": "display_data"
        }
      ],
      "source": [
        "####Partie Dash\n",
        "import plotly.express as px\n",
        "from dash import dash_table\n",
        "import dash_bootstrap_components as dbc\n",
        "from dash.dependencies import Input, Output\n",
        "import plotly.graph_objs as go\n",
        "# Créer un countplot pour les catégories de produits avec Plotly Express\n",
        "best_selling_categories = px.bar(products_customers_orders['product_category_name_english'].value_counts(), orientation='h', template='ggplot2')\n",
        "best_selling_categories.update_layout(showlegend=False)\n",
        "# Ajouter des détails au tracé\n",
        "best_selling_categories.update_layout(\n",
        "    title='Répartition des produits par catégorie',\n",
        "    xaxis_title='Nombre de produits',\n",
        "    yaxis_title='Catégorie de produit'\n",
        ")\n",
        "\n",
        "\n",
        "payment_percentage = (products_customers_orders['payment_type'].value_counts() / len(products_customers_orders['payment_type'])) * 100\n",
        "payment_types = px.bar(payment_percentage, template='ggplot2', text=payment_percentage.apply(lambda x: f'{x:.2f}%'))\n",
        "payment_types.update_layout(\n",
        "    title='Répartition des types de paiement',\n",
        "    xaxis_title='Type de paiement',\n",
        "    yaxis_title='Nombre de transactions',\n",
        "    showlegend=False\n",
        ")\n",
        "\n",
        "# Créer une liste des années disponibles dans les données\n",
        "available_years = products_customers_orders['order_purchase_year'].unique()\n",
        "\n",
        "# Nombre de clients en 2017\n",
        "nombre_clients_2017 = df[df['order_purchase_year'] == 2017]['customer_unique_id'].nunique()\n",
        "nombre_clients_2018 = df[df['order_purchase_year'] == 2018]['customer_unique_id'].nunique()\n",
        "\n",
        "\n",
        "\n",
        "\n",
        "fig_treemap = px.treemap(names=RFMStats.Label,\n",
        "                 parents=[\"\"]*len(RFMStats),  # si nécessaire pour structurer en arbre, ajustez en conséquence\n",
        "                 values=RFMStats[\"Recency\"][\"count\"],\n",
        "                 color_discrete_sequence=[\"red\", \"orange\", \"blue\", \"forestgreen\", \"yellow\", \"purple\", \"cornsilk\", \"royalblue\", \"pink\", \"brown\"])\n",
        "fig_treemap.update_traces(textinfo=\"label+value\")\n",
        "fig_treemap.update_layout(title_text=\"Recency and Frequency Grid\", title_x=0.5, title_font=dict(size=25))\n",
        "fig_treemap.show()\n",
        "\n",
        "# Créer une application Dash\n",
        "app = dash.Dash(__name__)\n",
        "\n",
        "# Définir la mise en page de l'application Dash\n",
        "app.layout = html.Div([\n",
        "    html.H1('Brazilian E-Commerce Analysis', style={'text-align':'center'}),\n",
        "    dbc.Row([\n",
        "        dbc.Col(\n",
        "            html.Div([\n",
        "                dcc.Graph(figure=best_selling_categories),  # Premier graphique\n",
        "                dcc.Graph(figure=payment_types, style={'width': '600px', 'height': '300px'})  # Deuxième graphique\n",
        "            ], style={'display': 'flex'}),  # Utiliser la disposition flexbox pour les aligner horizontalement\n",
        "            width=9\n",
        "        )\n",
        "    ]),\n",
        "    html.Div([\n",
        "               html.Div(style={'width': '150px'}),\n",
        "    html.Div([\n",
        "\n",
        "            dbc.Col(\n",
        "            dbc.Card([\n",
        "                dbc.CardHeader(\"Nombre de clients en 2017\"),\n",
        "                dbc.CardBody([\n",
        "                    html.H2(str(nombre_clients_2017), className=\"card-title\")\n",
        "                ])\n",
        "            ]),\n",
        "            width=3\n",
        "      )]),\n",
        "          html.Div(style={'width': '400px'}),\n",
        "    html.Div([\n",
        "            dbc.Col(\n",
        "            dbc.Card([\n",
        "                dbc.CardHeader(\"Nombre de clients en 2018\"),\n",
        "                dbc.CardBody([\n",
        "                    html.H2(str(nombre_clients_2018), className=\"card-title\")\n",
        "                ])\n",
        "            ]),\n",
        "            width=3\n",
        "      )]),\n",
        "              ], style={'display': 'flex'}),\n",
        "    html.Div([\n",
        "            dcc.Dropdown(\n",
        "                id='year-dropdown',\n",
        "                options=[{'label': str(year), 'value': year} for year in available_years],\n",
        "                value=available_years[0],  # Sélectionner la première année par défaut\n",
        "                style={'width': '50%'}\n",
        "            )\n",
        "        ], style={'justify-content': 'center', 'flex-direction': 'column', 'align-items': 'center'}),\n",
        "        html.Div(id='table-container', style={'text-align': 'center', 'flex-direction': 'column', 'align-items': 'center'}),\n",
        "        html.Div(style={'height': '20px'}),\n",
        "        dcc.Dropdown(\n",
        "        id='graph-dropdown',\n",
        "        options=[\n",
        "            {'label': 'rfm[Recency]', 'value': 'graph2'},\n",
        "            {'label': 'rfm[Frequency]', 'value': 'graph3'},\n",
        "            {'label': 'rfm[Monetary]', 'value': 'graph4'},\n",
        "            {'label': 'Distribution of Customers Across Recency Clusters', 'value': 'graph5'}\n",
        "        ],\n",
        "        value='graph2'\n",
        "    ),\n",
        "    dcc.Graph(id='displayed-graph'),\n",
        "\n",
        " html.Div([\n",
        "                dcc.Graph(figure=fig_ratio)\n",
        "\n",
        " ]),\n",
        "  html.Div([\n",
        "                dcc.Graph(figure=fig_treemap)\n",
        "\n",
        " ])\n",
        "\n",
        "\n",
        "\n",
        "    ])\n",
        "\n",
        "@app.callback(\n",
        "    Output('displayed-graph', 'figure'),\n",
        "    [Input('graph-dropdown', 'value')]\n",
        ")\n",
        "def update_graph(selected_graph):\n",
        "    if selected_graph == 'graph2':\n",
        "        return plotly_fig2\n",
        "    elif selected_graph == 'graph3':\n",
        "        return plotly_fig3\n",
        "    elif selected_graph == 'graph4':\n",
        "        return plotly_fig4\n",
        "    elif selected_graph == 'graph5':\n",
        "        return plotly_fig5\n",
        "\n",
        "\n",
        "\n",
        "# Définir une fonction de rappel pour mettre à jour le tableau en fonction de l'année sélectionnée\n",
        "@app.callback(\n",
        "    Output('table-container', 'children'),\n",
        "    [Input('year-dropdown', 'value')]\n",
        ")\n",
        "def update_table(selected_year):\n",
        "    # Filtrer les données pour l'année sélectionnée\n",
        "    filtered_data = df[df['order_purchase_year'] == selected_year]\n",
        "    \n",
        "    # Calculer le chiffre d'affaires par ville pour l'année sélectionnée\n",
        "    revenue_by_city_year = filtered_data.groupby(['customer_city', 'order_purchase_year'])['price'].sum().reset_index()\n",
        "    \n",
        "       # Trier le tableau par \"price\" et réduire sa taille\n",
        "    revenue_by_city_year_sorted = revenue_by_city_year.sort_values(by='price', ascending=False).head(10)\n",
        "    \n",
        "    # Créer un tableau DataTable pour afficher les données\n",
        "    table = dash_table.DataTable(\n",
        "        id='table',\n",
        "        columns=[{'name': col, 'id': col} for col in revenue_by_city_year_sorted.columns],\n",
        "        data=revenue_by_city_year_sorted.to_dict('records'),\n",
        "        style_table={'overflowX': 'scroll'},\n",
        "        style_cell={'textAlign': 'center'},\n",
        "        style_header={'fontWeight': 'bold'}\n",
        "    )\n",
        "    \n",
        "    return table\n",
        "\n",
        "# Exécuter l'application Dash\n",
        "if __name__ == '__main__':\n",
        "    app.run_server(port=8080, debug=True)"
      ]
    }
  ],
  "metadata": {
    "colab": {
      "provenance": []
    },
    "kernelspec": {
      "display_name": "Python 3",
      "name": "python3"
    },
    "language_info": {
      "codemirror_mode": {
        "name": "ipython",
        "version": 3
      },
      "file_extension": ".py",
      "mimetype": "text/x-python",
      "name": "python",
      "nbconvert_exporter": "python",
      "pygments_lexer": "ipython3",
      "version": "3.9.12"
    }
  },
  "nbformat": 4,
  "nbformat_minor": 0
}
